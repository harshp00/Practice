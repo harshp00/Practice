{
  "cells": [
    {
      "metadata": {},
      "cell_type": "markdown",
      "source": "## Pandas Tutorial\n\nPandas is an open source, BSD-licensed library providing high-performance, easy-to-use data structures and data analysis tools for the Python programming language."
    },
    {
      "metadata": {},
      "cell_type": "markdown",
      "source": "Agenda\n\n- What is Data Frames?\n- What is Data Series?\n- Different operation in Pandas"
    },
    {
      "metadata": {
        "trusted": true
      },
      "cell_type": "code",
      "source": "## First step is to import pandas\n\nimport pandas as pd\nimport numpy as np",
      "execution_count": 1,
      "outputs": []
    },
    {
      "metadata": {
        "trusted": true
      },
      "cell_type": "code",
      "source": "## Playing with Dataframe\n\ndf=pd.DataFrame(np.arange(0,24).reshape(6,4),index=['Row1','Row2','Row3','Row4','Row5','Row6'],columns=[\"Column1\",\"Column2\",\"Column3\",\"Coumn4\"])",
      "execution_count": 2,
      "outputs": []
    },
    {
      "metadata": {
        "trusted": true
      },
      "cell_type": "code",
      "source": "df.head()",
      "execution_count": 3,
      "outputs": [
        {
          "output_type": "execute_result",
          "execution_count": 3,
          "data": {
            "text/html": "<div>\n<table border=\"1\" class=\"dataframe\">\n  <thead>\n    <tr style=\"text-align: right;\">\n      <th></th>\n      <th>Column1</th>\n      <th>Column2</th>\n      <th>Column3</th>\n      <th>Coumn4</th>\n    </tr>\n  </thead>\n  <tbody>\n    <tr>\n      <th>Row1</th>\n      <td>0</td>\n      <td>1</td>\n      <td>2</td>\n      <td>3</td>\n    </tr>\n    <tr>\n      <th>Row2</th>\n      <td>4</td>\n      <td>5</td>\n      <td>6</td>\n      <td>7</td>\n    </tr>\n    <tr>\n      <th>Row3</th>\n      <td>8</td>\n      <td>9</td>\n      <td>10</td>\n      <td>11</td>\n    </tr>\n    <tr>\n      <th>Row4</th>\n      <td>12</td>\n      <td>13</td>\n      <td>14</td>\n      <td>15</td>\n    </tr>\n    <tr>\n      <th>Row5</th>\n      <td>16</td>\n      <td>17</td>\n      <td>18</td>\n      <td>19</td>\n    </tr>\n  </tbody>\n</table>\n</div>",
            "text/plain": "      Column1  Column2  Column3  Coumn4\nRow1        0        1        2       3\nRow2        4        5        6       7\nRow3        8        9       10      11\nRow4       12       13       14      15\nRow5       16       17       18      19"
          },
          "metadata": {}
        }
      ]
    },
    {
      "metadata": {
        "trusted": true
      },
      "cell_type": "code",
      "source": "## Accessing the elements\n\ndf.loc['Row4']",
      "execution_count": 4,
      "outputs": [
        {
          "output_type": "execute_result",
          "execution_count": 4,
          "data": {
            "text/plain": "Column1    12\nColumn2    13\nColumn3    14\nCoumn4     15\nName: Row4, dtype: int64"
          },
          "metadata": {}
        }
      ]
    },
    {
      "metadata": {
        "trusted": true
      },
      "cell_type": "code",
      "source": "## Check the type\n\ntype(df.loc['Row1'])",
      "execution_count": 10,
      "outputs": [
        {
          "output_type": "execute_result",
          "execution_count": 10,
          "data": {
            "text/plain": "pandas.core.series.Series"
          },
          "metadata": {}
        }
      ]
    },
    {
      "metadata": {
        "trusted": true
      },
      "cell_type": "code",
      "source": "df.loc[['Row1','Row2']]#write in a list ",
      "execution_count": 15,
      "outputs": [
        {
          "output_type": "execute_result",
          "execution_count": 15,
          "data": {
            "text/plain": "      Column1  Column2  Column3  Coumn4\nRow1        0        1        2       3\nRow2        4        5        6       7",
            "text/html": "<div>\n<table border=\"1\" class=\"dataframe\">\n  <thead>\n    <tr style=\"text-align: right;\">\n      <th></th>\n      <th>Column1</th>\n      <th>Column2</th>\n      <th>Column3</th>\n      <th>Coumn4</th>\n    </tr>\n  </thead>\n  <tbody>\n    <tr>\n      <th>Row1</th>\n      <td>0</td>\n      <td>1</td>\n      <td>2</td>\n      <td>3</td>\n    </tr>\n    <tr>\n      <th>Row2</th>\n      <td>4</td>\n      <td>5</td>\n      <td>6</td>\n      <td>7</td>\n    </tr>\n  </tbody>\n</table>\n</div>"
          },
          "metadata": {}
        }
      ]
    },
    {
      "metadata": {
        "trusted": true
      },
      "cell_type": "code",
      "source": "df.iloc[:,:]\n#type(df.iloc[:,1:])",
      "execution_count": 6,
      "outputs": [
        {
          "output_type": "execute_result",
          "execution_count": 6,
          "data": {
            "text/html": "<div>\n<table border=\"1\" class=\"dataframe\">\n  <thead>\n    <tr style=\"text-align: right;\">\n      <th></th>\n      <th>Column1</th>\n      <th>Column2</th>\n      <th>Column3</th>\n      <th>Coumn4</th>\n    </tr>\n  </thead>\n  <tbody>\n    <tr>\n      <th>Row1</th>\n      <td>0</td>\n      <td>1</td>\n      <td>2</td>\n      <td>3</td>\n    </tr>\n    <tr>\n      <th>Row2</th>\n      <td>4</td>\n      <td>5</td>\n      <td>6</td>\n      <td>7</td>\n    </tr>\n    <tr>\n      <th>Row3</th>\n      <td>8</td>\n      <td>9</td>\n      <td>10</td>\n      <td>11</td>\n    </tr>\n    <tr>\n      <th>Row4</th>\n      <td>12</td>\n      <td>13</td>\n      <td>14</td>\n      <td>15</td>\n    </tr>\n    <tr>\n      <th>Row5</th>\n      <td>16</td>\n      <td>17</td>\n      <td>18</td>\n      <td>19</td>\n    </tr>\n    <tr>\n      <th>Row6</th>\n      <td>20</td>\n      <td>21</td>\n      <td>22</td>\n      <td>23</td>\n    </tr>\n  </tbody>\n</table>\n</div>",
            "text/plain": "      Column1  Column2  Column3  Coumn4\nRow1        0        1        2       3\nRow2        4        5        6       7\nRow3        8        9       10      11\nRow4       12       13       14      15\nRow5       16       17       18      19\nRow6       20       21       22      23"
          },
          "metadata": {}
        }
      ]
    },
    {
      "metadata": {
        "trusted": false
      },
      "cell_type": "code",
      "source": "## Take the elements from the Column2\ndf.iloc[:,1:]\n",
      "execution_count": 21,
      "outputs": [
        {
          "data": {
            "text/html": "<div>\n<style scoped>\n    .dataframe tbody tr th:only-of-type {\n        vertical-align: middle;\n    }\n\n    .dataframe tbody tr th {\n        vertical-align: top;\n    }\n\n    .dataframe thead th {\n        text-align: right;\n    }\n</style>\n<table border=\"1\" class=\"dataframe\">\n  <thead>\n    <tr style=\"text-align: right;\">\n      <th></th>\n      <th>Column2</th>\n      <th>Column3</th>\n      <th>Coumn4</th>\n    </tr>\n  </thead>\n  <tbody>\n    <tr>\n      <th>Row1</th>\n      <td>1</td>\n      <td>2</td>\n      <td>3</td>\n    </tr>\n    <tr>\n      <th>Row2</th>\n      <td>5</td>\n      <td>6</td>\n      <td>7</td>\n    </tr>\n    <tr>\n      <th>Row3</th>\n      <td>9</td>\n      <td>10</td>\n      <td>11</td>\n    </tr>\n    <tr>\n      <th>Row4</th>\n      <td>13</td>\n      <td>14</td>\n      <td>15</td>\n    </tr>\n    <tr>\n      <th>Row5</th>\n      <td>17</td>\n      <td>18</td>\n      <td>19</td>\n    </tr>\n  </tbody>\n</table>\n</div>",
            "text/plain": "      Column2  Column3  Coumn4\nRow1        1        2       3\nRow2        5        6       7\nRow3        9       10      11\nRow4       13       14      15\nRow5       17       18      19"
          },
          "execution_count": 21,
          "metadata": {},
          "output_type": "execute_result"
        }
      ]
    },
    {
      "metadata": {
        "trusted": true
      },
      "cell_type": "code",
      "source": "#convert Dataframes into array\ndf.iloc[:,:].values",
      "execution_count": 17,
      "outputs": [
        {
          "output_type": "execute_result",
          "execution_count": 17,
          "data": {
            "text/plain": "array([[ 0,  1,  2,  3],\n       [ 4,  5,  6,  7],\n       [ 8,  9, 10, 11],\n       [12, 13, 14, 15],\n       [16, 17, 18, 19],\n       [20, 21, 22, 23]])"
          },
          "metadata": {}
        }
      ]
    },
    {
      "metadata": {
        "trusted": true
      },
      "cell_type": "code",
      "source": "df['Column2'].unique()",
      "execution_count": 25,
      "outputs": [
        {
          "output_type": "execute_result",
          "execution_count": 25,
          "data": {
            "text/plain": "array([ 1,  5,  9, 13, 17, 21])"
          },
          "metadata": {}
        }
      ]
    },
    {
      "metadata": {
        "trusted": true
      },
      "cell_type": "code",
      "source": "df['Column1'].value_counts()",
      "execution_count": 26,
      "outputs": [
        {
          "output_type": "execute_result",
          "execution_count": 26,
          "data": {
            "text/plain": "20    1\n12    1\n4     1\n16    1\n8     1\n0     1\nName: Column1, dtype: int64"
          },
          "metadata": {}
        }
      ]
    },
    {
      "metadata": {
        "trusted": true
      },
      "cell_type": "code",
      "source": "!mkdir data1\n!pwd data1",
      "execution_count": 12,
      "outputs": [
        {
          "output_type": "stream",
          "text": "mkdir: cannot create directory ‘data1’: File exists\n/home/nbuser/library\n",
          "name": "stdout"
        }
      ]
    },
    {
      "metadata": {
        "trusted": true
      },
      "cell_type": "code",
      "source": "!wget https://github.com/krishnaik06/Machine-Learning-in-90-days/raw/master/Section%201-%20Python%20Crash%20Course/wine.csv -P data1",
      "execution_count": 8,
      "outputs": [
        {
          "output_type": "stream",
          "text": "--2020-04-27 17:42:06--  https://github.com/krishnaik06/Machine-Learning-in-90-days/raw/master/Section%201-%20Python%20Crash%20Course/wine.csv\nResolving webproxy (webproxy)... 10.36.29.1\nConnecting to webproxy (webproxy)|10.36.29.1|:3128... connected.\nProxy request sent, awaiting response... 302 Found\nLocation: https://raw.githubusercontent.com/krishnaik06/Machine-Learning-in-90-days/master/Section%201-%20Python%20Crash%20Course/wine.csv [following]\n--2020-04-27 17:42:07--  https://raw.githubusercontent.com/krishnaik06/Machine-Learning-in-90-days/master/Section%201-%20Python%20Crash%20Course/wine.csv\nConnecting to webproxy (webproxy)|10.36.29.1|:3128... connected.\nProxy request sent, awaiting response... 200 OK\nLength: 12208 (12K) [text/plain]\nSaving to: ‘data1/wine.csv’\n\nwine.csv            100%[===================>]  11.92K  --.-KB/s    in 0s      \n\n2020-04-27 17:42:07 (93.0 MB/s) - ‘data1/wine.csv’ saved [12208/12208]\n\n",
          "name": "stdout"
        }
      ]
    },
    {
      "metadata": {
        "trusted": true
      },
      "cell_type": "code",
      "source": "download_data=pd.read_csv('data1/wine.csv')",
      "execution_count": 9,
      "outputs": []
    },
    {
      "metadata": {
        "trusted": true
      },
      "cell_type": "code",
      "source": "download_data.head(10)",
      "execution_count": 10,
      "outputs": [
        {
          "output_type": "execute_result",
          "execution_count": 10,
          "data": {
            "text/plain": "   Unnamed: 0  0      1     2     3     4    5     6     7     8     9    10  \\\n0           0  1  14.23  1.71  2.43  15.6  127  2.80  3.06  0.28  2.29  5.64   \n1           1  1  13.20  1.78  2.14  11.2  100  2.65  2.76  0.26  1.28  4.38   \n2           2  1  13.16  2.36  2.67  18.6  101  2.80  3.24  0.30  2.81  5.68   \n3           3  1  14.37  1.95  2.50  16.8  113  3.85  3.49  0.24  2.18  7.80   \n4           4  1  13.24  2.59  2.87  21.0  118  2.80  2.69  0.39  1.82  4.32   \n5           5  1  14.20  1.76  2.45  15.2  112  3.27  3.39  0.34  1.97  6.75   \n6           6  1  14.39  1.87  2.45  14.6   96  2.50  2.52  0.30  1.98  5.25   \n7           7  1  14.06  2.15  2.61  17.6  121  2.60  2.51  0.31  1.25  5.05   \n8           8  1  14.83  1.64  2.17  14.0   97  2.80  2.98  0.29  1.98  5.20   \n9           9  1  13.86  1.35  2.27  16.0   98  2.98  3.15  0.22  1.85  7.22   \n\n     11    12    13  \n0  1.04  3.92  1065  \n1  1.05  3.40  1050  \n2  1.03  3.17  1185  \n3  0.86  3.45  1480  \n4  1.04  2.93   735  \n5  1.05  2.85  1450  \n6  1.02  3.58  1290  \n7  1.06  3.58  1295  \n8  1.08  2.85  1045  \n9  1.01  3.55  1045  ",
            "text/html": "<div>\n<table border=\"1\" class=\"dataframe\">\n  <thead>\n    <tr style=\"text-align: right;\">\n      <th></th>\n      <th>Unnamed: 0</th>\n      <th>0</th>\n      <th>1</th>\n      <th>2</th>\n      <th>3</th>\n      <th>4</th>\n      <th>5</th>\n      <th>6</th>\n      <th>7</th>\n      <th>8</th>\n      <th>9</th>\n      <th>10</th>\n      <th>11</th>\n      <th>12</th>\n      <th>13</th>\n    </tr>\n  </thead>\n  <tbody>\n    <tr>\n      <th>0</th>\n      <td>0</td>\n      <td>1</td>\n      <td>14.23</td>\n      <td>1.71</td>\n      <td>2.43</td>\n      <td>15.6</td>\n      <td>127</td>\n      <td>2.80</td>\n      <td>3.06</td>\n      <td>0.28</td>\n      <td>2.29</td>\n      <td>5.64</td>\n      <td>1.04</td>\n      <td>3.92</td>\n      <td>1065</td>\n    </tr>\n    <tr>\n      <th>1</th>\n      <td>1</td>\n      <td>1</td>\n      <td>13.20</td>\n      <td>1.78</td>\n      <td>2.14</td>\n      <td>11.2</td>\n      <td>100</td>\n      <td>2.65</td>\n      <td>2.76</td>\n      <td>0.26</td>\n      <td>1.28</td>\n      <td>4.38</td>\n      <td>1.05</td>\n      <td>3.40</td>\n      <td>1050</td>\n    </tr>\n    <tr>\n      <th>2</th>\n      <td>2</td>\n      <td>1</td>\n      <td>13.16</td>\n      <td>2.36</td>\n      <td>2.67</td>\n      <td>18.6</td>\n      <td>101</td>\n      <td>2.80</td>\n      <td>3.24</td>\n      <td>0.30</td>\n      <td>2.81</td>\n      <td>5.68</td>\n      <td>1.03</td>\n      <td>3.17</td>\n      <td>1185</td>\n    </tr>\n    <tr>\n      <th>3</th>\n      <td>3</td>\n      <td>1</td>\n      <td>14.37</td>\n      <td>1.95</td>\n      <td>2.50</td>\n      <td>16.8</td>\n      <td>113</td>\n      <td>3.85</td>\n      <td>3.49</td>\n      <td>0.24</td>\n      <td>2.18</td>\n      <td>7.80</td>\n      <td>0.86</td>\n      <td>3.45</td>\n      <td>1480</td>\n    </tr>\n    <tr>\n      <th>4</th>\n      <td>4</td>\n      <td>1</td>\n      <td>13.24</td>\n      <td>2.59</td>\n      <td>2.87</td>\n      <td>21.0</td>\n      <td>118</td>\n      <td>2.80</td>\n      <td>2.69</td>\n      <td>0.39</td>\n      <td>1.82</td>\n      <td>4.32</td>\n      <td>1.04</td>\n      <td>2.93</td>\n      <td>735</td>\n    </tr>\n    <tr>\n      <th>5</th>\n      <td>5</td>\n      <td>1</td>\n      <td>14.20</td>\n      <td>1.76</td>\n      <td>2.45</td>\n      <td>15.2</td>\n      <td>112</td>\n      <td>3.27</td>\n      <td>3.39</td>\n      <td>0.34</td>\n      <td>1.97</td>\n      <td>6.75</td>\n      <td>1.05</td>\n      <td>2.85</td>\n      <td>1450</td>\n    </tr>\n    <tr>\n      <th>6</th>\n      <td>6</td>\n      <td>1</td>\n      <td>14.39</td>\n      <td>1.87</td>\n      <td>2.45</td>\n      <td>14.6</td>\n      <td>96</td>\n      <td>2.50</td>\n      <td>2.52</td>\n      <td>0.30</td>\n      <td>1.98</td>\n      <td>5.25</td>\n      <td>1.02</td>\n      <td>3.58</td>\n      <td>1290</td>\n    </tr>\n    <tr>\n      <th>7</th>\n      <td>7</td>\n      <td>1</td>\n      <td>14.06</td>\n      <td>2.15</td>\n      <td>2.61</td>\n      <td>17.6</td>\n      <td>121</td>\n      <td>2.60</td>\n      <td>2.51</td>\n      <td>0.31</td>\n      <td>1.25</td>\n      <td>5.05</td>\n      <td>1.06</td>\n      <td>3.58</td>\n      <td>1295</td>\n    </tr>\n    <tr>\n      <th>8</th>\n      <td>8</td>\n      <td>1</td>\n      <td>14.83</td>\n      <td>1.64</td>\n      <td>2.17</td>\n      <td>14.0</td>\n      <td>97</td>\n      <td>2.80</td>\n      <td>2.98</td>\n      <td>0.29</td>\n      <td>1.98</td>\n      <td>5.20</td>\n      <td>1.08</td>\n      <td>2.85</td>\n      <td>1045</td>\n    </tr>\n    <tr>\n      <th>9</th>\n      <td>9</td>\n      <td>1</td>\n      <td>13.86</td>\n      <td>1.35</td>\n      <td>2.27</td>\n      <td>16.0</td>\n      <td>98</td>\n      <td>2.98</td>\n      <td>3.15</td>\n      <td>0.22</td>\n      <td>1.85</td>\n      <td>7.22</td>\n      <td>1.01</td>\n      <td>3.55</td>\n      <td>1045</td>\n    </tr>\n  </tbody>\n</table>\n</div>"
          },
          "metadata": {}
        }
      ]
    },
    {
      "metadata": {
        "trusted": true
      },
      "cell_type": "code",
      "source": "df=pd.read_csv('mercedesbenz.csv')",
      "execution_count": null,
      "outputs": []
    },
    {
      "metadata": {
        "trusted": true
      },
      "cell_type": "code",
      "source": "df.head()",
      "execution_count": 28,
      "outputs": [
        {
          "output_type": "execute_result",
          "execution_count": 28,
          "data": {
            "text/plain": "   ID       y  X0 X1  X2 X3 X4 X5 X6 X8  ...   X375  X376  X377  X378  X379  \\\n0   0  130.81   k  v  at  a  d  u  j  o  ...      0     0     1     0     0   \n1   6   88.53   k  t  av  e  d  y  l  o  ...      1     0     0     0     0   \n2   7   76.26  az  w   n  c  d  x  j  x  ...      0     0     0     0     0   \n3   9   80.62  az  t   n  f  d  x  l  e  ...      0     0     0     0     0   \n4  13   78.02  az  v   n  f  d  h  d  n  ...      0     0     0     0     0   \n\n   X380  X382  X383  X384  X385  \n0     0     0     0     0     0  \n1     0     0     0     0     0  \n2     0     1     0     0     0  \n3     0     0     0     0     0  \n4     0     0     0     0     0  \n\n[5 rows x 378 columns]",
            "text/html": "<div>\n<table border=\"1\" class=\"dataframe\">\n  <thead>\n    <tr style=\"text-align: right;\">\n      <th></th>\n      <th>ID</th>\n      <th>y</th>\n      <th>X0</th>\n      <th>X1</th>\n      <th>X2</th>\n      <th>X3</th>\n      <th>X4</th>\n      <th>X5</th>\n      <th>X6</th>\n      <th>X8</th>\n      <th>...</th>\n      <th>X375</th>\n      <th>X376</th>\n      <th>X377</th>\n      <th>X378</th>\n      <th>X379</th>\n      <th>X380</th>\n      <th>X382</th>\n      <th>X383</th>\n      <th>X384</th>\n      <th>X385</th>\n    </tr>\n  </thead>\n  <tbody>\n    <tr>\n      <th>0</th>\n      <td>0</td>\n      <td>130.81</td>\n      <td>k</td>\n      <td>v</td>\n      <td>at</td>\n      <td>a</td>\n      <td>d</td>\n      <td>u</td>\n      <td>j</td>\n      <td>o</td>\n      <td>...</td>\n      <td>0</td>\n      <td>0</td>\n      <td>1</td>\n      <td>0</td>\n      <td>0</td>\n      <td>0</td>\n      <td>0</td>\n      <td>0</td>\n      <td>0</td>\n      <td>0</td>\n    </tr>\n    <tr>\n      <th>1</th>\n      <td>6</td>\n      <td>88.53</td>\n      <td>k</td>\n      <td>t</td>\n      <td>av</td>\n      <td>e</td>\n      <td>d</td>\n      <td>y</td>\n      <td>l</td>\n      <td>o</td>\n      <td>...</td>\n      <td>1</td>\n      <td>0</td>\n      <td>0</td>\n      <td>0</td>\n      <td>0</td>\n      <td>0</td>\n      <td>0</td>\n      <td>0</td>\n      <td>0</td>\n      <td>0</td>\n    </tr>\n    <tr>\n      <th>2</th>\n      <td>7</td>\n      <td>76.26</td>\n      <td>az</td>\n      <td>w</td>\n      <td>n</td>\n      <td>c</td>\n      <td>d</td>\n      <td>x</td>\n      <td>j</td>\n      <td>x</td>\n      <td>...</td>\n      <td>0</td>\n      <td>0</td>\n      <td>0</td>\n      <td>0</td>\n      <td>0</td>\n      <td>0</td>\n      <td>1</td>\n      <td>0</td>\n      <td>0</td>\n      <td>0</td>\n    </tr>\n    <tr>\n      <th>3</th>\n      <td>9</td>\n      <td>80.62</td>\n      <td>az</td>\n      <td>t</td>\n      <td>n</td>\n      <td>f</td>\n      <td>d</td>\n      <td>x</td>\n      <td>l</td>\n      <td>e</td>\n      <td>...</td>\n      <td>0</td>\n      <td>0</td>\n      <td>0</td>\n      <td>0</td>\n      <td>0</td>\n      <td>0</td>\n      <td>0</td>\n      <td>0</td>\n      <td>0</td>\n      <td>0</td>\n    </tr>\n    <tr>\n      <th>4</th>\n      <td>13</td>\n      <td>78.02</td>\n      <td>az</td>\n      <td>v</td>\n      <td>n</td>\n      <td>f</td>\n      <td>d</td>\n      <td>h</td>\n      <td>d</td>\n      <td>n</td>\n      <td>...</td>\n      <td>0</td>\n      <td>0</td>\n      <td>0</td>\n      <td>0</td>\n      <td>0</td>\n      <td>0</td>\n      <td>0</td>\n      <td>0</td>\n      <td>0</td>\n      <td>0</td>\n    </tr>\n  </tbody>\n</table>\n<p>5 rows × 378 columns</p>\n</div>"
          },
          "metadata": {}
        }
      ]
    },
    {
      "metadata": {
        "trusted": true
      },
      "cell_type": "code",
      "source": "df.info()",
      "execution_count": 29,
      "outputs": [
        {
          "output_type": "stream",
          "text": "<class 'pandas.core.frame.DataFrame'>\nRangeIndex: 4209 entries, 0 to 4208\nColumns: 378 entries, ID to X385\ndtypes: float64(1), int64(369), object(8)\nmemory usage: 12.1+ MB\n",
          "name": "stdout"
        }
      ]
    },
    {
      "metadata": {
        "trusted": true
      },
      "cell_type": "code",
      "source": "df.describe()#category features will be skiped",
      "execution_count": 30,
      "outputs": [
        {
          "output_type": "execute_result",
          "execution_count": 30,
          "data": {
            "text/plain": "                ID            y          X10     X11          X12  \\\ncount  4209.000000  4209.000000  4209.000000  4209.0  4209.000000   \nmean   4205.960798   100.669318     0.013305     0.0     0.075077   \nstd    2437.608688    12.679381     0.114590     0.0     0.263547   \nmin       0.000000    72.110000     0.000000     0.0     0.000000   \n25%    2095.000000    90.820000     0.000000     0.0     0.000000   \n50%    4220.000000    99.150000     0.000000     0.0     0.000000   \n75%    6314.000000   109.010000     0.000000     0.0     0.000000   \nmax    8417.000000   265.320000     1.000000     0.0     1.000000   \n\n               X13          X14          X15          X16          X17  \\\ncount  4209.000000  4209.000000  4209.000000  4209.000000  4209.000000   \nmean      0.057971     0.428130     0.000475     0.002613     0.007603   \nstd       0.233716     0.494867     0.021796     0.051061     0.086872   \nmin       0.000000     0.000000     0.000000     0.000000     0.000000   \n25%       0.000000     0.000000     0.000000     0.000000     0.000000   \n50%       0.000000     0.000000     0.000000     0.000000     0.000000   \n75%       0.000000     1.000000     0.000000     0.000000     0.000000   \nmax       1.000000     1.000000     1.000000     1.000000     1.000000   \n\n          ...              X375         X376         X377         X378  \\\ncount     ...       4209.000000  4209.000000  4209.000000  4209.000000   \nmean      ...          0.318841     0.057258     0.314802     0.020670   \nstd       ...          0.466082     0.232363     0.464492     0.142294   \nmin       ...          0.000000     0.000000     0.000000     0.000000   \n25%       ...          0.000000     0.000000     0.000000     0.000000   \n50%       ...          0.000000     0.000000     0.000000     0.000000   \n75%       ...          1.000000     0.000000     1.000000     0.000000   \nmax       ...          1.000000     1.000000     1.000000     1.000000   \n\n              X379         X380         X382         X383         X384  \\\ncount  4209.000000  4209.000000  4209.000000  4209.000000  4209.000000   \nmean      0.009503     0.008078     0.007603     0.001663     0.000475   \nstd       0.097033     0.089524     0.086872     0.040752     0.021796   \nmin       0.000000     0.000000     0.000000     0.000000     0.000000   \n25%       0.000000     0.000000     0.000000     0.000000     0.000000   \n50%       0.000000     0.000000     0.000000     0.000000     0.000000   \n75%       0.000000     0.000000     0.000000     0.000000     0.000000   \nmax       1.000000     1.000000     1.000000     1.000000     1.000000   \n\n              X385  \ncount  4209.000000  \nmean      0.001426  \nstd       0.037734  \nmin       0.000000  \n25%       0.000000  \n50%       0.000000  \n75%       0.000000  \nmax       1.000000  \n\n[8 rows x 370 columns]",
            "text/html": "<div>\n<table border=\"1\" class=\"dataframe\">\n  <thead>\n    <tr style=\"text-align: right;\">\n      <th></th>\n      <th>ID</th>\n      <th>y</th>\n      <th>X10</th>\n      <th>X11</th>\n      <th>X12</th>\n      <th>X13</th>\n      <th>X14</th>\n      <th>X15</th>\n      <th>X16</th>\n      <th>X17</th>\n      <th>...</th>\n      <th>X375</th>\n      <th>X376</th>\n      <th>X377</th>\n      <th>X378</th>\n      <th>X379</th>\n      <th>X380</th>\n      <th>X382</th>\n      <th>X383</th>\n      <th>X384</th>\n      <th>X385</th>\n    </tr>\n  </thead>\n  <tbody>\n    <tr>\n      <th>count</th>\n      <td>4209.000000</td>\n      <td>4209.000000</td>\n      <td>4209.000000</td>\n      <td>4209.0</td>\n      <td>4209.000000</td>\n      <td>4209.000000</td>\n      <td>4209.000000</td>\n      <td>4209.000000</td>\n      <td>4209.000000</td>\n      <td>4209.000000</td>\n      <td>...</td>\n      <td>4209.000000</td>\n      <td>4209.000000</td>\n      <td>4209.000000</td>\n      <td>4209.000000</td>\n      <td>4209.000000</td>\n      <td>4209.000000</td>\n      <td>4209.000000</td>\n      <td>4209.000000</td>\n      <td>4209.000000</td>\n      <td>4209.000000</td>\n    </tr>\n    <tr>\n      <th>mean</th>\n      <td>4205.960798</td>\n      <td>100.669318</td>\n      <td>0.013305</td>\n      <td>0.0</td>\n      <td>0.075077</td>\n      <td>0.057971</td>\n      <td>0.428130</td>\n      <td>0.000475</td>\n      <td>0.002613</td>\n      <td>0.007603</td>\n      <td>...</td>\n      <td>0.318841</td>\n      <td>0.057258</td>\n      <td>0.314802</td>\n      <td>0.020670</td>\n      <td>0.009503</td>\n      <td>0.008078</td>\n      <td>0.007603</td>\n      <td>0.001663</td>\n      <td>0.000475</td>\n      <td>0.001426</td>\n    </tr>\n    <tr>\n      <th>std</th>\n      <td>2437.608688</td>\n      <td>12.679381</td>\n      <td>0.114590</td>\n      <td>0.0</td>\n      <td>0.263547</td>\n      <td>0.233716</td>\n      <td>0.494867</td>\n      <td>0.021796</td>\n      <td>0.051061</td>\n      <td>0.086872</td>\n      <td>...</td>\n      <td>0.466082</td>\n      <td>0.232363</td>\n      <td>0.464492</td>\n      <td>0.142294</td>\n      <td>0.097033</td>\n      <td>0.089524</td>\n      <td>0.086872</td>\n      <td>0.040752</td>\n      <td>0.021796</td>\n      <td>0.037734</td>\n    </tr>\n    <tr>\n      <th>min</th>\n      <td>0.000000</td>\n      <td>72.110000</td>\n      <td>0.000000</td>\n      <td>0.0</td>\n      <td>0.000000</td>\n      <td>0.000000</td>\n      <td>0.000000</td>\n      <td>0.000000</td>\n      <td>0.000000</td>\n      <td>0.000000</td>\n      <td>...</td>\n      <td>0.000000</td>\n      <td>0.000000</td>\n      <td>0.000000</td>\n      <td>0.000000</td>\n      <td>0.000000</td>\n      <td>0.000000</td>\n      <td>0.000000</td>\n      <td>0.000000</td>\n      <td>0.000000</td>\n      <td>0.000000</td>\n    </tr>\n    <tr>\n      <th>25%</th>\n      <td>2095.000000</td>\n      <td>90.820000</td>\n      <td>0.000000</td>\n      <td>0.0</td>\n      <td>0.000000</td>\n      <td>0.000000</td>\n      <td>0.000000</td>\n      <td>0.000000</td>\n      <td>0.000000</td>\n      <td>0.000000</td>\n      <td>...</td>\n      <td>0.000000</td>\n      <td>0.000000</td>\n      <td>0.000000</td>\n      <td>0.000000</td>\n      <td>0.000000</td>\n      <td>0.000000</td>\n      <td>0.000000</td>\n      <td>0.000000</td>\n      <td>0.000000</td>\n      <td>0.000000</td>\n    </tr>\n    <tr>\n      <th>50%</th>\n      <td>4220.000000</td>\n      <td>99.150000</td>\n      <td>0.000000</td>\n      <td>0.0</td>\n      <td>0.000000</td>\n      <td>0.000000</td>\n      <td>0.000000</td>\n      <td>0.000000</td>\n      <td>0.000000</td>\n      <td>0.000000</td>\n      <td>...</td>\n      <td>0.000000</td>\n      <td>0.000000</td>\n      <td>0.000000</td>\n      <td>0.000000</td>\n      <td>0.000000</td>\n      <td>0.000000</td>\n      <td>0.000000</td>\n      <td>0.000000</td>\n      <td>0.000000</td>\n      <td>0.000000</td>\n    </tr>\n    <tr>\n      <th>75%</th>\n      <td>6314.000000</td>\n      <td>109.010000</td>\n      <td>0.000000</td>\n      <td>0.0</td>\n      <td>0.000000</td>\n      <td>0.000000</td>\n      <td>1.000000</td>\n      <td>0.000000</td>\n      <td>0.000000</td>\n      <td>0.000000</td>\n      <td>...</td>\n      <td>1.000000</td>\n      <td>0.000000</td>\n      <td>1.000000</td>\n      <td>0.000000</td>\n      <td>0.000000</td>\n      <td>0.000000</td>\n      <td>0.000000</td>\n      <td>0.000000</td>\n      <td>0.000000</td>\n      <td>0.000000</td>\n    </tr>\n    <tr>\n      <th>max</th>\n      <td>8417.000000</td>\n      <td>265.320000</td>\n      <td>1.000000</td>\n      <td>0.0</td>\n      <td>1.000000</td>\n      <td>1.000000</td>\n      <td>1.000000</td>\n      <td>1.000000</td>\n      <td>1.000000</td>\n      <td>1.000000</td>\n      <td>...</td>\n      <td>1.000000</td>\n      <td>1.000000</td>\n      <td>1.000000</td>\n      <td>1.000000</td>\n      <td>1.000000</td>\n      <td>1.000000</td>\n      <td>1.000000</td>\n      <td>1.000000</td>\n      <td>1.000000</td>\n      <td>1.000000</td>\n    </tr>\n  </tbody>\n</table>\n<p>8 rows × 370 columns</p>\n</div>"
          },
          "metadata": {}
        }
      ]
    },
    {
      "metadata": {
        "trusted": true
      },
      "cell_type": "code",
      "source": "#Get the unique category counts\ndf['X0'].value_counts()",
      "execution_count": 31,
      "outputs": [
        {
          "output_type": "execute_result",
          "execution_count": 31,
          "data": {
            "text/plain": "z     360\nak    349\ny     324\nay    313\nt     306\nx     300\no     269\nf     227\nn     195\nw     182\nj     181\naz    175\naj    151\ns     106\nap    103\nh      75\nd      73\nal     67\nv      36\naf     35\nai     34\nm      34\ne      32\nba     27\nat     25\na      21\nax     19\nam     18\naq     18\ni      18\nu      17\nl      16\naw     16\nad     14\nau     11\nb      11\nk      11\nas     10\nr      10\nbc      6\nao      4\nc       3\naa      2\nq       2\nac      1\nab      1\ng       1\nName: X0, dtype: int64"
          },
          "metadata": {}
        }
      ]
    },
    {
      "metadata": {
        "trusted": true
      },
      "cell_type": "code",
      "source": "df[df['y']>100]",
      "execution_count": 32,
      "outputs": [
        {
          "output_type": "execute_result",
          "execution_count": 32,
          "data": {
            "text/plain": "        ID       y  X0  X1  X2 X3 X4  X5 X6 X8  ...   X375  X376  X377  X378  \\\n0        0  130.81   k   v  at  a  d   u  j  o  ...      0     0     1     0   \n6       24  128.76  al   r   e  f  d   f  h  s  ...      0     0     0     0   \n8       27  108.67   w   s  as  e  d   f  i  h  ...      1     0     0     0   \n9       30  126.99   j   b  aq  c  d   f  a  e  ...      0     0     1     0   \n10      31  102.09   h   r   r  f  d   f  h  p  ...      0     0     0     0   \n16      39  106.10  al   r   e  f  d   j  h  o  ...      0     0     0     0   \n17      40  114.13  ay  aa  as  c  d   j  c  d  ...      0     0     1     0   \n22      50  108.14   x   r   a  b  d   j  j  o  ...      1     0     0     0   \n23      52  120.77   x   b   m  c  d   j  j  n  ...      0     0     1     0   \n26      61  104.07  aj   l  as  f  d   j  g  j  ...      0     0     0     0   \n29      67  128.19   x   b   m  c  d   j  j  n  ...      0     0     1     0   \n31      70  107.86   w   e  as  c  d   j  l  w  ...      0     0     1     0   \n32      74  106.87   x   b   m  c  d   j  j  n  ...      0     0     1     0   \n33      75  104.85   o   s  as  d  d   j  a  v  ...      1     0     0     0   \n34      79  114.78  ak   s  as  c  d   j  j  b  ...      1     0     0     0   \n37      86  117.31   j   v   k  d  d   j  j  j  ...      0     0     0     0   \n39      92  110.76   w   s  as  c  d   j  j  k  ...      1     0     0     0   \n40     100  101.44  aj   l  as  f  d   j  i  n  ...      0     0     0     0   \n43     107  139.20   w   s  as  c  d   j  i  q  ...      1     0     0     0   \n45     109  110.52   x   b   m  c  d   j  j  n  ...      0     0     1     0   \n49     119  108.00  at   j  ai  b  d   j  d  i  ...      0     0     0     0   \n50     124  116.59   w   w  as  f  d   j  l  e  ...      1     0     0     0   \n52     127  119.44  ap   l   s  c  d   j  d  h  ...      0     0     0     0   \n57     133  108.42   w   u  as  c  d   j  i  s  ...      1     0     0     0   \n60     139  104.78  ay   b  ak  c  d   j  c  v  ...      0     0     1     0   \n63     145  111.74  ak   p  ak  c  d   j  d  v  ...      1     0     0     0   \n64     146  109.76   x   b  as  c  d   j  j  j  ...      0     0     1     0   \n67     151  107.72   w   s  as  c  d   j  j  u  ...      1     0     0     0   \n69     153  118.24  aj   s  as  c  d   j  g  a  ...      1     0     0     0   \n71     158  113.40  ak   s  as  c  d   j  g  a  ...      1     0     0     0   \n...    ...     ...  ..  ..  .. .. ..  .. .. ..  ...    ...   ...   ...   ...   \n4138  8270  107.29   f   l  ae  f  d  aa  d  b  ...      0     0     0     0   \n4139  8273  104.26   w   s  as  e  d  aa  a  v  ...      1     0     0     0   \n4142  8284  106.30  ak   s  as  c  d  aa  l  h  ...      1     0     0     0   \n4148  8293  106.53   x  aa  as  c  d  aa  j  d  ...      1     0     0     0   \n4149  8295  111.15   w   s  as  c  d  aa  i  e  ...      1     0     0     0   \n4150  8297  105.61  ak   l  as  f  d  aa  g  i  ...      0     0     0     0   \n4152  8300  103.62   x   r  aw  d  d  aa  l  w  ...      1     0     0     0   \n4155  8304  106.34   w   s  as  a  d  aa  c  p  ...      0     0     1     0   \n4160  8310  108.75   j   r   t  d  d  aa  j  h  ...      0     1     0     0   \n4163  8313  104.42   j   r   t  d  d  aa  j  h  ...      0     1     0     0   \n4165  8322  105.10   x   v   e  c  d  aa  g  s  ...      0     0     0     0   \n4171  8336  118.81   x   z   m  c  d  aa  a  c  ...      1     0     0     0   \n4173  8340  101.86  ak   v  aw  c  d  aa  k  n  ...      0     0     0     0   \n4174  8342  104.29  ak   s  as  c  d  aa  c  j  ...      1     0     0     0   \n4176  8344  149.52  ak   l  as  a  d  aa  j  r  ...      0     0     1     0   \n4177  8348  106.61   j   r   t  d  d  aa  h  h  ...      0     1     0     0   \n4184  8368  109.00   w   s  as  c  d  aa  d  i  ...      1     0     0     0   \n4185  8369  109.64  ak   v  ao  d  d  aa  g  p  ...      0     1     0     0   \n4186  8371  131.98   j   f  ar  a  d  aa  j  n  ...      0     0     1     0   \n4188  8374  102.33   f   s  as  a  d  aa  d  t  ...      0     0     1     0   \n4189  8375  102.42  aj   s  as  c  d  aa  d  q  ...      1     0     0     0   \n4192  8383  103.03  aj   l  as  f  d  aa  j  n  ...      0     0     0     0   \n4193  8384  107.24  ak   v  aw  c  d  aa  d  r  ...      0     0     0     0   \n4200  8397  108.59   z  aa   e  c  d  aa  i  w  ...      1     0     0     0   \n4201  8399  107.39   w   v   t  d  d  aa  h  g  ...      0     1     0     0   \n4202  8402  123.34  ap   l   s  c  d  aa  d  r  ...      0     0     0     0   \n4204  8405  107.39  ak   s  as  c  d  aa  d  q  ...      1     0     0     0   \n4205  8406  108.77   j   o   t  d  d  aa  h  h  ...      0     1     0     0   \n4206  8412  109.22  ak   v   r  a  d  aa  g  e  ...      0     0     1     0   \n4208  8417  110.85   z   r  ae  c  d  aa  g  w  ...      1     0     0     0   \n\n      X379  X380  X382  X383  X384  X385  \n0        0     0     0     0     0     0  \n6        0     0     0     0     0     0  \n8        0     0     0     0     0     0  \n9        0     0     0     0     0     0  \n10       0     0     0     0     0     0  \n16       0     0     0     0     0     0  \n17       0     0     0     0     0     0  \n22       0     0     0     0     0     0  \n23       0     0     0     0     0     0  \n26       0     0     0     0     0     0  \n29       0     0     0     0     0     0  \n31       0     0     0     0     0     0  \n32       0     0     0     0     0     0  \n33       0     0     0     0     0     0  \n34       0     0     0     0     0     0  \n37       0     1     0     0     0     0  \n39       0     0     0     0     0     0  \n40       0     0     0     0     0     0  \n43       0     0     0     0     0     0  \n45       0     0     0     0     0     0  \n49       0     0     0     0     0     0  \n50       0     0     0     0     0     0  \n52       0     0     0     0     0     0  \n57       0     0     0     0     0     0  \n60       0     0     0     0     0     0  \n63       0     0     0     0     0     0  \n64       0     0     0     0     0     0  \n67       0     0     0     0     0     0  \n69       0     0     0     0     0     0  \n71       0     0     0     0     0     0  \n...    ...   ...   ...   ...   ...   ...  \n4138     0     0     0     0     0     0  \n4139     0     0     0     0     0     0  \n4142     0     0     0     0     0     0  \n4148     0     0     0     0     0     0  \n4149     0     0     0     0     0     0  \n4150     0     0     0     0     0     0  \n4152     0     0     0     0     0     0  \n4155     0     0     0     0     0     0  \n4160     0     0     0     0     0     0  \n4163     0     0     0     0     0     0  \n4165     1     0     0     0     0     0  \n4171     0     0     0     0     0     0  \n4173     0     0     0     0     0     0  \n4174     0     0     0     0     0     0  \n4176     0     0     0     0     0     0  \n4177     0     0     0     0     0     0  \n4184     0     0     0     0     0     0  \n4185     0     0     0     0     0     0  \n4186     0     0     0     0     0     0  \n4188     0     0     0     0     0     0  \n4189     0     0     0     0     0     0  \n4192     0     0     0     0     0     0  \n4193     0     0     0     0     0     0  \n4200     0     0     0     0     0     0  \n4201     0     0     0     0     0     0  \n4202     0     0     0     0     0     0  \n4204     0     0     0     0     0     0  \n4205     0     0     0     0     0     0  \n4206     0     0     0     0     0     0  \n4208     0     0     0     0     0     0  \n\n[2004 rows x 378 columns]",
            "text/html": "<div>\n<table border=\"1\" class=\"dataframe\">\n  <thead>\n    <tr style=\"text-align: right;\">\n      <th></th>\n      <th>ID</th>\n      <th>y</th>\n      <th>X0</th>\n      <th>X1</th>\n      <th>X2</th>\n      <th>X3</th>\n      <th>X4</th>\n      <th>X5</th>\n      <th>X6</th>\n      <th>X8</th>\n      <th>...</th>\n      <th>X375</th>\n      <th>X376</th>\n      <th>X377</th>\n      <th>X378</th>\n      <th>X379</th>\n      <th>X380</th>\n      <th>X382</th>\n      <th>X383</th>\n      <th>X384</th>\n      <th>X385</th>\n    </tr>\n  </thead>\n  <tbody>\n    <tr>\n      <th>0</th>\n      <td>0</td>\n      <td>130.81</td>\n      <td>k</td>\n      <td>v</td>\n      <td>at</td>\n      <td>a</td>\n      <td>d</td>\n      <td>u</td>\n      <td>j</td>\n      <td>o</td>\n      <td>...</td>\n      <td>0</td>\n      <td>0</td>\n      <td>1</td>\n      <td>0</td>\n      <td>0</td>\n      <td>0</td>\n      <td>0</td>\n      <td>0</td>\n      <td>0</td>\n      <td>0</td>\n    </tr>\n    <tr>\n      <th>6</th>\n      <td>24</td>\n      <td>128.76</td>\n      <td>al</td>\n      <td>r</td>\n      <td>e</td>\n      <td>f</td>\n      <td>d</td>\n      <td>f</td>\n      <td>h</td>\n      <td>s</td>\n      <td>...</td>\n      <td>0</td>\n      <td>0</td>\n      <td>0</td>\n      <td>0</td>\n      <td>0</td>\n      <td>0</td>\n      <td>0</td>\n      <td>0</td>\n      <td>0</td>\n      <td>0</td>\n    </tr>\n    <tr>\n      <th>8</th>\n      <td>27</td>\n      <td>108.67</td>\n      <td>w</td>\n      <td>s</td>\n      <td>as</td>\n      <td>e</td>\n      <td>d</td>\n      <td>f</td>\n      <td>i</td>\n      <td>h</td>\n      <td>...</td>\n      <td>1</td>\n      <td>0</td>\n      <td>0</td>\n      <td>0</td>\n      <td>0</td>\n      <td>0</td>\n      <td>0</td>\n      <td>0</td>\n      <td>0</td>\n      <td>0</td>\n    </tr>\n    <tr>\n      <th>9</th>\n      <td>30</td>\n      <td>126.99</td>\n      <td>j</td>\n      <td>b</td>\n      <td>aq</td>\n      <td>c</td>\n      <td>d</td>\n      <td>f</td>\n      <td>a</td>\n      <td>e</td>\n      <td>...</td>\n      <td>0</td>\n      <td>0</td>\n      <td>1</td>\n      <td>0</td>\n      <td>0</td>\n      <td>0</td>\n      <td>0</td>\n      <td>0</td>\n      <td>0</td>\n      <td>0</td>\n    </tr>\n    <tr>\n      <th>10</th>\n      <td>31</td>\n      <td>102.09</td>\n      <td>h</td>\n      <td>r</td>\n      <td>r</td>\n      <td>f</td>\n      <td>d</td>\n      <td>f</td>\n      <td>h</td>\n      <td>p</td>\n      <td>...</td>\n      <td>0</td>\n      <td>0</td>\n      <td>0</td>\n      <td>0</td>\n      <td>0</td>\n      <td>0</td>\n      <td>0</td>\n      <td>0</td>\n      <td>0</td>\n      <td>0</td>\n    </tr>\n    <tr>\n      <th>16</th>\n      <td>39</td>\n      <td>106.10</td>\n      <td>al</td>\n      <td>r</td>\n      <td>e</td>\n      <td>f</td>\n      <td>d</td>\n      <td>j</td>\n      <td>h</td>\n      <td>o</td>\n      <td>...</td>\n      <td>0</td>\n      <td>0</td>\n      <td>0</td>\n      <td>0</td>\n      <td>0</td>\n      <td>0</td>\n      <td>0</td>\n      <td>0</td>\n      <td>0</td>\n      <td>0</td>\n    </tr>\n    <tr>\n      <th>17</th>\n      <td>40</td>\n      <td>114.13</td>\n      <td>ay</td>\n      <td>aa</td>\n      <td>as</td>\n      <td>c</td>\n      <td>d</td>\n      <td>j</td>\n      <td>c</td>\n      <td>d</td>\n      <td>...</td>\n      <td>0</td>\n      <td>0</td>\n      <td>1</td>\n      <td>0</td>\n      <td>0</td>\n      <td>0</td>\n      <td>0</td>\n      <td>0</td>\n      <td>0</td>\n      <td>0</td>\n    </tr>\n    <tr>\n      <th>22</th>\n      <td>50</td>\n      <td>108.14</td>\n      <td>x</td>\n      <td>r</td>\n      <td>a</td>\n      <td>b</td>\n      <td>d</td>\n      <td>j</td>\n      <td>j</td>\n      <td>o</td>\n      <td>...</td>\n      <td>1</td>\n      <td>0</td>\n      <td>0</td>\n      <td>0</td>\n      <td>0</td>\n      <td>0</td>\n      <td>0</td>\n      <td>0</td>\n      <td>0</td>\n      <td>0</td>\n    </tr>\n    <tr>\n      <th>23</th>\n      <td>52</td>\n      <td>120.77</td>\n      <td>x</td>\n      <td>b</td>\n      <td>m</td>\n      <td>c</td>\n      <td>d</td>\n      <td>j</td>\n      <td>j</td>\n      <td>n</td>\n      <td>...</td>\n      <td>0</td>\n      <td>0</td>\n      <td>1</td>\n      <td>0</td>\n      <td>0</td>\n      <td>0</td>\n      <td>0</td>\n      <td>0</td>\n      <td>0</td>\n      <td>0</td>\n    </tr>\n    <tr>\n      <th>26</th>\n      <td>61</td>\n      <td>104.07</td>\n      <td>aj</td>\n      <td>l</td>\n      <td>as</td>\n      <td>f</td>\n      <td>d</td>\n      <td>j</td>\n      <td>g</td>\n      <td>j</td>\n      <td>...</td>\n      <td>0</td>\n      <td>0</td>\n      <td>0</td>\n      <td>0</td>\n      <td>0</td>\n      <td>0</td>\n      <td>0</td>\n      <td>0</td>\n      <td>0</td>\n      <td>0</td>\n    </tr>\n    <tr>\n      <th>29</th>\n      <td>67</td>\n      <td>128.19</td>\n      <td>x</td>\n      <td>b</td>\n      <td>m</td>\n      <td>c</td>\n      <td>d</td>\n      <td>j</td>\n      <td>j</td>\n      <td>n</td>\n      <td>...</td>\n      <td>0</td>\n      <td>0</td>\n      <td>1</td>\n      <td>0</td>\n      <td>0</td>\n      <td>0</td>\n      <td>0</td>\n      <td>0</td>\n      <td>0</td>\n      <td>0</td>\n    </tr>\n    <tr>\n      <th>31</th>\n      <td>70</td>\n      <td>107.86</td>\n      <td>w</td>\n      <td>e</td>\n      <td>as</td>\n      <td>c</td>\n      <td>d</td>\n      <td>j</td>\n      <td>l</td>\n      <td>w</td>\n      <td>...</td>\n      <td>0</td>\n      <td>0</td>\n      <td>1</td>\n      <td>0</td>\n      <td>0</td>\n      <td>0</td>\n      <td>0</td>\n      <td>0</td>\n      <td>0</td>\n      <td>0</td>\n    </tr>\n    <tr>\n      <th>32</th>\n      <td>74</td>\n      <td>106.87</td>\n      <td>x</td>\n      <td>b</td>\n      <td>m</td>\n      <td>c</td>\n      <td>d</td>\n      <td>j</td>\n      <td>j</td>\n      <td>n</td>\n      <td>...</td>\n      <td>0</td>\n      <td>0</td>\n      <td>1</td>\n      <td>0</td>\n      <td>0</td>\n      <td>0</td>\n      <td>0</td>\n      <td>0</td>\n      <td>0</td>\n      <td>0</td>\n    </tr>\n    <tr>\n      <th>33</th>\n      <td>75</td>\n      <td>104.85</td>\n      <td>o</td>\n      <td>s</td>\n      <td>as</td>\n      <td>d</td>\n      <td>d</td>\n      <td>j</td>\n      <td>a</td>\n      <td>v</td>\n      <td>...</td>\n      <td>1</td>\n      <td>0</td>\n      <td>0</td>\n      <td>0</td>\n      <td>0</td>\n      <td>0</td>\n      <td>0</td>\n      <td>0</td>\n      <td>0</td>\n      <td>0</td>\n    </tr>\n    <tr>\n      <th>34</th>\n      <td>79</td>\n      <td>114.78</td>\n      <td>ak</td>\n      <td>s</td>\n      <td>as</td>\n      <td>c</td>\n      <td>d</td>\n      <td>j</td>\n      <td>j</td>\n      <td>b</td>\n      <td>...</td>\n      <td>1</td>\n      <td>0</td>\n      <td>0</td>\n      <td>0</td>\n      <td>0</td>\n      <td>0</td>\n      <td>0</td>\n      <td>0</td>\n      <td>0</td>\n      <td>0</td>\n    </tr>\n    <tr>\n      <th>37</th>\n      <td>86</td>\n      <td>117.31</td>\n      <td>j</td>\n      <td>v</td>\n      <td>k</td>\n      <td>d</td>\n      <td>d</td>\n      <td>j</td>\n      <td>j</td>\n      <td>j</td>\n      <td>...</td>\n      <td>0</td>\n      <td>0</td>\n      <td>0</td>\n      <td>0</td>\n      <td>0</td>\n      <td>1</td>\n      <td>0</td>\n      <td>0</td>\n      <td>0</td>\n      <td>0</td>\n    </tr>\n    <tr>\n      <th>39</th>\n      <td>92</td>\n      <td>110.76</td>\n      <td>w</td>\n      <td>s</td>\n      <td>as</td>\n      <td>c</td>\n      <td>d</td>\n      <td>j</td>\n      <td>j</td>\n      <td>k</td>\n      <td>...</td>\n      <td>1</td>\n      <td>0</td>\n      <td>0</td>\n      <td>0</td>\n      <td>0</td>\n      <td>0</td>\n      <td>0</td>\n      <td>0</td>\n      <td>0</td>\n      <td>0</td>\n    </tr>\n    <tr>\n      <th>40</th>\n      <td>100</td>\n      <td>101.44</td>\n      <td>aj</td>\n      <td>l</td>\n      <td>as</td>\n      <td>f</td>\n      <td>d</td>\n      <td>j</td>\n      <td>i</td>\n      <td>n</td>\n      <td>...</td>\n      <td>0</td>\n      <td>0</td>\n      <td>0</td>\n      <td>0</td>\n      <td>0</td>\n      <td>0</td>\n      <td>0</td>\n      <td>0</td>\n      <td>0</td>\n      <td>0</td>\n    </tr>\n    <tr>\n      <th>43</th>\n      <td>107</td>\n      <td>139.20</td>\n      <td>w</td>\n      <td>s</td>\n      <td>as</td>\n      <td>c</td>\n      <td>d</td>\n      <td>j</td>\n      <td>i</td>\n      <td>q</td>\n      <td>...</td>\n      <td>1</td>\n      <td>0</td>\n      <td>0</td>\n      <td>0</td>\n      <td>0</td>\n      <td>0</td>\n      <td>0</td>\n      <td>0</td>\n      <td>0</td>\n      <td>0</td>\n    </tr>\n    <tr>\n      <th>45</th>\n      <td>109</td>\n      <td>110.52</td>\n      <td>x</td>\n      <td>b</td>\n      <td>m</td>\n      <td>c</td>\n      <td>d</td>\n      <td>j</td>\n      <td>j</td>\n      <td>n</td>\n      <td>...</td>\n      <td>0</td>\n      <td>0</td>\n      <td>1</td>\n      <td>0</td>\n      <td>0</td>\n      <td>0</td>\n      <td>0</td>\n      <td>0</td>\n      <td>0</td>\n      <td>0</td>\n    </tr>\n    <tr>\n      <th>49</th>\n      <td>119</td>\n      <td>108.00</td>\n      <td>at</td>\n      <td>j</td>\n      <td>ai</td>\n      <td>b</td>\n      <td>d</td>\n      <td>j</td>\n      <td>d</td>\n      <td>i</td>\n      <td>...</td>\n      <td>0</td>\n      <td>0</td>\n      <td>0</td>\n      <td>0</td>\n      <td>0</td>\n      <td>0</td>\n      <td>0</td>\n      <td>0</td>\n      <td>0</td>\n      <td>0</td>\n    </tr>\n    <tr>\n      <th>50</th>\n      <td>124</td>\n      <td>116.59</td>\n      <td>w</td>\n      <td>w</td>\n      <td>as</td>\n      <td>f</td>\n      <td>d</td>\n      <td>j</td>\n      <td>l</td>\n      <td>e</td>\n      <td>...</td>\n      <td>1</td>\n      <td>0</td>\n      <td>0</td>\n      <td>0</td>\n      <td>0</td>\n      <td>0</td>\n      <td>0</td>\n      <td>0</td>\n      <td>0</td>\n      <td>0</td>\n    </tr>\n    <tr>\n      <th>52</th>\n      <td>127</td>\n      <td>119.44</td>\n      <td>ap</td>\n      <td>l</td>\n      <td>s</td>\n      <td>c</td>\n      <td>d</td>\n      <td>j</td>\n      <td>d</td>\n      <td>h</td>\n      <td>...</td>\n      <td>0</td>\n      <td>0</td>\n      <td>0</td>\n      <td>0</td>\n      <td>0</td>\n      <td>0</td>\n      <td>0</td>\n      <td>0</td>\n      <td>0</td>\n      <td>0</td>\n    </tr>\n    <tr>\n      <th>57</th>\n      <td>133</td>\n      <td>108.42</td>\n      <td>w</td>\n      <td>u</td>\n      <td>as</td>\n      <td>c</td>\n      <td>d</td>\n      <td>j</td>\n      <td>i</td>\n      <td>s</td>\n      <td>...</td>\n      <td>1</td>\n      <td>0</td>\n      <td>0</td>\n      <td>0</td>\n      <td>0</td>\n      <td>0</td>\n      <td>0</td>\n      <td>0</td>\n      <td>0</td>\n      <td>0</td>\n    </tr>\n    <tr>\n      <th>60</th>\n      <td>139</td>\n      <td>104.78</td>\n      <td>ay</td>\n      <td>b</td>\n      <td>ak</td>\n      <td>c</td>\n      <td>d</td>\n      <td>j</td>\n      <td>c</td>\n      <td>v</td>\n      <td>...</td>\n      <td>0</td>\n      <td>0</td>\n      <td>1</td>\n      <td>0</td>\n      <td>0</td>\n      <td>0</td>\n      <td>0</td>\n      <td>0</td>\n      <td>0</td>\n      <td>0</td>\n    </tr>\n    <tr>\n      <th>63</th>\n      <td>145</td>\n      <td>111.74</td>\n      <td>ak</td>\n      <td>p</td>\n      <td>ak</td>\n      <td>c</td>\n      <td>d</td>\n      <td>j</td>\n      <td>d</td>\n      <td>v</td>\n      <td>...</td>\n      <td>1</td>\n      <td>0</td>\n      <td>0</td>\n      <td>0</td>\n      <td>0</td>\n      <td>0</td>\n      <td>0</td>\n      <td>0</td>\n      <td>0</td>\n      <td>0</td>\n    </tr>\n    <tr>\n      <th>64</th>\n      <td>146</td>\n      <td>109.76</td>\n      <td>x</td>\n      <td>b</td>\n      <td>as</td>\n      <td>c</td>\n      <td>d</td>\n      <td>j</td>\n      <td>j</td>\n      <td>j</td>\n      <td>...</td>\n      <td>0</td>\n      <td>0</td>\n      <td>1</td>\n      <td>0</td>\n      <td>0</td>\n      <td>0</td>\n      <td>0</td>\n      <td>0</td>\n      <td>0</td>\n      <td>0</td>\n    </tr>\n    <tr>\n      <th>67</th>\n      <td>151</td>\n      <td>107.72</td>\n      <td>w</td>\n      <td>s</td>\n      <td>as</td>\n      <td>c</td>\n      <td>d</td>\n      <td>j</td>\n      <td>j</td>\n      <td>u</td>\n      <td>...</td>\n      <td>1</td>\n      <td>0</td>\n      <td>0</td>\n      <td>0</td>\n      <td>0</td>\n      <td>0</td>\n      <td>0</td>\n      <td>0</td>\n      <td>0</td>\n      <td>0</td>\n    </tr>\n    <tr>\n      <th>69</th>\n      <td>153</td>\n      <td>118.24</td>\n      <td>aj</td>\n      <td>s</td>\n      <td>as</td>\n      <td>c</td>\n      <td>d</td>\n      <td>j</td>\n      <td>g</td>\n      <td>a</td>\n      <td>...</td>\n      <td>1</td>\n      <td>0</td>\n      <td>0</td>\n      <td>0</td>\n      <td>0</td>\n      <td>0</td>\n      <td>0</td>\n      <td>0</td>\n      <td>0</td>\n      <td>0</td>\n    </tr>\n    <tr>\n      <th>71</th>\n      <td>158</td>\n      <td>113.40</td>\n      <td>ak</td>\n      <td>s</td>\n      <td>as</td>\n      <td>c</td>\n      <td>d</td>\n      <td>j</td>\n      <td>g</td>\n      <td>a</td>\n      <td>...</td>\n      <td>1</td>\n      <td>0</td>\n      <td>0</td>\n      <td>0</td>\n      <td>0</td>\n      <td>0</td>\n      <td>0</td>\n      <td>0</td>\n      <td>0</td>\n      <td>0</td>\n    </tr>\n    <tr>\n      <th>...</th>\n      <td>...</td>\n      <td>...</td>\n      <td>...</td>\n      <td>...</td>\n      <td>...</td>\n      <td>...</td>\n      <td>...</td>\n      <td>...</td>\n      <td>...</td>\n      <td>...</td>\n      <td>...</td>\n      <td>...</td>\n      <td>...</td>\n      <td>...</td>\n      <td>...</td>\n      <td>...</td>\n      <td>...</td>\n      <td>...</td>\n      <td>...</td>\n      <td>...</td>\n      <td>...</td>\n    </tr>\n    <tr>\n      <th>4138</th>\n      <td>8270</td>\n      <td>107.29</td>\n      <td>f</td>\n      <td>l</td>\n      <td>ae</td>\n      <td>f</td>\n      <td>d</td>\n      <td>aa</td>\n      <td>d</td>\n      <td>b</td>\n      <td>...</td>\n      <td>0</td>\n      <td>0</td>\n      <td>0</td>\n      <td>0</td>\n      <td>0</td>\n      <td>0</td>\n      <td>0</td>\n      <td>0</td>\n      <td>0</td>\n      <td>0</td>\n    </tr>\n    <tr>\n      <th>4139</th>\n      <td>8273</td>\n      <td>104.26</td>\n      <td>w</td>\n      <td>s</td>\n      <td>as</td>\n      <td>e</td>\n      <td>d</td>\n      <td>aa</td>\n      <td>a</td>\n      <td>v</td>\n      <td>...</td>\n      <td>1</td>\n      <td>0</td>\n      <td>0</td>\n      <td>0</td>\n      <td>0</td>\n      <td>0</td>\n      <td>0</td>\n      <td>0</td>\n      <td>0</td>\n      <td>0</td>\n    </tr>\n    <tr>\n      <th>4142</th>\n      <td>8284</td>\n      <td>106.30</td>\n      <td>ak</td>\n      <td>s</td>\n      <td>as</td>\n      <td>c</td>\n      <td>d</td>\n      <td>aa</td>\n      <td>l</td>\n      <td>h</td>\n      <td>...</td>\n      <td>1</td>\n      <td>0</td>\n      <td>0</td>\n      <td>0</td>\n      <td>0</td>\n      <td>0</td>\n      <td>0</td>\n      <td>0</td>\n      <td>0</td>\n      <td>0</td>\n    </tr>\n    <tr>\n      <th>4148</th>\n      <td>8293</td>\n      <td>106.53</td>\n      <td>x</td>\n      <td>aa</td>\n      <td>as</td>\n      <td>c</td>\n      <td>d</td>\n      <td>aa</td>\n      <td>j</td>\n      <td>d</td>\n      <td>...</td>\n      <td>1</td>\n      <td>0</td>\n      <td>0</td>\n      <td>0</td>\n      <td>0</td>\n      <td>0</td>\n      <td>0</td>\n      <td>0</td>\n      <td>0</td>\n      <td>0</td>\n    </tr>\n    <tr>\n      <th>4149</th>\n      <td>8295</td>\n      <td>111.15</td>\n      <td>w</td>\n      <td>s</td>\n      <td>as</td>\n      <td>c</td>\n      <td>d</td>\n      <td>aa</td>\n      <td>i</td>\n      <td>e</td>\n      <td>...</td>\n      <td>1</td>\n      <td>0</td>\n      <td>0</td>\n      <td>0</td>\n      <td>0</td>\n      <td>0</td>\n      <td>0</td>\n      <td>0</td>\n      <td>0</td>\n      <td>0</td>\n    </tr>\n    <tr>\n      <th>4150</th>\n      <td>8297</td>\n      <td>105.61</td>\n      <td>ak</td>\n      <td>l</td>\n      <td>as</td>\n      <td>f</td>\n      <td>d</td>\n      <td>aa</td>\n      <td>g</td>\n      <td>i</td>\n      <td>...</td>\n      <td>0</td>\n      <td>0</td>\n      <td>0</td>\n      <td>0</td>\n      <td>0</td>\n      <td>0</td>\n      <td>0</td>\n      <td>0</td>\n      <td>0</td>\n      <td>0</td>\n    </tr>\n    <tr>\n      <th>4152</th>\n      <td>8300</td>\n      <td>103.62</td>\n      <td>x</td>\n      <td>r</td>\n      <td>aw</td>\n      <td>d</td>\n      <td>d</td>\n      <td>aa</td>\n      <td>l</td>\n      <td>w</td>\n      <td>...</td>\n      <td>1</td>\n      <td>0</td>\n      <td>0</td>\n      <td>0</td>\n      <td>0</td>\n      <td>0</td>\n      <td>0</td>\n      <td>0</td>\n      <td>0</td>\n      <td>0</td>\n    </tr>\n    <tr>\n      <th>4155</th>\n      <td>8304</td>\n      <td>106.34</td>\n      <td>w</td>\n      <td>s</td>\n      <td>as</td>\n      <td>a</td>\n      <td>d</td>\n      <td>aa</td>\n      <td>c</td>\n      <td>p</td>\n      <td>...</td>\n      <td>0</td>\n      <td>0</td>\n      <td>1</td>\n      <td>0</td>\n      <td>0</td>\n      <td>0</td>\n      <td>0</td>\n      <td>0</td>\n      <td>0</td>\n      <td>0</td>\n    </tr>\n    <tr>\n      <th>4160</th>\n      <td>8310</td>\n      <td>108.75</td>\n      <td>j</td>\n      <td>r</td>\n      <td>t</td>\n      <td>d</td>\n      <td>d</td>\n      <td>aa</td>\n      <td>j</td>\n      <td>h</td>\n      <td>...</td>\n      <td>0</td>\n      <td>1</td>\n      <td>0</td>\n      <td>0</td>\n      <td>0</td>\n      <td>0</td>\n      <td>0</td>\n      <td>0</td>\n      <td>0</td>\n      <td>0</td>\n    </tr>\n    <tr>\n      <th>4163</th>\n      <td>8313</td>\n      <td>104.42</td>\n      <td>j</td>\n      <td>r</td>\n      <td>t</td>\n      <td>d</td>\n      <td>d</td>\n      <td>aa</td>\n      <td>j</td>\n      <td>h</td>\n      <td>...</td>\n      <td>0</td>\n      <td>1</td>\n      <td>0</td>\n      <td>0</td>\n      <td>0</td>\n      <td>0</td>\n      <td>0</td>\n      <td>0</td>\n      <td>0</td>\n      <td>0</td>\n    </tr>\n    <tr>\n      <th>4165</th>\n      <td>8322</td>\n      <td>105.10</td>\n      <td>x</td>\n      <td>v</td>\n      <td>e</td>\n      <td>c</td>\n      <td>d</td>\n      <td>aa</td>\n      <td>g</td>\n      <td>s</td>\n      <td>...</td>\n      <td>0</td>\n      <td>0</td>\n      <td>0</td>\n      <td>0</td>\n      <td>1</td>\n      <td>0</td>\n      <td>0</td>\n      <td>0</td>\n      <td>0</td>\n      <td>0</td>\n    </tr>\n    <tr>\n      <th>4171</th>\n      <td>8336</td>\n      <td>118.81</td>\n      <td>x</td>\n      <td>z</td>\n      <td>m</td>\n      <td>c</td>\n      <td>d</td>\n      <td>aa</td>\n      <td>a</td>\n      <td>c</td>\n      <td>...</td>\n      <td>1</td>\n      <td>0</td>\n      <td>0</td>\n      <td>0</td>\n      <td>0</td>\n      <td>0</td>\n      <td>0</td>\n      <td>0</td>\n      <td>0</td>\n      <td>0</td>\n    </tr>\n    <tr>\n      <th>4173</th>\n      <td>8340</td>\n      <td>101.86</td>\n      <td>ak</td>\n      <td>v</td>\n      <td>aw</td>\n      <td>c</td>\n      <td>d</td>\n      <td>aa</td>\n      <td>k</td>\n      <td>n</td>\n      <td>...</td>\n      <td>0</td>\n      <td>0</td>\n      <td>0</td>\n      <td>0</td>\n      <td>0</td>\n      <td>0</td>\n      <td>0</td>\n      <td>0</td>\n      <td>0</td>\n      <td>0</td>\n    </tr>\n    <tr>\n      <th>4174</th>\n      <td>8342</td>\n      <td>104.29</td>\n      <td>ak</td>\n      <td>s</td>\n      <td>as</td>\n      <td>c</td>\n      <td>d</td>\n      <td>aa</td>\n      <td>c</td>\n      <td>j</td>\n      <td>...</td>\n      <td>1</td>\n      <td>0</td>\n      <td>0</td>\n      <td>0</td>\n      <td>0</td>\n      <td>0</td>\n      <td>0</td>\n      <td>0</td>\n      <td>0</td>\n      <td>0</td>\n    </tr>\n    <tr>\n      <th>4176</th>\n      <td>8344</td>\n      <td>149.52</td>\n      <td>ak</td>\n      <td>l</td>\n      <td>as</td>\n      <td>a</td>\n      <td>d</td>\n      <td>aa</td>\n      <td>j</td>\n      <td>r</td>\n      <td>...</td>\n      <td>0</td>\n      <td>0</td>\n      <td>1</td>\n      <td>0</td>\n      <td>0</td>\n      <td>0</td>\n      <td>0</td>\n      <td>0</td>\n      <td>0</td>\n      <td>0</td>\n    </tr>\n    <tr>\n      <th>4177</th>\n      <td>8348</td>\n      <td>106.61</td>\n      <td>j</td>\n      <td>r</td>\n      <td>t</td>\n      <td>d</td>\n      <td>d</td>\n      <td>aa</td>\n      <td>h</td>\n      <td>h</td>\n      <td>...</td>\n      <td>0</td>\n      <td>1</td>\n      <td>0</td>\n      <td>0</td>\n      <td>0</td>\n      <td>0</td>\n      <td>0</td>\n      <td>0</td>\n      <td>0</td>\n      <td>0</td>\n    </tr>\n    <tr>\n      <th>4184</th>\n      <td>8368</td>\n      <td>109.00</td>\n      <td>w</td>\n      <td>s</td>\n      <td>as</td>\n      <td>c</td>\n      <td>d</td>\n      <td>aa</td>\n      <td>d</td>\n      <td>i</td>\n      <td>...</td>\n      <td>1</td>\n      <td>0</td>\n      <td>0</td>\n      <td>0</td>\n      <td>0</td>\n      <td>0</td>\n      <td>0</td>\n      <td>0</td>\n      <td>0</td>\n      <td>0</td>\n    </tr>\n    <tr>\n      <th>4185</th>\n      <td>8369</td>\n      <td>109.64</td>\n      <td>ak</td>\n      <td>v</td>\n      <td>ao</td>\n      <td>d</td>\n      <td>d</td>\n      <td>aa</td>\n      <td>g</td>\n      <td>p</td>\n      <td>...</td>\n      <td>0</td>\n      <td>1</td>\n      <td>0</td>\n      <td>0</td>\n      <td>0</td>\n      <td>0</td>\n      <td>0</td>\n      <td>0</td>\n      <td>0</td>\n      <td>0</td>\n    </tr>\n    <tr>\n      <th>4186</th>\n      <td>8371</td>\n      <td>131.98</td>\n      <td>j</td>\n      <td>f</td>\n      <td>ar</td>\n      <td>a</td>\n      <td>d</td>\n      <td>aa</td>\n      <td>j</td>\n      <td>n</td>\n      <td>...</td>\n      <td>0</td>\n      <td>0</td>\n      <td>1</td>\n      <td>0</td>\n      <td>0</td>\n      <td>0</td>\n      <td>0</td>\n      <td>0</td>\n      <td>0</td>\n      <td>0</td>\n    </tr>\n    <tr>\n      <th>4188</th>\n      <td>8374</td>\n      <td>102.33</td>\n      <td>f</td>\n      <td>s</td>\n      <td>as</td>\n      <td>a</td>\n      <td>d</td>\n      <td>aa</td>\n      <td>d</td>\n      <td>t</td>\n      <td>...</td>\n      <td>0</td>\n      <td>0</td>\n      <td>1</td>\n      <td>0</td>\n      <td>0</td>\n      <td>0</td>\n      <td>0</td>\n      <td>0</td>\n      <td>0</td>\n      <td>0</td>\n    </tr>\n    <tr>\n      <th>4189</th>\n      <td>8375</td>\n      <td>102.42</td>\n      <td>aj</td>\n      <td>s</td>\n      <td>as</td>\n      <td>c</td>\n      <td>d</td>\n      <td>aa</td>\n      <td>d</td>\n      <td>q</td>\n      <td>...</td>\n      <td>1</td>\n      <td>0</td>\n      <td>0</td>\n      <td>0</td>\n      <td>0</td>\n      <td>0</td>\n      <td>0</td>\n      <td>0</td>\n      <td>0</td>\n      <td>0</td>\n    </tr>\n    <tr>\n      <th>4192</th>\n      <td>8383</td>\n      <td>103.03</td>\n      <td>aj</td>\n      <td>l</td>\n      <td>as</td>\n      <td>f</td>\n      <td>d</td>\n      <td>aa</td>\n      <td>j</td>\n      <td>n</td>\n      <td>...</td>\n      <td>0</td>\n      <td>0</td>\n      <td>0</td>\n      <td>0</td>\n      <td>0</td>\n      <td>0</td>\n      <td>0</td>\n      <td>0</td>\n      <td>0</td>\n      <td>0</td>\n    </tr>\n    <tr>\n      <th>4193</th>\n      <td>8384</td>\n      <td>107.24</td>\n      <td>ak</td>\n      <td>v</td>\n      <td>aw</td>\n      <td>c</td>\n      <td>d</td>\n      <td>aa</td>\n      <td>d</td>\n      <td>r</td>\n      <td>...</td>\n      <td>0</td>\n      <td>0</td>\n      <td>0</td>\n      <td>0</td>\n      <td>0</td>\n      <td>0</td>\n      <td>0</td>\n      <td>0</td>\n      <td>0</td>\n      <td>0</td>\n    </tr>\n    <tr>\n      <th>4200</th>\n      <td>8397</td>\n      <td>108.59</td>\n      <td>z</td>\n      <td>aa</td>\n      <td>e</td>\n      <td>c</td>\n      <td>d</td>\n      <td>aa</td>\n      <td>i</td>\n      <td>w</td>\n      <td>...</td>\n      <td>1</td>\n      <td>0</td>\n      <td>0</td>\n      <td>0</td>\n      <td>0</td>\n      <td>0</td>\n      <td>0</td>\n      <td>0</td>\n      <td>0</td>\n      <td>0</td>\n    </tr>\n    <tr>\n      <th>4201</th>\n      <td>8399</td>\n      <td>107.39</td>\n      <td>w</td>\n      <td>v</td>\n      <td>t</td>\n      <td>d</td>\n      <td>d</td>\n      <td>aa</td>\n      <td>h</td>\n      <td>g</td>\n      <td>...</td>\n      <td>0</td>\n      <td>1</td>\n      <td>0</td>\n      <td>0</td>\n      <td>0</td>\n      <td>0</td>\n      <td>0</td>\n      <td>0</td>\n      <td>0</td>\n      <td>0</td>\n    </tr>\n    <tr>\n      <th>4202</th>\n      <td>8402</td>\n      <td>123.34</td>\n      <td>ap</td>\n      <td>l</td>\n      <td>s</td>\n      <td>c</td>\n      <td>d</td>\n      <td>aa</td>\n      <td>d</td>\n      <td>r</td>\n      <td>...</td>\n      <td>0</td>\n      <td>0</td>\n      <td>0</td>\n      <td>0</td>\n      <td>0</td>\n      <td>0</td>\n      <td>0</td>\n      <td>0</td>\n      <td>0</td>\n      <td>0</td>\n    </tr>\n    <tr>\n      <th>4204</th>\n      <td>8405</td>\n      <td>107.39</td>\n      <td>ak</td>\n      <td>s</td>\n      <td>as</td>\n      <td>c</td>\n      <td>d</td>\n      <td>aa</td>\n      <td>d</td>\n      <td>q</td>\n      <td>...</td>\n      <td>1</td>\n      <td>0</td>\n      <td>0</td>\n      <td>0</td>\n      <td>0</td>\n      <td>0</td>\n      <td>0</td>\n      <td>0</td>\n      <td>0</td>\n      <td>0</td>\n    </tr>\n    <tr>\n      <th>4205</th>\n      <td>8406</td>\n      <td>108.77</td>\n      <td>j</td>\n      <td>o</td>\n      <td>t</td>\n      <td>d</td>\n      <td>d</td>\n      <td>aa</td>\n      <td>h</td>\n      <td>h</td>\n      <td>...</td>\n      <td>0</td>\n      <td>1</td>\n      <td>0</td>\n      <td>0</td>\n      <td>0</td>\n      <td>0</td>\n      <td>0</td>\n      <td>0</td>\n      <td>0</td>\n      <td>0</td>\n    </tr>\n    <tr>\n      <th>4206</th>\n      <td>8412</td>\n      <td>109.22</td>\n      <td>ak</td>\n      <td>v</td>\n      <td>r</td>\n      <td>a</td>\n      <td>d</td>\n      <td>aa</td>\n      <td>g</td>\n      <td>e</td>\n      <td>...</td>\n      <td>0</td>\n      <td>0</td>\n      <td>1</td>\n      <td>0</td>\n      <td>0</td>\n      <td>0</td>\n      <td>0</td>\n      <td>0</td>\n      <td>0</td>\n      <td>0</td>\n    </tr>\n    <tr>\n      <th>4208</th>\n      <td>8417</td>\n      <td>110.85</td>\n      <td>z</td>\n      <td>r</td>\n      <td>ae</td>\n      <td>c</td>\n      <td>d</td>\n      <td>aa</td>\n      <td>g</td>\n      <td>w</td>\n      <td>...</td>\n      <td>1</td>\n      <td>0</td>\n      <td>0</td>\n      <td>0</td>\n      <td>0</td>\n      <td>0</td>\n      <td>0</td>\n      <td>0</td>\n      <td>0</td>\n      <td>0</td>\n    </tr>\n  </tbody>\n</table>\n<p>2004 rows × 378 columns</p>\n</div>"
          },
          "metadata": {}
        }
      ]
    },
    {
      "metadata": {
        "trusted": false
      },
      "cell_type": "code",
      "source": "df.corr()",
      "execution_count": 32,
      "outputs": [
        {
          "data": {
            "text/html": "<div>\n<style scoped>\n    .dataframe tbody tr th:only-of-type {\n        vertical-align: middle;\n    }\n\n    .dataframe tbody tr th {\n        vertical-align: top;\n    }\n\n    .dataframe thead th {\n        text-align: right;\n    }\n</style>\n<table border=\"1\" class=\"dataframe\">\n  <thead>\n    <tr style=\"text-align: right;\">\n      <th></th>\n      <th>ID</th>\n      <th>y</th>\n      <th>X10</th>\n      <th>X11</th>\n      <th>X12</th>\n      <th>X13</th>\n      <th>X14</th>\n      <th>X15</th>\n      <th>X16</th>\n      <th>X17</th>\n      <th>...</th>\n      <th>X375</th>\n      <th>X376</th>\n      <th>X377</th>\n      <th>X378</th>\n      <th>X379</th>\n      <th>X380</th>\n      <th>X382</th>\n      <th>X383</th>\n      <th>X384</th>\n      <th>X385</th>\n    </tr>\n  </thead>\n  <tbody>\n    <tr>\n      <th>ID</th>\n      <td>1.000000</td>\n      <td>-0.055108</td>\n      <td>0.001602</td>\n      <td>NaN</td>\n      <td>0.058988</td>\n      <td>-0.031917</td>\n      <td>-0.025438</td>\n      <td>0.002237</td>\n      <td>-0.036480</td>\n      <td>-0.038171</td>\n      <td>...</td>\n      <td>0.045229</td>\n      <td>-0.080259</td>\n      <td>-0.022965</td>\n      <td>0.030371</td>\n      <td>0.023382</td>\n      <td>-0.013577</td>\n      <td>-0.038171</td>\n      <td>-0.009332</td>\n      <td>-0.015355</td>\n      <td>0.029059</td>\n    </tr>\n    <tr>\n      <th>y</th>\n      <td>-0.055108</td>\n      <td>1.000000</td>\n      <td>-0.026985</td>\n      <td>NaN</td>\n      <td>0.089792</td>\n      <td>0.048276</td>\n      <td>0.193643</td>\n      <td>0.023116</td>\n      <td>0.048946</td>\n      <td>-0.159815</td>\n      <td>...</td>\n      <td>0.029100</td>\n      <td>0.114005</td>\n      <td>0.061403</td>\n      <td>-0.258679</td>\n      <td>0.067919</td>\n      <td>0.040932</td>\n      <td>-0.159815</td>\n      <td>0.040291</td>\n      <td>-0.004591</td>\n      <td>-0.022280</td>\n    </tr>\n    <tr>\n      <th>X10</th>\n      <td>0.001602</td>\n      <td>-0.026985</td>\n      <td>1.000000</td>\n      <td>NaN</td>\n      <td>-0.033084</td>\n      <td>-0.028806</td>\n      <td>-0.100474</td>\n      <td>-0.002532</td>\n      <td>-0.005944</td>\n      <td>-0.010164</td>\n      <td>...</td>\n      <td>0.165277</td>\n      <td>-0.028618</td>\n      <td>-0.074244</td>\n      <td>-0.016870</td>\n      <td>-0.011374</td>\n      <td>-0.010479</td>\n      <td>-0.010164</td>\n      <td>-0.004740</td>\n      <td>-0.002532</td>\n      <td>-0.004387</td>\n    </tr>\n    <tr>\n      <th>X11</th>\n      <td>NaN</td>\n      <td>NaN</td>\n      <td>NaN</td>\n      <td>NaN</td>\n      <td>NaN</td>\n      <td>NaN</td>\n      <td>NaN</td>\n      <td>NaN</td>\n      <td>NaN</td>\n      <td>NaN</td>\n      <td>...</td>\n      <td>NaN</td>\n      <td>NaN</td>\n      <td>NaN</td>\n      <td>NaN</td>\n      <td>NaN</td>\n      <td>NaN</td>\n      <td>NaN</td>\n      <td>NaN</td>\n      <td>NaN</td>\n      <td>NaN</td>\n    </tr>\n    <tr>\n      <th>X12</th>\n      <td>0.058988</td>\n      <td>0.089792</td>\n      <td>-0.033084</td>\n      <td>NaN</td>\n      <td>1.000000</td>\n      <td>0.214825</td>\n      <td>-0.246513</td>\n      <td>-0.006212</td>\n      <td>-0.014584</td>\n      <td>-0.024937</td>\n      <td>...</td>\n      <td>-0.107864</td>\n      <td>-0.070214</td>\n      <td>0.030134</td>\n      <td>-0.016043</td>\n      <td>-0.027907</td>\n      <td>-0.005566</td>\n      <td>-0.024937</td>\n      <td>-0.011628</td>\n      <td>-0.006212</td>\n      <td>-0.010765</td>\n    </tr>\n    <tr>\n      <th>X13</th>\n      <td>-0.031917</td>\n      <td>0.048276</td>\n      <td>-0.028806</td>\n      <td>NaN</td>\n      <td>0.214825</td>\n      <td>1.000000</td>\n      <td>-0.083141</td>\n      <td>-0.005409</td>\n      <td>-0.012698</td>\n      <td>-0.021713</td>\n      <td>...</td>\n      <td>-0.169721</td>\n      <td>-0.061136</td>\n      <td>0.357229</td>\n      <td>-0.036040</td>\n      <td>-0.024299</td>\n      <td>0.023045</td>\n      <td>-0.021713</td>\n      <td>-0.010125</td>\n      <td>0.041242</td>\n      <td>-0.009373</td>\n    </tr>\n    <tr>\n      <th>X14</th>\n      <td>-0.025438</td>\n      <td>0.193643</td>\n      <td>-0.100474</td>\n      <td>NaN</td>\n      <td>-0.246513</td>\n      <td>-0.083141</td>\n      <td>1.000000</td>\n      <td>-0.018865</td>\n      <td>-0.044291</td>\n      <td>0.012713</td>\n      <td>...</td>\n      <td>0.118950</td>\n      <td>0.026496</td>\n      <td>-0.097464</td>\n      <td>-0.037958</td>\n      <td>0.103309</td>\n      <td>0.007743</td>\n      <td>0.012713</td>\n      <td>0.023604</td>\n      <td>0.025199</td>\n      <td>0.043667</td>\n    </tr>\n    <tr>\n      <th>X15</th>\n      <td>0.002237</td>\n      <td>0.023116</td>\n      <td>-0.002532</td>\n      <td>NaN</td>\n      <td>-0.006212</td>\n      <td>-0.005409</td>\n      <td>-0.018865</td>\n      <td>1.000000</td>\n      <td>-0.001116</td>\n      <td>-0.001908</td>\n      <td>...</td>\n      <td>-0.014917</td>\n      <td>-0.005373</td>\n      <td>0.032168</td>\n      <td>-0.003168</td>\n      <td>-0.002136</td>\n      <td>-0.001968</td>\n      <td>-0.001908</td>\n      <td>-0.000890</td>\n      <td>-0.000475</td>\n      <td>-0.000824</td>\n    </tr>\n    <tr>\n      <th>X16</th>\n      <td>-0.036480</td>\n      <td>0.048946</td>\n      <td>-0.005944</td>\n      <td>NaN</td>\n      <td>-0.014584</td>\n      <td>-0.012698</td>\n      <td>-0.044291</td>\n      <td>-0.001116</td>\n      <td>1.000000</td>\n      <td>-0.004480</td>\n      <td>...</td>\n      <td>-0.025036</td>\n      <td>-0.012615</td>\n      <td>0.045461</td>\n      <td>-0.007437</td>\n      <td>-0.005014</td>\n      <td>-0.004619</td>\n      <td>-0.004480</td>\n      <td>-0.002089</td>\n      <td>-0.001116</td>\n      <td>-0.001934</td>\n    </tr>\n    <tr>\n      <th>X17</th>\n      <td>-0.038171</td>\n      <td>-0.159815</td>\n      <td>-0.010164</td>\n      <td>NaN</td>\n      <td>-0.024937</td>\n      <td>-0.021713</td>\n      <td>0.012713</td>\n      <td>-0.001908</td>\n      <td>-0.004480</td>\n      <td>1.000000</td>\n      <td>...</td>\n      <td>-0.059883</td>\n      <td>-0.021571</td>\n      <td>-0.059327</td>\n      <td>-0.012716</td>\n      <td>-0.008573</td>\n      <td>-0.007899</td>\n      <td>1.000000</td>\n      <td>-0.003572</td>\n      <td>-0.001908</td>\n      <td>-0.003307</td>\n    </tr>\n    <tr>\n      <th>X18</th>\n      <td>-0.027063</td>\n      <td>-0.001789</td>\n      <td>-0.010323</td>\n      <td>NaN</td>\n      <td>-0.025327</td>\n      <td>-0.010525</td>\n      <td>-0.076916</td>\n      <td>-0.001938</td>\n      <td>-0.004550</td>\n      <td>0.085256</td>\n      <td>...</td>\n      <td>0.037446</td>\n      <td>-0.021908</td>\n      <td>-0.013853</td>\n      <td>0.043885</td>\n      <td>-0.008707</td>\n      <td>-0.008022</td>\n      <td>0.085256</td>\n      <td>0.062481</td>\n      <td>-0.001938</td>\n      <td>-0.003359</td>\n    </tr>\n    <tr>\n      <th>X19</th>\n      <td>-0.012762</td>\n      <td>-0.168895</td>\n      <td>-0.038610</td>\n      <td>NaN</td>\n      <td>-0.094730</td>\n      <td>-0.082482</td>\n      <td>-0.287691</td>\n      <td>-0.007250</td>\n      <td>-0.017020</td>\n      <td>-0.029102</td>\n      <td>...</td>\n      <td>0.118184</td>\n      <td>-0.081943</td>\n      <td>0.051426</td>\n      <td>-0.048305</td>\n      <td>-0.032569</td>\n      <td>-0.021140</td>\n      <td>-0.029102</td>\n      <td>-0.013571</td>\n      <td>-0.007250</td>\n      <td>-0.012563</td>\n    </tr>\n    <tr>\n      <th>X20</th>\n      <td>0.063216</td>\n      <td>-0.095148</td>\n      <td>-0.047393</td>\n      <td>NaN</td>\n      <td>-0.116280</td>\n      <td>-0.043126</td>\n      <td>-0.353137</td>\n      <td>-0.008899</td>\n      <td>-0.020892</td>\n      <td>-0.027905</td>\n      <td>...</td>\n      <td>-0.025680</td>\n      <td>-0.080123</td>\n      <td>-0.010522</td>\n      <td>-0.059294</td>\n      <td>-0.025979</td>\n      <td>-0.006485</td>\n      <td>-0.027905</td>\n      <td>0.000008</td>\n      <td>-0.008899</td>\n      <td>-0.015421</td>\n    </tr>\n    <tr>\n      <th>X21</th>\n      <td>-0.029946</td>\n      <td>0.031111</td>\n      <td>-0.005944</td>\n      <td>NaN</td>\n      <td>-0.014584</td>\n      <td>0.007215</td>\n      <td>-0.044291</td>\n      <td>-0.001116</td>\n      <td>-0.002620</td>\n      <td>-0.004480</td>\n      <td>...</td>\n      <td>0.064834</td>\n      <td>-0.012615</td>\n      <td>-0.024677</td>\n      <td>-0.007437</td>\n      <td>-0.005014</td>\n      <td>-0.004619</td>\n      <td>-0.004480</td>\n      <td>-0.002089</td>\n      <td>-0.001116</td>\n      <td>-0.001934</td>\n    </tr>\n    <tr>\n      <th>X22</th>\n      <td>-0.096610</td>\n      <td>-0.094320</td>\n      <td>-0.035836</td>\n      <td>NaN</td>\n      <td>-0.087924</td>\n      <td>0.226530</td>\n      <td>-0.267021</td>\n      <td>-0.006729</td>\n      <td>-0.015797</td>\n      <td>-0.017304</td>\n      <td>...</td>\n      <td>-0.084487</td>\n      <td>-0.076055</td>\n      <td>0.320950</td>\n      <td>-0.044834</td>\n      <td>-0.030229</td>\n      <td>-0.027849</td>\n      <td>-0.017304</td>\n      <td>-0.012596</td>\n      <td>-0.006729</td>\n      <td>-0.011660</td>\n    </tr>\n    <tr>\n      <th>X23</th>\n      <td>-0.010612</td>\n      <td>-0.078676</td>\n      <td>-0.016870</td>\n      <td>NaN</td>\n      <td>-0.041391</td>\n      <td>-0.036040</td>\n      <td>-0.125703</td>\n      <td>-0.003168</td>\n      <td>-0.007437</td>\n      <td>-0.012716</td>\n      <td>...</td>\n      <td>0.011684</td>\n      <td>-0.035804</td>\n      <td>-0.040945</td>\n      <td>-0.009369</td>\n      <td>-0.014230</td>\n      <td>-0.013110</td>\n      <td>-0.012716</td>\n      <td>-0.005930</td>\n      <td>-0.003168</td>\n      <td>-0.005489</td>\n    </tr>\n    <tr>\n      <th>X24</th>\n      <td>-0.008972</td>\n      <td>-0.003526</td>\n      <td>-0.005067</td>\n      <td>NaN</td>\n      <td>-0.012433</td>\n      <td>-0.010825</td>\n      <td>-0.004686</td>\n      <td>-0.000951</td>\n      <td>-0.002234</td>\n      <td>-0.003820</td>\n      <td>...</td>\n      <td>-0.029856</td>\n      <td>-0.010755</td>\n      <td>-0.029579</td>\n      <td>-0.006340</td>\n      <td>-0.004274</td>\n      <td>-0.003938</td>\n      <td>-0.003820</td>\n      <td>0.132088</td>\n      <td>-0.000951</td>\n      <td>-0.001649</td>\n    </tr>\n    <tr>\n      <th>X26</th>\n      <td>-0.048634</td>\n      <td>-0.021173</td>\n      <td>-0.008223</td>\n      <td>NaN</td>\n      <td>-0.020175</td>\n      <td>-0.017566</td>\n      <td>-0.061270</td>\n      <td>-0.001544</td>\n      <td>-0.003625</td>\n      <td>0.226724</td>\n      <td>...</td>\n      <td>-0.026740</td>\n      <td>-0.017451</td>\n      <td>0.039127</td>\n      <td>-0.010288</td>\n      <td>-0.006936</td>\n      <td>-0.006390</td>\n      <td>0.226724</td>\n      <td>-0.002890</td>\n      <td>-0.001544</td>\n      <td>-0.002675</td>\n    </tr>\n    <tr>\n      <th>X27</th>\n      <td>0.004214</td>\n      <td>-0.053483</td>\n      <td>0.070276</td>\n      <td>NaN</td>\n      <td>0.184599</td>\n      <td>0.110191</td>\n      <td>0.126863</td>\n      <td>-0.031974</td>\n      <td>-0.075065</td>\n      <td>0.059687</td>\n      <td>...</td>\n      <td>0.139066</td>\n      <td>-0.042846</td>\n      <td>0.043493</td>\n      <td>0.099070</td>\n      <td>0.051013</td>\n      <td>-0.035398</td>\n      <td>0.059687</td>\n      <td>0.002780</td>\n      <td>-0.031974</td>\n      <td>0.025765</td>\n    </tr>\n    <tr>\n      <th>X28</th>\n      <td>0.030967</td>\n      <td>-0.250288</td>\n      <td>-0.021300</td>\n      <td>NaN</td>\n      <td>-0.052259</td>\n      <td>-0.039773</td>\n      <td>-0.158707</td>\n      <td>-0.003999</td>\n      <td>-0.009389</td>\n      <td>0.045600</td>\n      <td>...</td>\n      <td>-0.096764</td>\n      <td>-0.045204</td>\n      <td>-0.083969</td>\n      <td>0.434454</td>\n      <td>-0.017967</td>\n      <td>-0.016553</td>\n      <td>0.045600</td>\n      <td>-0.007486</td>\n      <td>-0.003999</td>\n      <td>-0.006930</td>\n    </tr>\n    <tr>\n      <th>X29</th>\n      <td>0.004175</td>\n      <td>-0.379629</td>\n      <td>-0.024615</td>\n      <td>NaN</td>\n      <td>-0.042617</td>\n      <td>-0.052586</td>\n      <td>-0.076904</td>\n      <td>-0.004622</td>\n      <td>-0.010851</td>\n      <td>0.412903</td>\n      <td>...</td>\n      <td>-0.145030</td>\n      <td>-0.052242</td>\n      <td>-0.143683</td>\n      <td>0.685348</td>\n      <td>-0.020764</td>\n      <td>-0.019130</td>\n      <td>0.412903</td>\n      <td>-0.008652</td>\n      <td>-0.004622</td>\n      <td>-0.008009</td>\n    </tr>\n    <tr>\n      <th>X30</th>\n      <td>0.015264</td>\n      <td>-0.043247</td>\n      <td>-0.007820</td>\n      <td>NaN</td>\n      <td>-0.019185</td>\n      <td>-0.016705</td>\n      <td>-0.058265</td>\n      <td>-0.001468</td>\n      <td>-0.003447</td>\n      <td>-0.005894</td>\n      <td>...</td>\n      <td>-0.030861</td>\n      <td>-0.016596</td>\n      <td>-0.045644</td>\n      <td>-0.009783</td>\n      <td>-0.006596</td>\n      <td>-0.006077</td>\n      <td>-0.005894</td>\n      <td>-0.002748</td>\n      <td>-0.001468</td>\n      <td>-0.002544</td>\n    </tr>\n    <tr>\n      <th>X31</th>\n      <td>-0.040157</td>\n      <td>-0.086976</td>\n      <td>-0.044248</td>\n      <td>NaN</td>\n      <td>-0.126861</td>\n      <td>-0.095558</td>\n      <td>-0.313459</td>\n      <td>-0.011996</td>\n      <td>-0.028163</td>\n      <td>0.068420</td>\n      <td>...</td>\n      <td>0.029181</td>\n      <td>-0.087163</td>\n      <td>0.012263</td>\n      <td>0.133582</td>\n      <td>0.085267</td>\n      <td>0.032050</td>\n      <td>0.068420</td>\n      <td>0.005156</td>\n      <td>-0.011996</td>\n      <td>-0.020787</td>\n    </tr>\n    <tr>\n      <th>X32</th>\n      <td>0.013217</td>\n      <td>0.001750</td>\n      <td>-0.012340</td>\n      <td>NaN</td>\n      <td>-0.030276</td>\n      <td>-0.026362</td>\n      <td>-0.091947</td>\n      <td>-0.002317</td>\n      <td>-0.005440</td>\n      <td>-0.009301</td>\n      <td>...</td>\n      <td>0.014625</td>\n      <td>0.256028</td>\n      <td>-0.072029</td>\n      <td>-0.015438</td>\n      <td>-0.010409</td>\n      <td>-0.009590</td>\n      <td>-0.009301</td>\n      <td>-0.004337</td>\n      <td>-0.002317</td>\n      <td>-0.004015</td>\n    </tr>\n    <tr>\n      <th>X33</th>\n      <td>0.015306</td>\n      <td>-0.014664</td>\n      <td>-0.001790</td>\n      <td>NaN</td>\n      <td>-0.004392</td>\n      <td>-0.003824</td>\n      <td>0.017817</td>\n      <td>-0.000336</td>\n      <td>-0.000789</td>\n      <td>-0.001349</td>\n      <td>...</td>\n      <td>0.022532</td>\n      <td>-0.003799</td>\n      <td>-0.010449</td>\n      <td>-0.002240</td>\n      <td>-0.001510</td>\n      <td>-0.001391</td>\n      <td>-0.001349</td>\n      <td>-0.000629</td>\n      <td>-0.000336</td>\n      <td>-0.000582</td>\n    </tr>\n    <tr>\n      <th>X34</th>\n      <td>-0.008026</td>\n      <td>0.061151</td>\n      <td>-0.008608</td>\n      <td>NaN</td>\n      <td>-0.021119</td>\n      <td>-0.018388</td>\n      <td>-0.064136</td>\n      <td>-0.001616</td>\n      <td>-0.003794</td>\n      <td>-0.006488</td>\n      <td>...</td>\n      <td>-0.016136</td>\n      <td>-0.018268</td>\n      <td>0.046906</td>\n      <td>-0.010769</td>\n      <td>-0.007261</td>\n      <td>-0.006689</td>\n      <td>-0.006488</td>\n      <td>-0.003025</td>\n      <td>-0.001616</td>\n      <td>-0.002801</td>\n    </tr>\n    <tr>\n      <th>X35</th>\n      <td>-0.040157</td>\n      <td>-0.086976</td>\n      <td>-0.044248</td>\n      <td>NaN</td>\n      <td>-0.126861</td>\n      <td>-0.095558</td>\n      <td>-0.313459</td>\n      <td>-0.011996</td>\n      <td>-0.028163</td>\n      <td>0.068420</td>\n      <td>...</td>\n      <td>0.029181</td>\n      <td>-0.087163</td>\n      <td>0.012263</td>\n      <td>0.133582</td>\n      <td>0.085267</td>\n      <td>0.032050</td>\n      <td>0.068420</td>\n      <td>0.005156</td>\n      <td>-0.011996</td>\n      <td>-0.020787</td>\n    </tr>\n    <tr>\n      <th>X36</th>\n      <td>0.011691</td>\n      <td>-0.016999</td>\n      <td>-0.007820</td>\n      <td>NaN</td>\n      <td>-0.019185</td>\n      <td>-0.016705</td>\n      <td>-0.058265</td>\n      <td>-0.001468</td>\n      <td>-0.003447</td>\n      <td>-0.005894</td>\n      <td>...</td>\n      <td>-0.030861</td>\n      <td>-0.016596</td>\n      <td>0.007774</td>\n      <td>-0.009783</td>\n      <td>-0.006596</td>\n      <td>-0.006077</td>\n      <td>-0.005894</td>\n      <td>-0.002748</td>\n      <td>-0.001468</td>\n      <td>-0.002544</td>\n    </tr>\n    <tr>\n      <th>X37</th>\n      <td>-0.040157</td>\n      <td>-0.086976</td>\n      <td>-0.044248</td>\n      <td>NaN</td>\n      <td>-0.126861</td>\n      <td>-0.095558</td>\n      <td>-0.313459</td>\n      <td>-0.011996</td>\n      <td>-0.028163</td>\n      <td>0.068420</td>\n      <td>...</td>\n      <td>0.029181</td>\n      <td>-0.087163</td>\n      <td>0.012263</td>\n      <td>0.133582</td>\n      <td>0.085267</td>\n      <td>0.032050</td>\n      <td>0.068420</td>\n      <td>0.005156</td>\n      <td>-0.011996</td>\n      <td>-0.020787</td>\n    </tr>\n    <tr>\n      <th>X38</th>\n      <td>0.256003</td>\n      <td>0.012614</td>\n      <td>-0.021539</td>\n      <td>NaN</td>\n      <td>0.017543</td>\n      <td>-0.029005</td>\n      <td>0.061752</td>\n      <td>-0.004044</td>\n      <td>-0.009495</td>\n      <td>-0.016235</td>\n      <td>...</td>\n      <td>-0.010342</td>\n      <td>0.045529</td>\n      <td>-0.034439</td>\n      <td>-0.026948</td>\n      <td>-0.018169</td>\n      <td>0.012864</td>\n      <td>-0.016235</td>\n      <td>-0.007571</td>\n      <td>-0.004044</td>\n      <td>-0.007008</td>\n    </tr>\n    <tr>\n      <th>...</th>\n      <td>...</td>\n      <td>...</td>\n      <td>...</td>\n      <td>...</td>\n      <td>...</td>\n      <td>...</td>\n      <td>...</td>\n      <td>...</td>\n      <td>...</td>\n      <td>...</td>\n      <td>...</td>\n      <td>...</td>\n      <td>...</td>\n      <td>...</td>\n      <td>...</td>\n      <td>...</td>\n      <td>...</td>\n      <td>...</td>\n      <td>...</td>\n      <td>...</td>\n      <td>...</td>\n    </tr>\n    <tr>\n      <th>X355</th>\n      <td>0.041805</td>\n      <td>0.124188</td>\n      <td>0.139665</td>\n      <td>NaN</td>\n      <td>-0.037512</td>\n      <td>-0.192270</td>\n      <td>0.056933</td>\n      <td>0.027828</td>\n      <td>-0.040107</td>\n      <td>-0.000969</td>\n      <td>...</td>\n      <td>-0.058244</td>\n      <td>0.110225</td>\n      <td>0.122234</td>\n      <td>-0.086310</td>\n      <td>-0.016217</td>\n      <td>0.055039</td>\n      <td>-0.000969</td>\n      <td>0.052093</td>\n      <td>0.005373</td>\n      <td>-0.029603</td>\n    </tr>\n    <tr>\n      <th>X356</th>\n      <td>-0.038715</td>\n      <td>-0.019163</td>\n      <td>-0.048979</td>\n      <td>NaN</td>\n      <td>-0.046559</td>\n      <td>-0.116168</td>\n      <td>-0.208902</td>\n      <td>0.018175</td>\n      <td>0.048728</td>\n      <td>-0.040988</td>\n      <td>...</td>\n      <td>-0.320387</td>\n      <td>-0.043518</td>\n      <td>0.618954</td>\n      <td>-0.068033</td>\n      <td>-0.045870</td>\n      <td>0.102867</td>\n      <td>-0.040988</td>\n      <td>0.071977</td>\n      <td>-0.010210</td>\n      <td>-0.017693</td>\n    </tr>\n    <tr>\n      <th>X357</th>\n      <td>-0.021326</td>\n      <td>-0.016526</td>\n      <td>-0.004005</td>\n      <td>NaN</td>\n      <td>-0.009826</td>\n      <td>-0.008555</td>\n      <td>0.039858</td>\n      <td>-0.000752</td>\n      <td>-0.001765</td>\n      <td>-0.003019</td>\n      <td>...</td>\n      <td>-0.023595</td>\n      <td>-0.008499</td>\n      <td>-0.023376</td>\n      <td>-0.005010</td>\n      <td>-0.003378</td>\n      <td>-0.003112</td>\n      <td>-0.003019</td>\n      <td>-0.001408</td>\n      <td>-0.000752</td>\n      <td>-0.001303</td>\n    </tr>\n    <tr>\n      <th>X358</th>\n      <td>-0.016827</td>\n      <td>-0.020961</td>\n      <td>-0.100230</td>\n      <td>NaN</td>\n      <td>0.085827</td>\n      <td>0.283290</td>\n      <td>0.161773</td>\n      <td>-0.018820</td>\n      <td>0.002857</td>\n      <td>0.046107</td>\n      <td>...</td>\n      <td>0.026843</td>\n      <td>-0.165170</td>\n      <td>-0.134136</td>\n      <td>0.131178</td>\n      <td>-0.064744</td>\n      <td>-0.018867</td>\n      <td>0.046107</td>\n      <td>0.011922</td>\n      <td>0.003220</td>\n      <td>0.043773</td>\n    </tr>\n    <tr>\n      <th>X359</th>\n      <td>-0.033066</td>\n      <td>-0.014465</td>\n      <td>-0.021057</td>\n      <td>NaN</td>\n      <td>-0.051664</td>\n      <td>0.007134</td>\n      <td>0.168556</td>\n      <td>-0.003954</td>\n      <td>-0.009282</td>\n      <td>0.155503</td>\n      <td>...</td>\n      <td>0.026934</td>\n      <td>-0.033041</td>\n      <td>-0.061724</td>\n      <td>-0.026345</td>\n      <td>0.010134</td>\n      <td>-0.016364</td>\n      <td>0.155503</td>\n      <td>-0.007401</td>\n      <td>-0.003954</td>\n      <td>-0.006851</td>\n    </tr>\n    <tr>\n      <th>X360</th>\n      <td>0.040947</td>\n      <td>0.129839</td>\n      <td>-0.033422</td>\n      <td>NaN</td>\n      <td>0.236848</td>\n      <td>0.341697</td>\n      <td>0.005676</td>\n      <td>-0.006276</td>\n      <td>0.002774</td>\n      <td>-0.025192</td>\n      <td>...</td>\n      <td>0.015984</td>\n      <td>-0.044002</td>\n      <td>0.076279</td>\n      <td>-0.041814</td>\n      <td>-0.009767</td>\n      <td>-0.006002</td>\n      <td>-0.025192</td>\n      <td>-0.011747</td>\n      <td>-0.006276</td>\n      <td>-0.010875</td>\n    </tr>\n    <tr>\n      <th>X361</th>\n      <td>-0.028955</td>\n      <td>0.022974</td>\n      <td>0.021777</td>\n      <td>NaN</td>\n      <td>-0.210335</td>\n      <td>0.046522</td>\n      <td>0.085403</td>\n      <td>0.004089</td>\n      <td>0.009600</td>\n      <td>0.016414</td>\n      <td>...</td>\n      <td>0.108607</td>\n      <td>0.046218</td>\n      <td>0.127114</td>\n      <td>0.027245</td>\n      <td>0.018370</td>\n      <td>0.016924</td>\n      <td>0.016414</td>\n      <td>0.007654</td>\n      <td>0.004089</td>\n      <td>0.007086</td>\n    </tr>\n    <tr>\n      <th>X362</th>\n      <td>0.032658</td>\n      <td>-0.039556</td>\n      <td>0.111496</td>\n      <td>NaN</td>\n      <td>-0.083772</td>\n      <td>-0.258361</td>\n      <td>-0.108226</td>\n      <td>-0.000887</td>\n      <td>0.002576</td>\n      <td>-0.091158</td>\n      <td>...</td>\n      <td>0.033409</td>\n      <td>0.019659</td>\n      <td>0.216654</td>\n      <td>-0.151307</td>\n      <td>0.074444</td>\n      <td>-0.014295</td>\n      <td>-0.091158</td>\n      <td>0.027518</td>\n      <td>-0.000887</td>\n      <td>-0.039350</td>\n    </tr>\n    <tr>\n      <th>X363</th>\n      <td>0.039679</td>\n      <td>0.108564</td>\n      <td>0.056725</td>\n      <td>NaN</td>\n      <td>0.093726</td>\n      <td>0.056781</td>\n      <td>0.227999</td>\n      <td>0.012459</td>\n      <td>-0.078781</td>\n      <td>0.024615</td>\n      <td>...</td>\n      <td>-0.022109</td>\n      <td>0.000759</td>\n      <td>-0.035467</td>\n      <td>0.059754</td>\n      <td>-0.080466</td>\n      <td>0.039242</td>\n      <td>0.024615</td>\n      <td>0.023322</td>\n      <td>0.012459</td>\n      <td>0.021589</td>\n    </tr>\n    <tr>\n      <th>X364</th>\n      <td>-0.063217</td>\n      <td>0.001008</td>\n      <td>-0.006209</td>\n      <td>NaN</td>\n      <td>-0.015234</td>\n      <td>0.005803</td>\n      <td>0.061799</td>\n      <td>-0.001166</td>\n      <td>-0.002737</td>\n      <td>-0.004680</td>\n      <td>...</td>\n      <td>-0.017460</td>\n      <td>-0.013178</td>\n      <td>-0.026649</td>\n      <td>-0.007768</td>\n      <td>-0.005238</td>\n      <td>-0.004825</td>\n      <td>-0.004680</td>\n      <td>-0.002182</td>\n      <td>0.407763</td>\n      <td>-0.002020</td>\n    </tr>\n    <tr>\n      <th>X365</th>\n      <td>-0.063217</td>\n      <td>0.001008</td>\n      <td>-0.006209</td>\n      <td>NaN</td>\n      <td>-0.015234</td>\n      <td>0.005803</td>\n      <td>0.061799</td>\n      <td>-0.001166</td>\n      <td>-0.002737</td>\n      <td>-0.004680</td>\n      <td>...</td>\n      <td>-0.017460</td>\n      <td>-0.013178</td>\n      <td>-0.026649</td>\n      <td>-0.007768</td>\n      <td>-0.005238</td>\n      <td>-0.004825</td>\n      <td>-0.004680</td>\n      <td>-0.002182</td>\n      <td>0.407763</td>\n      <td>-0.002020</td>\n    </tr>\n    <tr>\n      <th>X366</th>\n      <td>-0.016526</td>\n      <td>-0.001777</td>\n      <td>-0.004005</td>\n      <td>NaN</td>\n      <td>-0.009826</td>\n      <td>0.020960</td>\n      <td>0.039858</td>\n      <td>-0.000752</td>\n      <td>-0.001765</td>\n      <td>-0.003019</td>\n      <td>...</td>\n      <td>0.006006</td>\n      <td>-0.008499</td>\n      <td>-0.008525</td>\n      <td>-0.005010</td>\n      <td>-0.003378</td>\n      <td>-0.003112</td>\n      <td>-0.003019</td>\n      <td>-0.001408</td>\n      <td>0.632230</td>\n      <td>-0.001303</td>\n    </tr>\n    <tr>\n      <th>X367</th>\n      <td>0.037122</td>\n      <td>0.100708</td>\n      <td>-0.027139</td>\n      <td>NaN</td>\n      <td>-0.066587</td>\n      <td>-0.057978</td>\n      <td>0.226781</td>\n      <td>-0.005096</td>\n      <td>0.030034</td>\n      <td>-0.020456</td>\n      <td>...</td>\n      <td>-0.159900</td>\n      <td>-0.057598</td>\n      <td>0.340191</td>\n      <td>-0.033954</td>\n      <td>-0.022893</td>\n      <td>-0.009114</td>\n      <td>-0.020456</td>\n      <td>-0.009539</td>\n      <td>-0.005096</td>\n      <td>-0.008830</td>\n    </tr>\n    <tr>\n      <th>X368</th>\n      <td>0.006228</td>\n      <td>0.101059</td>\n      <td>-0.030039</td>\n      <td>NaN</td>\n      <td>-0.062547</td>\n      <td>-0.047400</td>\n      <td>-0.087187</td>\n      <td>-0.005640</td>\n      <td>-0.013242</td>\n      <td>0.022482</td>\n      <td>...</td>\n      <td>-0.107600</td>\n      <td>-0.059536</td>\n      <td>0.098935</td>\n      <td>-0.010034</td>\n      <td>-0.025339</td>\n      <td>0.009496</td>\n      <td>0.022482</td>\n      <td>0.013489</td>\n      <td>-0.005640</td>\n      <td>-0.009774</td>\n    </tr>\n    <tr>\n      <th>X369</th>\n      <td>-0.007621</td>\n      <td>0.015230</td>\n      <td>-0.002532</td>\n      <td>NaN</td>\n      <td>-0.006212</td>\n      <td>-0.005409</td>\n      <td>-0.018865</td>\n      <td>-0.000475</td>\n      <td>-0.001116</td>\n      <td>-0.001908</td>\n      <td>...</td>\n      <td>-0.014917</td>\n      <td>-0.005373</td>\n      <td>-0.014779</td>\n      <td>-0.003168</td>\n      <td>-0.002136</td>\n      <td>0.241611</td>\n      <td>-0.001908</td>\n      <td>-0.000890</td>\n      <td>-0.000475</td>\n      <td>-0.000824</td>\n    </tr>\n    <tr>\n      <th>X370</th>\n      <td>0.087520</td>\n      <td>0.056700</td>\n      <td>-0.009503</td>\n      <td>NaN</td>\n      <td>-0.023315</td>\n      <td>-0.020301</td>\n      <td>-0.070807</td>\n      <td>-0.001784</td>\n      <td>-0.004189</td>\n      <td>-0.007163</td>\n      <td>...</td>\n      <td>-0.055989</td>\n      <td>0.332060</td>\n      <td>-0.055469</td>\n      <td>-0.011889</td>\n      <td>-0.008016</td>\n      <td>-0.007385</td>\n      <td>-0.007163</td>\n      <td>-0.003340</td>\n      <td>-0.001784</td>\n      <td>-0.003092</td>\n    </tr>\n    <tr>\n      <th>X371</th>\n      <td>0.002822</td>\n      <td>-0.215375</td>\n      <td>-0.013964</td>\n      <td>NaN</td>\n      <td>-0.034261</td>\n      <td>-0.029832</td>\n      <td>-0.091899</td>\n      <td>-0.002622</td>\n      <td>-0.006156</td>\n      <td>-0.010526</td>\n      <td>...</td>\n      <td>-0.082275</td>\n      <td>-0.029636</td>\n      <td>-0.081511</td>\n      <td>-0.017471</td>\n      <td>-0.011779</td>\n      <td>-0.010852</td>\n      <td>-0.010526</td>\n      <td>-0.004908</td>\n      <td>-0.002622</td>\n      <td>-0.004544</td>\n    </tr>\n    <tr>\n      <th>X372</th>\n      <td>-0.022628</td>\n      <td>-0.036545</td>\n      <td>-0.002532</td>\n      <td>NaN</td>\n      <td>-0.006212</td>\n      <td>-0.005409</td>\n      <td>-0.018865</td>\n      <td>-0.000475</td>\n      <td>-0.001116</td>\n      <td>-0.001908</td>\n      <td>...</td>\n      <td>-0.014917</td>\n      <td>-0.005373</td>\n      <td>-0.014779</td>\n      <td>-0.003168</td>\n      <td>-0.002136</td>\n      <td>-0.001968</td>\n      <td>-0.001908</td>\n      <td>-0.000890</td>\n      <td>-0.000475</td>\n      <td>-0.000824</td>\n    </tr>\n    <tr>\n      <th>X373</th>\n      <td>0.005930</td>\n      <td>-0.058952</td>\n      <td>-0.016266</td>\n      <td>NaN</td>\n      <td>0.176659</td>\n      <td>-0.034749</td>\n      <td>-0.054797</td>\n      <td>-0.003054</td>\n      <td>-0.007170</td>\n      <td>-0.012261</td>\n      <td>...</td>\n      <td>-0.095837</td>\n      <td>-0.034522</td>\n      <td>-0.094947</td>\n      <td>-0.020351</td>\n      <td>-0.013721</td>\n      <td>-0.012641</td>\n      <td>-0.012261</td>\n      <td>-0.005717</td>\n      <td>-0.003054</td>\n      <td>-0.005293</td>\n    </tr>\n    <tr>\n      <th>X374</th>\n      <td>0.014103</td>\n      <td>0.015378</td>\n      <td>-0.062993</td>\n      <td>NaN</td>\n      <td>0.097125</td>\n      <td>-0.134572</td>\n      <td>-0.008845</td>\n      <td>-0.011828</td>\n      <td>-0.005563</td>\n      <td>-0.047481</td>\n      <td>...</td>\n      <td>-0.371145</td>\n      <td>-0.133691</td>\n      <td>-0.367698</td>\n      <td>-0.078811</td>\n      <td>-0.053137</td>\n      <td>-0.048954</td>\n      <td>-0.047481</td>\n      <td>-0.022141</td>\n      <td>0.014182</td>\n      <td>-0.020496</td>\n    </tr>\n    <tr>\n      <th>X375</th>\n      <td>0.045229</td>\n      <td>0.029100</td>\n      <td>0.165277</td>\n      <td>NaN</td>\n      <td>-0.107864</td>\n      <td>-0.169721</td>\n      <td>0.118950</td>\n      <td>-0.014917</td>\n      <td>-0.025036</td>\n      <td>-0.059883</td>\n      <td>...</td>\n      <td>1.000000</td>\n      <td>-0.168611</td>\n      <td>-0.463738</td>\n      <td>-0.099396</td>\n      <td>-0.067016</td>\n      <td>-0.061741</td>\n      <td>-0.059883</td>\n      <td>-0.015413</td>\n      <td>-0.014917</td>\n      <td>0.055225</td>\n    </tr>\n    <tr>\n      <th>X376</th>\n      <td>-0.080259</td>\n      <td>0.114005</td>\n      <td>-0.028618</td>\n      <td>NaN</td>\n      <td>-0.070214</td>\n      <td>-0.061136</td>\n      <td>0.026496</td>\n      <td>-0.005373</td>\n      <td>-0.012615</td>\n      <td>-0.021571</td>\n      <td>...</td>\n      <td>-0.168611</td>\n      <td>1.000000</td>\n      <td>-0.167045</td>\n      <td>-0.035804</td>\n      <td>-0.024140</td>\n      <td>-0.022240</td>\n      <td>-0.021571</td>\n      <td>-0.010059</td>\n      <td>-0.005373</td>\n      <td>-0.009311</td>\n    </tr>\n    <tr>\n      <th>X377</th>\n      <td>-0.022965</td>\n      <td>0.061403</td>\n      <td>-0.074244</td>\n      <td>NaN</td>\n      <td>0.030134</td>\n      <td>0.357229</td>\n      <td>-0.097464</td>\n      <td>0.032168</td>\n      <td>0.045461</td>\n      <td>-0.059327</td>\n      <td>...</td>\n      <td>-0.463738</td>\n      <td>-0.167045</td>\n      <td>1.000000</td>\n      <td>-0.098473</td>\n      <td>-0.066393</td>\n      <td>-0.061168</td>\n      <td>-0.059327</td>\n      <td>0.035107</td>\n      <td>0.008694</td>\n      <td>-0.025610</td>\n    </tr>\n    <tr>\n      <th>X378</th>\n      <td>0.030371</td>\n      <td>-0.258679</td>\n      <td>-0.016870</td>\n      <td>NaN</td>\n      <td>-0.016043</td>\n      <td>-0.036040</td>\n      <td>-0.037958</td>\n      <td>-0.003168</td>\n      <td>-0.007437</td>\n      <td>-0.012716</td>\n      <td>...</td>\n      <td>-0.099396</td>\n      <td>-0.035804</td>\n      <td>-0.098473</td>\n      <td>1.000000</td>\n      <td>-0.014230</td>\n      <td>-0.013110</td>\n      <td>-0.012716</td>\n      <td>-0.005930</td>\n      <td>-0.003168</td>\n      <td>-0.005489</td>\n    </tr>\n    <tr>\n      <th>X379</th>\n      <td>0.023382</td>\n      <td>0.067919</td>\n      <td>-0.011374</td>\n      <td>NaN</td>\n      <td>-0.027907</td>\n      <td>-0.024299</td>\n      <td>0.103309</td>\n      <td>-0.002136</td>\n      <td>-0.005014</td>\n      <td>-0.008573</td>\n      <td>...</td>\n      <td>-0.067016</td>\n      <td>-0.024140</td>\n      <td>-0.066393</td>\n      <td>-0.014230</td>\n      <td>1.000000</td>\n      <td>-0.008839</td>\n      <td>-0.008573</td>\n      <td>-0.003998</td>\n      <td>-0.002136</td>\n      <td>-0.003701</td>\n    </tr>\n    <tr>\n      <th>X380</th>\n      <td>-0.013577</td>\n      <td>0.040932</td>\n      <td>-0.010479</td>\n      <td>NaN</td>\n      <td>-0.005566</td>\n      <td>0.023045</td>\n      <td>0.007743</td>\n      <td>-0.001968</td>\n      <td>-0.004619</td>\n      <td>-0.007899</td>\n      <td>...</td>\n      <td>-0.061741</td>\n      <td>-0.022240</td>\n      <td>-0.061168</td>\n      <td>-0.013110</td>\n      <td>-0.008839</td>\n      <td>1.000000</td>\n      <td>-0.007899</td>\n      <td>-0.003683</td>\n      <td>-0.001968</td>\n      <td>-0.003410</td>\n    </tr>\n    <tr>\n      <th>X382</th>\n      <td>-0.038171</td>\n      <td>-0.159815</td>\n      <td>-0.010164</td>\n      <td>NaN</td>\n      <td>-0.024937</td>\n      <td>-0.021713</td>\n      <td>0.012713</td>\n      <td>-0.001908</td>\n      <td>-0.004480</td>\n      <td>1.000000</td>\n      <td>...</td>\n      <td>-0.059883</td>\n      <td>-0.021571</td>\n      <td>-0.059327</td>\n      <td>-0.012716</td>\n      <td>-0.008573</td>\n      <td>-0.007899</td>\n      <td>1.000000</td>\n      <td>-0.003572</td>\n      <td>-0.001908</td>\n      <td>-0.003307</td>\n    </tr>\n    <tr>\n      <th>X383</th>\n      <td>-0.009332</td>\n      <td>0.040291</td>\n      <td>-0.004740</td>\n      <td>NaN</td>\n      <td>-0.011628</td>\n      <td>-0.010125</td>\n      <td>0.023604</td>\n      <td>-0.000890</td>\n      <td>-0.002089</td>\n      <td>-0.003572</td>\n      <td>...</td>\n      <td>-0.015413</td>\n      <td>-0.010059</td>\n      <td>0.035107</td>\n      <td>-0.005930</td>\n      <td>-0.003998</td>\n      <td>-0.003683</td>\n      <td>-0.003572</td>\n      <td>1.000000</td>\n      <td>-0.000890</td>\n      <td>-0.001542</td>\n    </tr>\n    <tr>\n      <th>X384</th>\n      <td>-0.015355</td>\n      <td>-0.004591</td>\n      <td>-0.002532</td>\n      <td>NaN</td>\n      <td>-0.006212</td>\n      <td>0.041242</td>\n      <td>0.025199</td>\n      <td>-0.000475</td>\n      <td>-0.001116</td>\n      <td>-0.001908</td>\n      <td>...</td>\n      <td>-0.014917</td>\n      <td>-0.005373</td>\n      <td>0.008694</td>\n      <td>-0.003168</td>\n      <td>-0.002136</td>\n      <td>-0.001968</td>\n      <td>-0.001908</td>\n      <td>-0.000890</td>\n      <td>1.000000</td>\n      <td>-0.000824</td>\n    </tr>\n    <tr>\n      <th>X385</th>\n      <td>0.029059</td>\n      <td>-0.022280</td>\n      <td>-0.004387</td>\n      <td>NaN</td>\n      <td>-0.010765</td>\n      <td>-0.009373</td>\n      <td>0.043667</td>\n      <td>-0.000824</td>\n      <td>-0.001934</td>\n      <td>-0.003307</td>\n      <td>...</td>\n      <td>0.055225</td>\n      <td>-0.009311</td>\n      <td>-0.025610</td>\n      <td>-0.005489</td>\n      <td>-0.003701</td>\n      <td>-0.003410</td>\n      <td>-0.003307</td>\n      <td>-0.001542</td>\n      <td>-0.000824</td>\n      <td>1.000000</td>\n    </tr>\n  </tbody>\n</table>\n<p>370 rows × 370 columns</p>\n</div>",
            "text/plain": "            ID         y       X10  X11       X12       X13       X14  \\\nID    1.000000 -0.055108  0.001602  NaN  0.058988 -0.031917 -0.025438   \ny    -0.055108  1.000000 -0.026985  NaN  0.089792  0.048276  0.193643   \nX10   0.001602 -0.026985  1.000000  NaN -0.033084 -0.028806 -0.100474   \nX11        NaN       NaN       NaN  NaN       NaN       NaN       NaN   \nX12   0.058988  0.089792 -0.033084  NaN  1.000000  0.214825 -0.246513   \nX13  -0.031917  0.048276 -0.028806  NaN  0.214825  1.000000 -0.083141   \nX14  -0.025438  0.193643 -0.100474  NaN -0.246513 -0.083141  1.000000   \nX15   0.002237  0.023116 -0.002532  NaN -0.006212 -0.005409 -0.018865   \nX16  -0.036480  0.048946 -0.005944  NaN -0.014584 -0.012698 -0.044291   \nX17  -0.038171 -0.159815 -0.010164  NaN -0.024937 -0.021713  0.012713   \nX18  -0.027063 -0.001789 -0.010323  NaN -0.025327 -0.010525 -0.076916   \nX19  -0.012762 -0.168895 -0.038610  NaN -0.094730 -0.082482 -0.287691   \nX20   0.063216 -0.095148 -0.047393  NaN -0.116280 -0.043126 -0.353137   \nX21  -0.029946  0.031111 -0.005944  NaN -0.014584  0.007215 -0.044291   \nX22  -0.096610 -0.094320 -0.035836  NaN -0.087924  0.226530 -0.267021   \nX23  -0.010612 -0.078676 -0.016870  NaN -0.041391 -0.036040 -0.125703   \nX24  -0.008972 -0.003526 -0.005067  NaN -0.012433 -0.010825 -0.004686   \nX26  -0.048634 -0.021173 -0.008223  NaN -0.020175 -0.017566 -0.061270   \nX27   0.004214 -0.053483  0.070276  NaN  0.184599  0.110191  0.126863   \nX28   0.030967 -0.250288 -0.021300  NaN -0.052259 -0.039773 -0.158707   \nX29   0.004175 -0.379629 -0.024615  NaN -0.042617 -0.052586 -0.076904   \nX30   0.015264 -0.043247 -0.007820  NaN -0.019185 -0.016705 -0.058265   \nX31  -0.040157 -0.086976 -0.044248  NaN -0.126861 -0.095558 -0.313459   \nX32   0.013217  0.001750 -0.012340  NaN -0.030276 -0.026362 -0.091947   \nX33   0.015306 -0.014664 -0.001790  NaN -0.004392 -0.003824  0.017817   \nX34  -0.008026  0.061151 -0.008608  NaN -0.021119 -0.018388 -0.064136   \nX35  -0.040157 -0.086976 -0.044248  NaN -0.126861 -0.095558 -0.313459   \nX36   0.011691 -0.016999 -0.007820  NaN -0.019185 -0.016705 -0.058265   \nX37  -0.040157 -0.086976 -0.044248  NaN -0.126861 -0.095558 -0.313459   \nX38   0.256003  0.012614 -0.021539  NaN  0.017543 -0.029005  0.061752   \n...        ...       ...       ...  ...       ...       ...       ...   \nX355  0.041805  0.124188  0.139665  NaN -0.037512 -0.192270  0.056933   \nX356 -0.038715 -0.019163 -0.048979  NaN -0.046559 -0.116168 -0.208902   \nX357 -0.021326 -0.016526 -0.004005  NaN -0.009826 -0.008555  0.039858   \nX358 -0.016827 -0.020961 -0.100230  NaN  0.085827  0.283290  0.161773   \nX359 -0.033066 -0.014465 -0.021057  NaN -0.051664  0.007134  0.168556   \nX360  0.040947  0.129839 -0.033422  NaN  0.236848  0.341697  0.005676   \nX361 -0.028955  0.022974  0.021777  NaN -0.210335  0.046522  0.085403   \nX362  0.032658 -0.039556  0.111496  NaN -0.083772 -0.258361 -0.108226   \nX363  0.039679  0.108564  0.056725  NaN  0.093726  0.056781  0.227999   \nX364 -0.063217  0.001008 -0.006209  NaN -0.015234  0.005803  0.061799   \nX365 -0.063217  0.001008 -0.006209  NaN -0.015234  0.005803  0.061799   \nX366 -0.016526 -0.001777 -0.004005  NaN -0.009826  0.020960  0.039858   \nX367  0.037122  0.100708 -0.027139  NaN -0.066587 -0.057978  0.226781   \nX368  0.006228  0.101059 -0.030039  NaN -0.062547 -0.047400 -0.087187   \nX369 -0.007621  0.015230 -0.002532  NaN -0.006212 -0.005409 -0.018865   \nX370  0.087520  0.056700 -0.009503  NaN -0.023315 -0.020301 -0.070807   \nX371  0.002822 -0.215375 -0.013964  NaN -0.034261 -0.029832 -0.091899   \nX372 -0.022628 -0.036545 -0.002532  NaN -0.006212 -0.005409 -0.018865   \nX373  0.005930 -0.058952 -0.016266  NaN  0.176659 -0.034749 -0.054797   \nX374  0.014103  0.015378 -0.062993  NaN  0.097125 -0.134572 -0.008845   \nX375  0.045229  0.029100  0.165277  NaN -0.107864 -0.169721  0.118950   \nX376 -0.080259  0.114005 -0.028618  NaN -0.070214 -0.061136  0.026496   \nX377 -0.022965  0.061403 -0.074244  NaN  0.030134  0.357229 -0.097464   \nX378  0.030371 -0.258679 -0.016870  NaN -0.016043 -0.036040 -0.037958   \nX379  0.023382  0.067919 -0.011374  NaN -0.027907 -0.024299  0.103309   \nX380 -0.013577  0.040932 -0.010479  NaN -0.005566  0.023045  0.007743   \nX382 -0.038171 -0.159815 -0.010164  NaN -0.024937 -0.021713  0.012713   \nX383 -0.009332  0.040291 -0.004740  NaN -0.011628 -0.010125  0.023604   \nX384 -0.015355 -0.004591 -0.002532  NaN -0.006212  0.041242  0.025199   \nX385  0.029059 -0.022280 -0.004387  NaN -0.010765 -0.009373  0.043667   \n\n           X15       X16       X17    ...         X375      X376      X377  \\\nID    0.002237 -0.036480 -0.038171    ...     0.045229 -0.080259 -0.022965   \ny     0.023116  0.048946 -0.159815    ...     0.029100  0.114005  0.061403   \nX10  -0.002532 -0.005944 -0.010164    ...     0.165277 -0.028618 -0.074244   \nX11        NaN       NaN       NaN    ...          NaN       NaN       NaN   \nX12  -0.006212 -0.014584 -0.024937    ...    -0.107864 -0.070214  0.030134   \nX13  -0.005409 -0.012698 -0.021713    ...    -0.169721 -0.061136  0.357229   \nX14  -0.018865 -0.044291  0.012713    ...     0.118950  0.026496 -0.097464   \nX15   1.000000 -0.001116 -0.001908    ...    -0.014917 -0.005373  0.032168   \nX16  -0.001116  1.000000 -0.004480    ...    -0.025036 -0.012615  0.045461   \nX17  -0.001908 -0.004480  1.000000    ...    -0.059883 -0.021571 -0.059327   \nX18  -0.001938 -0.004550  0.085256    ...     0.037446 -0.021908 -0.013853   \nX19  -0.007250 -0.017020 -0.029102    ...     0.118184 -0.081943  0.051426   \nX20  -0.008899 -0.020892 -0.027905    ...    -0.025680 -0.080123 -0.010522   \nX21  -0.001116 -0.002620 -0.004480    ...     0.064834 -0.012615 -0.024677   \nX22  -0.006729 -0.015797 -0.017304    ...    -0.084487 -0.076055  0.320950   \nX23  -0.003168 -0.007437 -0.012716    ...     0.011684 -0.035804 -0.040945   \nX24  -0.000951 -0.002234 -0.003820    ...    -0.029856 -0.010755 -0.029579   \nX26  -0.001544 -0.003625  0.226724    ...    -0.026740 -0.017451  0.039127   \nX27  -0.031974 -0.075065  0.059687    ...     0.139066 -0.042846  0.043493   \nX28  -0.003999 -0.009389  0.045600    ...    -0.096764 -0.045204 -0.083969   \nX29  -0.004622 -0.010851  0.412903    ...    -0.145030 -0.052242 -0.143683   \nX30  -0.001468 -0.003447 -0.005894    ...    -0.030861 -0.016596 -0.045644   \nX31  -0.011996 -0.028163  0.068420    ...     0.029181 -0.087163  0.012263   \nX32  -0.002317 -0.005440 -0.009301    ...     0.014625  0.256028 -0.072029   \nX33  -0.000336 -0.000789 -0.001349    ...     0.022532 -0.003799 -0.010449   \nX34  -0.001616 -0.003794 -0.006488    ...    -0.016136 -0.018268  0.046906   \nX35  -0.011996 -0.028163  0.068420    ...     0.029181 -0.087163  0.012263   \nX36  -0.001468 -0.003447 -0.005894    ...    -0.030861 -0.016596  0.007774   \nX37  -0.011996 -0.028163  0.068420    ...     0.029181 -0.087163  0.012263   \nX38  -0.004044 -0.009495 -0.016235    ...    -0.010342  0.045529 -0.034439   \n...        ...       ...       ...    ...          ...       ...       ...   \nX355  0.027828 -0.040107 -0.000969    ...    -0.058244  0.110225  0.122234   \nX356  0.018175  0.048728 -0.040988    ...    -0.320387 -0.043518  0.618954   \nX357 -0.000752 -0.001765 -0.003019    ...    -0.023595 -0.008499 -0.023376   \nX358 -0.018820  0.002857  0.046107    ...     0.026843 -0.165170 -0.134136   \nX359 -0.003954 -0.009282  0.155503    ...     0.026934 -0.033041 -0.061724   \nX360 -0.006276  0.002774 -0.025192    ...     0.015984 -0.044002  0.076279   \nX361  0.004089  0.009600  0.016414    ...     0.108607  0.046218  0.127114   \nX362 -0.000887  0.002576 -0.091158    ...     0.033409  0.019659  0.216654   \nX363  0.012459 -0.078781  0.024615    ...    -0.022109  0.000759 -0.035467   \nX364 -0.001166 -0.002737 -0.004680    ...    -0.017460 -0.013178 -0.026649   \nX365 -0.001166 -0.002737 -0.004680    ...    -0.017460 -0.013178 -0.026649   \nX366 -0.000752 -0.001765 -0.003019    ...     0.006006 -0.008499 -0.008525   \nX367 -0.005096  0.030034 -0.020456    ...    -0.159900 -0.057598  0.340191   \nX368 -0.005640 -0.013242  0.022482    ...    -0.107600 -0.059536  0.098935   \nX369 -0.000475 -0.001116 -0.001908    ...    -0.014917 -0.005373 -0.014779   \nX370 -0.001784 -0.004189 -0.007163    ...    -0.055989  0.332060 -0.055469   \nX371 -0.002622 -0.006156 -0.010526    ...    -0.082275 -0.029636 -0.081511   \nX372 -0.000475 -0.001116 -0.001908    ...    -0.014917 -0.005373 -0.014779   \nX373 -0.003054 -0.007170 -0.012261    ...    -0.095837 -0.034522 -0.094947   \nX374 -0.011828 -0.005563 -0.047481    ...    -0.371145 -0.133691 -0.367698   \nX375 -0.014917 -0.025036 -0.059883    ...     1.000000 -0.168611 -0.463738   \nX376 -0.005373 -0.012615 -0.021571    ...    -0.168611  1.000000 -0.167045   \nX377  0.032168  0.045461 -0.059327    ...    -0.463738 -0.167045  1.000000   \nX378 -0.003168 -0.007437 -0.012716    ...    -0.099396 -0.035804 -0.098473   \nX379 -0.002136 -0.005014 -0.008573    ...    -0.067016 -0.024140 -0.066393   \nX380 -0.001968 -0.004619 -0.007899    ...    -0.061741 -0.022240 -0.061168   \nX382 -0.001908 -0.004480  1.000000    ...    -0.059883 -0.021571 -0.059327   \nX383 -0.000890 -0.002089 -0.003572    ...    -0.015413 -0.010059  0.035107   \nX384 -0.000475 -0.001116 -0.001908    ...    -0.014917 -0.005373  0.008694   \nX385 -0.000824 -0.001934 -0.003307    ...     0.055225 -0.009311 -0.025610   \n\n          X378      X379      X380      X382      X383      X384      X385  \nID    0.030371  0.023382 -0.013577 -0.038171 -0.009332 -0.015355  0.029059  \ny    -0.258679  0.067919  0.040932 -0.159815  0.040291 -0.004591 -0.022280  \nX10  -0.016870 -0.011374 -0.010479 -0.010164 -0.004740 -0.002532 -0.004387  \nX11        NaN       NaN       NaN       NaN       NaN       NaN       NaN  \nX12  -0.016043 -0.027907 -0.005566 -0.024937 -0.011628 -0.006212 -0.010765  \nX13  -0.036040 -0.024299  0.023045 -0.021713 -0.010125  0.041242 -0.009373  \nX14  -0.037958  0.103309  0.007743  0.012713  0.023604  0.025199  0.043667  \nX15  -0.003168 -0.002136 -0.001968 -0.001908 -0.000890 -0.000475 -0.000824  \nX16  -0.007437 -0.005014 -0.004619 -0.004480 -0.002089 -0.001116 -0.001934  \nX17  -0.012716 -0.008573 -0.007899  1.000000 -0.003572 -0.001908 -0.003307  \nX18   0.043885 -0.008707 -0.008022  0.085256  0.062481 -0.001938 -0.003359  \nX19  -0.048305 -0.032569 -0.021140 -0.029102 -0.013571 -0.007250 -0.012563  \nX20  -0.059294 -0.025979 -0.006485 -0.027905  0.000008 -0.008899 -0.015421  \nX21  -0.007437 -0.005014 -0.004619 -0.004480 -0.002089 -0.001116 -0.001934  \nX22  -0.044834 -0.030229 -0.027849 -0.017304 -0.012596 -0.006729 -0.011660  \nX23  -0.009369 -0.014230 -0.013110 -0.012716 -0.005930 -0.003168 -0.005489  \nX24  -0.006340 -0.004274 -0.003938 -0.003820  0.132088 -0.000951 -0.001649  \nX26  -0.010288 -0.006936 -0.006390  0.226724 -0.002890 -0.001544 -0.002675  \nX27   0.099070  0.051013 -0.035398  0.059687  0.002780 -0.031974  0.025765  \nX28   0.434454 -0.017967 -0.016553  0.045600 -0.007486 -0.003999 -0.006930  \nX29   0.685348 -0.020764 -0.019130  0.412903 -0.008652 -0.004622 -0.008009  \nX30  -0.009783 -0.006596 -0.006077 -0.005894 -0.002748 -0.001468 -0.002544  \nX31   0.133582  0.085267  0.032050  0.068420  0.005156 -0.011996 -0.020787  \nX32  -0.015438 -0.010409 -0.009590 -0.009301 -0.004337 -0.002317 -0.004015  \nX33  -0.002240 -0.001510 -0.001391 -0.001349 -0.000629 -0.000336 -0.000582  \nX34  -0.010769 -0.007261 -0.006689 -0.006488 -0.003025 -0.001616 -0.002801  \nX35   0.133582  0.085267  0.032050  0.068420  0.005156 -0.011996 -0.020787  \nX36  -0.009783 -0.006596 -0.006077 -0.005894 -0.002748 -0.001468 -0.002544  \nX37   0.133582  0.085267  0.032050  0.068420  0.005156 -0.011996 -0.020787  \nX38  -0.026948 -0.018169  0.012864 -0.016235 -0.007571 -0.004044 -0.007008  \n...        ...       ...       ...       ...       ...       ...       ...  \nX355 -0.086310 -0.016217  0.055039 -0.000969  0.052093  0.005373 -0.029603  \nX356 -0.068033 -0.045870  0.102867 -0.040988  0.071977 -0.010210 -0.017693  \nX357 -0.005010 -0.003378 -0.003112 -0.003019 -0.001408 -0.000752 -0.001303  \nX358  0.131178 -0.064744 -0.018867  0.046107  0.011922  0.003220  0.043773  \nX359 -0.026345  0.010134 -0.016364  0.155503 -0.007401 -0.003954 -0.006851  \nX360 -0.041814 -0.009767 -0.006002 -0.025192 -0.011747 -0.006276 -0.010875  \nX361  0.027245  0.018370  0.016924  0.016414  0.007654  0.004089  0.007086  \nX362 -0.151307  0.074444 -0.014295 -0.091158  0.027518 -0.000887 -0.039350  \nX363  0.059754 -0.080466  0.039242  0.024615  0.023322  0.012459  0.021589  \nX364 -0.007768 -0.005238 -0.004825 -0.004680 -0.002182  0.407763 -0.002020  \nX365 -0.007768 -0.005238 -0.004825 -0.004680 -0.002182  0.407763 -0.002020  \nX366 -0.005010 -0.003378 -0.003112 -0.003019 -0.001408  0.632230 -0.001303  \nX367 -0.033954 -0.022893 -0.009114 -0.020456 -0.009539 -0.005096 -0.008830  \nX368 -0.010034 -0.025339  0.009496  0.022482  0.013489 -0.005640 -0.009774  \nX369 -0.003168 -0.002136  0.241611 -0.001908 -0.000890 -0.000475 -0.000824  \nX370 -0.011889 -0.008016 -0.007385 -0.007163 -0.003340 -0.001784 -0.003092  \nX371 -0.017471 -0.011779 -0.010852 -0.010526 -0.004908 -0.002622 -0.004544  \nX372 -0.003168 -0.002136 -0.001968 -0.001908 -0.000890 -0.000475 -0.000824  \nX373 -0.020351 -0.013721 -0.012641 -0.012261 -0.005717 -0.003054 -0.005293  \nX374 -0.078811 -0.053137 -0.048954 -0.047481 -0.022141  0.014182 -0.020496  \nX375 -0.099396 -0.067016 -0.061741 -0.059883 -0.015413 -0.014917  0.055225  \nX376 -0.035804 -0.024140 -0.022240 -0.021571 -0.010059 -0.005373 -0.009311  \nX377 -0.098473 -0.066393 -0.061168 -0.059327  0.035107  0.008694 -0.025610  \nX378  1.000000 -0.014230 -0.013110 -0.012716 -0.005930 -0.003168 -0.005489  \nX379 -0.014230  1.000000 -0.008839 -0.008573 -0.003998 -0.002136 -0.003701  \nX380 -0.013110 -0.008839  1.000000 -0.007899 -0.003683 -0.001968 -0.003410  \nX382 -0.012716 -0.008573 -0.007899  1.000000 -0.003572 -0.001908 -0.003307  \nX383 -0.005930 -0.003998 -0.003683 -0.003572  1.000000 -0.000890 -0.001542  \nX384 -0.003168 -0.002136 -0.001968 -0.001908 -0.000890  1.000000 -0.000824  \nX385 -0.005489 -0.003701 -0.003410 -0.003307 -0.001542 -0.000824  1.000000  \n\n[370 rows x 370 columns]"
          },
          "execution_count": 32,
          "metadata": {},
          "output_type": "execute_result"
        }
      ]
    },
    {
      "metadata": {
        "trusted": false
      },
      "cell_type": "code",
      "source": "df['X11'].value_counts()",
      "execution_count": 34,
      "outputs": [
        {
          "data": {
            "text/plain": "0    4209\nName: X11, dtype: int64"
          },
          "execution_count": 34,
          "metadata": {},
          "output_type": "execute_result"
        }
      ]
    },
    {
      "metadata": {
        "trusted": false
      },
      "cell_type": "code",
      "source": "import numpy as np",
      "execution_count": 41,
      "outputs": []
    },
    {
      "metadata": {
        "trusted": true
      },
      "cell_type": "code",
      "source": "lst_data=[[1,2,3],[3,4,np.nan],[5,6,np.nan],[np.nan,np.nan,np.nan]]",
      "execution_count": 7,
      "outputs": []
    },
    {
      "metadata": {
        "trusted": true
      },
      "cell_type": "code",
      "source": "df=pd.DataFrame(lst_data)",
      "execution_count": 8,
      "outputs": []
    },
    {
      "metadata": {
        "trusted": false
      },
      "cell_type": "code",
      "source": "df.head()",
      "execution_count": 49,
      "outputs": [
        {
          "data": {
            "text/html": "<div>\n<style scoped>\n    .dataframe tbody tr th:only-of-type {\n        vertical-align: middle;\n    }\n\n    .dataframe tbody tr th {\n        vertical-align: top;\n    }\n\n    .dataframe thead th {\n        text-align: right;\n    }\n</style>\n<table border=\"1\" class=\"dataframe\">\n  <thead>\n    <tr style=\"text-align: right;\">\n      <th></th>\n      <th>0</th>\n      <th>1</th>\n      <th>2</th>\n    </tr>\n  </thead>\n  <tbody>\n    <tr>\n      <th>0</th>\n      <td>1.0</td>\n      <td>2.0</td>\n      <td>3.0</td>\n    </tr>\n    <tr>\n      <th>1</th>\n      <td>3.0</td>\n      <td>4.0</td>\n      <td>NaN</td>\n    </tr>\n    <tr>\n      <th>2</th>\n      <td>5.0</td>\n      <td>6.0</td>\n      <td>NaN</td>\n    </tr>\n    <tr>\n      <th>3</th>\n      <td>NaN</td>\n      <td>NaN</td>\n      <td>NaN</td>\n    </tr>\n  </tbody>\n</table>\n</div>",
            "text/plain": "     0    1    2\n0  1.0  2.0  3.0\n1  3.0  4.0  NaN\n2  5.0  6.0  NaN\n3  NaN  NaN  NaN"
          },
          "execution_count": 49,
          "metadata": {},
          "output_type": "execute_result"
        }
      ]
    },
    {
      "metadata": {
        "trusted": false
      },
      "cell_type": "code",
      "source": "## HAndling Missing Values\n\n##Drop nan values\n\ndf.dropna(axis=0)",
      "execution_count": 61,
      "outputs": [
        {
          "data": {
            "text/html": "<div>\n<style scoped>\n    .dataframe tbody tr th:only-of-type {\n        vertical-align: middle;\n    }\n\n    .dataframe tbody tr th {\n        vertical-align: top;\n    }\n\n    .dataframe thead th {\n        text-align: right;\n    }\n</style>\n<table border=\"1\" class=\"dataframe\">\n  <thead>\n    <tr style=\"text-align: right;\">\n      <th></th>\n      <th>one</th>\n      <th>two</th>\n      <th>three</th>\n    </tr>\n  </thead>\n  <tbody>\n    <tr>\n      <th>a</th>\n      <td>0.108335</td>\n      <td>0.330862</td>\n      <td>-0.317959</td>\n    </tr>\n    <tr>\n      <th>c</th>\n      <td>-0.246911</td>\n      <td>-1.491231</td>\n      <td>0.424830</td>\n    </tr>\n    <tr>\n      <th>e</th>\n      <td>0.670780</td>\n      <td>-0.799422</td>\n      <td>1.191901</td>\n    </tr>\n    <tr>\n      <th>f</th>\n      <td>-0.019039</td>\n      <td>0.227217</td>\n      <td>0.008494</td>\n    </tr>\n    <tr>\n      <th>h</th>\n      <td>-0.157840</td>\n      <td>0.247874</td>\n      <td>2.386306</td>\n    </tr>\n  </tbody>\n</table>\n</div>",
            "text/plain": "        one       two     three\na  0.108335  0.330862 -0.317959\nc -0.246911 -1.491231  0.424830\ne  0.670780 -0.799422  1.191901\nf -0.019039  0.227217  0.008494\nh -0.157840  0.247874  2.386306"
          },
          "execution_count": 61,
          "metadata": {},
          "output_type": "execute_result"
        }
      ]
    },
    {
      "metadata": {
        "trusted": false
      },
      "cell_type": "code",
      "source": "df.dropna(axis=1)",
      "execution_count": 62,
      "outputs": [
        {
          "data": {
            "text/html": "<div>\n<style scoped>\n    .dataframe tbody tr th:only-of-type {\n        vertical-align: middle;\n    }\n\n    .dataframe tbody tr th {\n        vertical-align: top;\n    }\n\n    .dataframe thead th {\n        text-align: right;\n    }\n</style>\n<table border=\"1\" class=\"dataframe\">\n  <thead>\n    <tr style=\"text-align: right;\">\n      <th></th>\n      <th>one</th>\n      <th>two</th>\n      <th>three</th>\n    </tr>\n  </thead>\n  <tbody>\n    <tr>\n      <th>a</th>\n      <td>0.108335</td>\n      <td>0.330862</td>\n      <td>-0.317959</td>\n    </tr>\n    <tr>\n      <th>c</th>\n      <td>-0.246911</td>\n      <td>-1.491231</td>\n      <td>0.424830</td>\n    </tr>\n    <tr>\n      <th>e</th>\n      <td>0.670780</td>\n      <td>-0.799422</td>\n      <td>1.191901</td>\n    </tr>\n    <tr>\n      <th>f</th>\n      <td>-0.019039</td>\n      <td>0.227217</td>\n      <td>0.008494</td>\n    </tr>\n    <tr>\n      <th>h</th>\n      <td>-0.157840</td>\n      <td>0.247874</td>\n      <td>2.386306</td>\n    </tr>\n  </tbody>\n</table>\n</div>",
            "text/plain": "        one       two     three\na  0.108335  0.330862 -0.317959\nc -0.246911 -1.491231  0.424830\ne  0.670780 -0.799422  1.191901\nf -0.019039  0.227217  0.008494\nh -0.157840  0.247874  2.386306"
          },
          "execution_count": 62,
          "metadata": {},
          "output_type": "execute_result"
        }
      ]
    },
    {
      "metadata": {
        "trusted": false
      },
      "cell_type": "code",
      "source": "",
      "execution_count": null,
      "outputs": []
    },
    {
      "metadata": {
        "trusted": true
      },
      "cell_type": "code",
      "source": "df = pd.DataFrame(np.random.randn(5, 3), index=['a', 'c', 'e', 'f', 'h'],\n                     columns=['one', 'two', 'three'])",
      "execution_count": 17,
      "outputs": []
    },
    {
      "metadata": {
        "trusted": true
      },
      "cell_type": "code",
      "source": "df.head()",
      "execution_count": 15,
      "outputs": [
        {
          "output_type": "execute_result",
          "execution_count": 15,
          "data": {
            "text/html": "<div>\n<table border=\"1\" class=\"dataframe\">\n  <thead>\n    <tr style=\"text-align: right;\">\n      <th></th>\n      <th>one</th>\n      <th>two</th>\n      <th>three</th>\n    </tr>\n  </thead>\n  <tbody>\n    <tr>\n      <th>a</th>\n      <td>-0.299144</td>\n      <td>-0.778621</td>\n      <td>1.364355</td>\n    </tr>\n    <tr>\n      <th>c</th>\n      <td>0.166135</td>\n      <td>0.036214</td>\n      <td>0.656302</td>\n    </tr>\n    <tr>\n      <th>e</th>\n      <td>0.329064</td>\n      <td>-1.145045</td>\n      <td>1.381963</td>\n    </tr>\n    <tr>\n      <th>f</th>\n      <td>-0.833949</td>\n      <td>-0.176484</td>\n      <td>0.229817</td>\n    </tr>\n    <tr>\n      <th>h</th>\n      <td>0.951811</td>\n      <td>0.299963</td>\n      <td>1.086065</td>\n    </tr>\n  </tbody>\n</table>\n</div>",
            "text/plain": "        one       two     three\na -0.299144 -0.778621  1.364355\nc  0.166135  0.036214  0.656302\ne  0.329064 -1.145045  1.381963\nf -0.833949 -0.176484  0.229817\nh  0.951811  0.299963  1.086065"
          },
          "metadata": {}
        }
      ]
    },
    {
      "metadata": {
        "trusted": true
      },
      "cell_type": "code",
      "source": "df2=df.reindex(['a', 'b', 'c', 'd', 'e', 'f', 'g', 'h'])",
      "execution_count": 11,
      "outputs": []
    },
    {
      "metadata": {
        "trusted": true
      },
      "cell_type": "code",
      "source": "df2",
      "execution_count": 12,
      "outputs": [
        {
          "output_type": "execute_result",
          "execution_count": 12,
          "data": {
            "text/html": "<div>\n<table border=\"1\" class=\"dataframe\">\n  <thead>\n    <tr style=\"text-align: right;\">\n      <th></th>\n      <th>one</th>\n      <th>two</th>\n      <th>three</th>\n    </tr>\n  </thead>\n  <tbody>\n    <tr>\n      <th>a</th>\n      <td>0.771315</td>\n      <td>0.066562</td>\n      <td>-1.896939</td>\n    </tr>\n    <tr>\n      <th>b</th>\n      <td>NaN</td>\n      <td>NaN</td>\n      <td>NaN</td>\n    </tr>\n    <tr>\n      <th>c</th>\n      <td>-1.459592</td>\n      <td>0.755379</td>\n      <td>-0.705883</td>\n    </tr>\n    <tr>\n      <th>d</th>\n      <td>NaN</td>\n      <td>NaN</td>\n      <td>NaN</td>\n    </tr>\n    <tr>\n      <th>e</th>\n      <td>-0.767876</td>\n      <td>0.646862</td>\n      <td>-0.235943</td>\n    </tr>\n    <tr>\n      <th>f</th>\n      <td>-1.216618</td>\n      <td>0.244956</td>\n      <td>0.414564</td>\n    </tr>\n    <tr>\n      <th>g</th>\n      <td>NaN</td>\n      <td>NaN</td>\n      <td>NaN</td>\n    </tr>\n    <tr>\n      <th>h</th>\n      <td>0.414700</td>\n      <td>-0.179080</td>\n      <td>0.045645</td>\n    </tr>\n  </tbody>\n</table>\n</div>",
            "text/plain": "        one       two     three\na  0.771315  0.066562 -1.896939\nb       NaN       NaN       NaN\nc -1.459592  0.755379 -0.705883\nd       NaN       NaN       NaN\ne -0.767876  0.646862 -0.235943\nf -1.216618  0.244956  0.414564\ng       NaN       NaN       NaN\nh  0.414700 -0.179080  0.045645"
          },
          "metadata": {}
        }
      ]
    },
    {
      "metadata": {
        "trusted": true
      },
      "cell_type": "code",
      "source": "df2.dropna(axis=0)",
      "execution_count": 18,
      "outputs": [
        {
          "output_type": "execute_result",
          "execution_count": 18,
          "data": {
            "text/html": "<div>\n<table border=\"1\" class=\"dataframe\">\n  <thead>\n    <tr style=\"text-align: right;\">\n      <th></th>\n      <th>one</th>\n      <th>two</th>\n      <th>three</th>\n    </tr>\n  </thead>\n  <tbody>\n    <tr>\n      <th>a</th>\n      <td>0.771315</td>\n      <td>0.066562</td>\n      <td>-1.896939</td>\n    </tr>\n    <tr>\n      <th>c</th>\n      <td>-1.459592</td>\n      <td>0.755379</td>\n      <td>-0.705883</td>\n    </tr>\n    <tr>\n      <th>e</th>\n      <td>-0.767876</td>\n      <td>0.646862</td>\n      <td>-0.235943</td>\n    </tr>\n    <tr>\n      <th>f</th>\n      <td>-1.216618</td>\n      <td>0.244956</td>\n      <td>0.414564</td>\n    </tr>\n    <tr>\n      <th>h</th>\n      <td>0.414700</td>\n      <td>-0.179080</td>\n      <td>0.045645</td>\n    </tr>\n  </tbody>\n</table>\n</div>",
            "text/plain": "        one       two     three\na  0.771315  0.066562 -1.896939\nc -1.459592  0.755379 -0.705883\ne -0.767876  0.646862 -0.235943\nf -1.216618  0.244956  0.414564\nh  0.414700 -0.179080  0.045645"
          },
          "metadata": {}
        }
      ]
    },
    {
      "metadata": {
        "trusted": false
      },
      "cell_type": "code",
      "source": "pd.isna(df2['one'])",
      "execution_count": 79,
      "outputs": [
        {
          "data": {
            "text/plain": "a    False\nb     True\nc    False\nd     True\ne    False\nf    False\ng     True\nh    False\nName: one, dtype: bool"
          },
          "execution_count": 79,
          "metadata": {},
          "output_type": "execute_result"
        }
      ]
    },
    {
      "metadata": {
        "trusted": true
      },
      "cell_type": "code",
      "source": "",
      "execution_count": null,
      "outputs": []
    },
    {
      "metadata": {
        "trusted": false
      },
      "cell_type": "code",
      "source": "df2['one'].notna()",
      "execution_count": 80,
      "outputs": [
        {
          "data": {
            "text/plain": "a     True\nb    False\nc     True\nd    False\ne     True\nf     True\ng    False\nh     True\nName: one, dtype: bool"
          },
          "execution_count": 80,
          "metadata": {},
          "output_type": "execute_result"
        }
      ]
    },
    {
      "metadata": {
        "trusted": false
      },
      "cell_type": "code",
      "source": "df2.fillna('Missing')",
      "execution_count": 82,
      "outputs": [
        {
          "data": {
            "text/html": "<div>\n<style scoped>\n    .dataframe tbody tr th:only-of-type {\n        vertical-align: middle;\n    }\n\n    .dataframe tbody tr th {\n        vertical-align: top;\n    }\n\n    .dataframe thead th {\n        text-align: right;\n    }\n</style>\n<table border=\"1\" class=\"dataframe\">\n  <thead>\n    <tr style=\"text-align: right;\">\n      <th></th>\n      <th>one</th>\n      <th>two</th>\n      <th>three</th>\n    </tr>\n  </thead>\n  <tbody>\n    <tr>\n      <th>a</th>\n      <td>0.738644</td>\n      <td>-0.633644</td>\n      <td>0.299647</td>\n    </tr>\n    <tr>\n      <th>b</th>\n      <td>Missing</td>\n      <td>Missing</td>\n      <td>Missing</td>\n    </tr>\n    <tr>\n      <th>c</th>\n      <td>-0.00194973</td>\n      <td>-0.628875</td>\n      <td>2.30591</td>\n    </tr>\n    <tr>\n      <th>d</th>\n      <td>Missing</td>\n      <td>Missing</td>\n      <td>Missing</td>\n    </tr>\n    <tr>\n      <th>e</th>\n      <td>0.429485</td>\n      <td>0.397035</td>\n      <td>0.128684</td>\n    </tr>\n    <tr>\n      <th>f</th>\n      <td>0.481444</td>\n      <td>-0.664824</td>\n      <td>0.319812</td>\n    </tr>\n    <tr>\n      <th>g</th>\n      <td>Missing</td>\n      <td>Missing</td>\n      <td>Missing</td>\n    </tr>\n    <tr>\n      <th>h</th>\n      <td>0.132645</td>\n      <td>0.631944</td>\n      <td>-1.42835</td>\n    </tr>\n  </tbody>\n</table>\n</div>",
            "text/plain": "          one       two     three\na    0.738644 -0.633644  0.299647\nb     Missing   Missing   Missing\nc -0.00194973 -0.628875   2.30591\nd     Missing   Missing   Missing\ne    0.429485  0.397035  0.128684\nf    0.481444 -0.664824  0.319812\ng     Missing   Missing   Missing\nh    0.132645  0.631944  -1.42835"
          },
          "execution_count": 82,
          "metadata": {},
          "output_type": "execute_result"
        }
      ]
    },
    {
      "metadata": {
        "trusted": true
      },
      "cell_type": "code",
      "source": "df2['one'].values",
      "execution_count": 24,
      "outputs": [
        {
          "output_type": "execute_result",
          "execution_count": 24,
          "data": {
            "text/plain": "array([ 0.77131465,         nan, -1.45959169,         nan, -0.76787643,\n       -1.21661789,         nan,  0.41470004])"
          },
          "metadata": {}
        }
      ]
    },
    {
      "metadata": {
        "trusted": false
      },
      "cell_type": "code",
      "source": "### Reading different data sources with the help of pandas",
      "execution_count": 84,
      "outputs": []
    },
    {
      "metadata": {},
      "cell_type": "markdown",
      "source": "## CSV"
    },
    {
      "metadata": {
        "trusted": true
      },
      "cell_type": "code",
      "source": "from io import StringIO, BytesIO",
      "execution_count": 29,
      "outputs": []
    },
    {
      "metadata": {
        "trusted": true
      },
      "cell_type": "code",
      "source": "data = ('col1,col2,col3\\n'\n            'x,y,1\\n'\n            'a,b,2\\n'\n            'c,d,3')",
      "execution_count": 34,
      "outputs": []
    },
    {
      "metadata": {
        "trusted": true
      },
      "cell_type": "code",
      "source": "type(data)",
      "execution_count": 35,
      "outputs": [
        {
          "output_type": "execute_result",
          "execution_count": 35,
          "data": {
            "text/plain": "str"
          },
          "metadata": {}
        }
      ]
    },
    {
      "metadata": {
        "trusted": true
      },
      "cell_type": "code",
      "source": "pd.read_csv(StringIO(data))",
      "execution_count": 36,
      "outputs": [
        {
          "output_type": "execute_result",
          "execution_count": 36,
          "data": {
            "text/plain": "  col1 col2  col3\n0    x    y     1\n1    a    b     2\n2    c    d     3",
            "text/html": "<div>\n<table border=\"1\" class=\"dataframe\">\n  <thead>\n    <tr style=\"text-align: right;\">\n      <th></th>\n      <th>col1</th>\n      <th>col2</th>\n      <th>col3</th>\n    </tr>\n  </thead>\n  <tbody>\n    <tr>\n      <th>0</th>\n      <td>x</td>\n      <td>y</td>\n      <td>1</td>\n    </tr>\n    <tr>\n      <th>1</th>\n      <td>a</td>\n      <td>b</td>\n      <td>2</td>\n    </tr>\n    <tr>\n      <th>2</th>\n      <td>c</td>\n      <td>d</td>\n      <td>3</td>\n    </tr>\n  </tbody>\n</table>\n</div>"
          },
          "metadata": {}
        }
      ]
    },
    {
      "metadata": {
        "trusted": true
      },
      "cell_type": "code",
      "source": "",
      "execution_count": null,
      "outputs": []
    },
    {
      "metadata": {
        "trusted": true
      },
      "cell_type": "code",
      "source": "## Read from specific columns\ndf=pd.read_csv(StringIO(data), usecols=['col1', 'col3'])",
      "execution_count": 39,
      "outputs": []
    },
    {
      "metadata": {
        "trusted": true
      },
      "cell_type": "code",
      "source": "df",
      "execution_count": 40,
      "outputs": [
        {
          "output_type": "execute_result",
          "execution_count": 40,
          "data": {
            "text/plain": "  col1  col3\n0    x     1\n1    a     2\n2    c     3",
            "text/html": "<div>\n<table border=\"1\" class=\"dataframe\">\n  <thead>\n    <tr style=\"text-align: right;\">\n      <th></th>\n      <th>col1</th>\n      <th>col3</th>\n    </tr>\n  </thead>\n  <tbody>\n    <tr>\n      <th>0</th>\n      <td>x</td>\n      <td>1</td>\n    </tr>\n    <tr>\n      <th>1</th>\n      <td>a</td>\n      <td>2</td>\n    </tr>\n    <tr>\n      <th>2</th>\n      <td>c</td>\n      <td>3</td>\n    </tr>\n  </tbody>\n</table>\n</div>"
          },
          "metadata": {}
        }
      ]
    },
    {
      "metadata": {
        "trusted": true
      },
      "cell_type": "code",
      "source": "df.to_csv('Test1.csv')",
      "execution_count": 41,
      "outputs": []
    },
    {
      "metadata": {
        "trusted": true
      },
      "cell_type": "code",
      "source": "## Specifying columns data types\n\ndata = ('a,b,c,d\\n'\n            '1,2,3,4\\n'\n            '5,6,7,8\\n'\n            '9,10,11')\n",
      "execution_count": 31,
      "outputs": []
    },
    {
      "metadata": {
        "trusted": true
      },
      "cell_type": "code",
      "source": "print(data)",
      "execution_count": 32,
      "outputs": [
        {
          "output_type": "stream",
          "text": "a,b,c,d\n1,2,3,4\n5,6,7,8\n9,10,11\n",
          "name": "stdout"
        }
      ]
    },
    {
      "metadata": {
        "trusted": true
      },
      "cell_type": "code",
      "source": "df=pd.read_csv(StringIO(data))#if dtype is int than change the nan to some integer or it will show error",
      "execution_count": 33,
      "outputs": []
    },
    {
      "metadata": {
        "trusted": true
      },
      "cell_type": "code",
      "source": "df",
      "execution_count": 34,
      "outputs": [
        {
          "output_type": "execute_result",
          "execution_count": 34,
          "data": {
            "text/html": "<div>\n<table border=\"1\" class=\"dataframe\">\n  <thead>\n    <tr style=\"text-align: right;\">\n      <th></th>\n      <th>a</th>\n      <th>b</th>\n      <th>c</th>\n      <th>d</th>\n    </tr>\n  </thead>\n  <tbody>\n    <tr>\n      <th>0</th>\n      <td>1</td>\n      <td>2</td>\n      <td>3</td>\n      <td>4.0</td>\n    </tr>\n    <tr>\n      <th>1</th>\n      <td>5</td>\n      <td>6</td>\n      <td>7</td>\n      <td>8.0</td>\n    </tr>\n    <tr>\n      <th>2</th>\n      <td>9</td>\n      <td>10</td>\n      <td>11</td>\n      <td>NaN</td>\n    </tr>\n  </tbody>\n</table>\n</div>",
            "text/plain": "   a   b   c    d\n0  1   2   3  4.0\n1  5   6   7  8.0\n2  9  10  11  NaN"
          },
          "metadata": {}
        }
      ]
    },
    {
      "metadata": {
        "trusted": true
      },
      "cell_type": "code",
      "source": "df['a'][1]#values are string ",
      "execution_count": 47,
      "outputs": [
        {
          "output_type": "execute_result",
          "execution_count": 47,
          "data": {
            "text/plain": "'5'"
          },
          "metadata": {}
        }
      ]
    },
    {
      "metadata": {
        "trusted": true
      },
      "cell_type": "code",
      "source": "df=pd.read_csv(StringIO(data),dtype={'b':int,'c':float,'a':'Int64'})#for converting different objects ie column name  into diff datatypes",
      "execution_count": 49,
      "outputs": []
    },
    {
      "metadata": {
        "trusted": true
      },
      "cell_type": "code",
      "source": "df",
      "execution_count": 50,
      "outputs": [
        {
          "output_type": "execute_result",
          "execution_count": 50,
          "data": {
            "text/plain": "   a   b     c    d\n0  1   2   3.0  4.0\n1  5   6   7.0  8.0\n2  9  10  11.0  NaN",
            "text/html": "<div>\n<table border=\"1\" class=\"dataframe\">\n  <thead>\n    <tr style=\"text-align: right;\">\n      <th></th>\n      <th>a</th>\n      <th>b</th>\n      <th>c</th>\n      <th>d</th>\n    </tr>\n  </thead>\n  <tbody>\n    <tr>\n      <th>0</th>\n      <td>1</td>\n      <td>2</td>\n      <td>3.0</td>\n      <td>4.0</td>\n    </tr>\n    <tr>\n      <th>1</th>\n      <td>5</td>\n      <td>6</td>\n      <td>7.0</td>\n      <td>8.0</td>\n    </tr>\n    <tr>\n      <th>2</th>\n      <td>9</td>\n      <td>10</td>\n      <td>11.0</td>\n      <td>NaN</td>\n    </tr>\n  </tbody>\n</table>\n</div>"
          },
          "metadata": {}
        }
      ]
    },
    {
      "metadata": {
        "trusted": false
      },
      "cell_type": "code",
      "source": "df['a'][1]",
      "execution_count": 103,
      "outputs": [
        {
          "data": {
            "text/plain": "5"
          },
          "execution_count": 103,
          "metadata": {},
          "output_type": "execute_result"
        }
      ]
    },
    {
      "metadata": {
        "trusted": true
      },
      "cell_type": "code",
      "source": "## check the datatype\ndf.dtypes",
      "execution_count": 51,
      "outputs": [
        {
          "output_type": "execute_result",
          "execution_count": 51,
          "data": {
            "text/plain": "a      int64\nb      int64\nc    float64\nd    float64\ndtype: object"
          },
          "metadata": {}
        }
      ]
    },
    {
      "metadata": {
        "trusted": false
      },
      "cell_type": "code",
      "source": "",
      "execution_count": null,
      "outputs": []
    },
    {
      "metadata": {
        "trusted": false
      },
      "cell_type": "code",
      "source": "## Index columns and training delimiters\n",
      "execution_count": 116,
      "outputs": []
    },
    {
      "metadata": {
        "trusted": false
      },
      "cell_type": "code",
      "source": "",
      "execution_count": null,
      "outputs": []
    },
    {
      "metadata": {
        "trusted": true
      },
      "cell_type": "code",
      "source": "data = ('index,a,b,c\\n'\n           '4,apple,bat,5.7\\n'\n            '8,orange,cow,10')",
      "execution_count": 53,
      "outputs": []
    },
    {
      "metadata": {
        "trusted": true
      },
      "cell_type": "code",
      "source": "pd.read_csv(StringIO(data),index_col=0)#change the index column",
      "execution_count": 55,
      "outputs": [
        {
          "output_type": "execute_result",
          "execution_count": 55,
          "data": {
            "text/plain": "            a    b     c\nindex                   \n4       apple  bat   5.7\n8      orange  cow  10.0",
            "text/html": "<div>\n<table border=\"1\" class=\"dataframe\">\n  <thead>\n    <tr style=\"text-align: right;\">\n      <th></th>\n      <th>a</th>\n      <th>b</th>\n      <th>c</th>\n    </tr>\n    <tr>\n      <th>index</th>\n      <th></th>\n      <th></th>\n      <th></th>\n    </tr>\n  </thead>\n  <tbody>\n    <tr>\n      <th>4</th>\n      <td>apple</td>\n      <td>bat</td>\n      <td>5.7</td>\n    </tr>\n    <tr>\n      <th>8</th>\n      <td>orange</td>\n      <td>cow</td>\n      <td>10.0</td>\n    </tr>\n  </tbody>\n</table>\n</div>"
          },
          "metadata": {}
        }
      ]
    },
    {
      "metadata": {
        "trusted": true
      },
      "cell_type": "code",
      "source": " data = ('a,b,c\\n'\n           '4,apple,bat,\\n'\n            '8,orange,cow,')",
      "execution_count": 37,
      "outputs": []
    },
    {
      "metadata": {
        "trusted": true
      },
      "cell_type": "code",
      "source": "pd.read_csv(StringIO(data))#ohhhhhh",
      "execution_count": 36,
      "outputs": [
        {
          "output_type": "execute_result",
          "execution_count": 36,
          "data": {
            "text/html": "<div>\n<table border=\"1\" class=\"dataframe\">\n  <thead>\n    <tr style=\"text-align: right;\">\n      <th></th>\n      <th>a</th>\n      <th>b</th>\n      <th>c</th>\n    </tr>\n  </thead>\n  <tbody>\n    <tr>\n      <th>4</th>\n      <td>apple</td>\n      <td>bat</td>\n      <td>NaN</td>\n    </tr>\n    <tr>\n      <th>orange</th>\n      <td>8</td>\n      <td>cow</td>\n      <td>NaN</td>\n    </tr>\n  </tbody>\n</table>\n</div>",
            "text/plain": "            a    b   c\n4       apple  bat NaN\norange      8  cow NaN"
          },
          "metadata": {}
        }
      ]
    },
    {
      "metadata": {
        "trusted": true
      },
      "cell_type": "code",
      "source": "pd.read_csv(StringIO(data),index_col=False)",
      "execution_count": 58,
      "outputs": [
        {
          "output_type": "execute_result",
          "execution_count": 58,
          "data": {
            "text/plain": "   a       b    c\n0  4   apple  bat\n1  8  orange  cow",
            "text/html": "<div>\n<table border=\"1\" class=\"dataframe\">\n  <thead>\n    <tr style=\"text-align: right;\">\n      <th></th>\n      <th>a</th>\n      <th>b</th>\n      <th>c</th>\n    </tr>\n  </thead>\n  <tbody>\n    <tr>\n      <th>0</th>\n      <td>4</td>\n      <td>apple</td>\n      <td>bat</td>\n    </tr>\n    <tr>\n      <th>1</th>\n      <td>8</td>\n      <td>orange</td>\n      <td>cow</td>\n    </tr>\n  </tbody>\n</table>\n</div>"
          },
          "metadata": {}
        }
      ]
    },
    {
      "metadata": {
        "trusted": true
      },
      "cell_type": "code",
      "source": "## Combining usecols and index_col\ndata = ('a,b,c\\n'\n           '4,apple,bat,\\n'\n            '8,orange,cow,')",
      "execution_count": 68,
      "outputs": []
    },
    {
      "metadata": {
        "trusted": true
      },
      "cell_type": "code",
      "source": "pd.read_csv(StringIO(data), usecols=['b', 'c'],index_col=False)",
      "execution_count": 69,
      "outputs": [
        {
          "output_type": "execute_result",
          "execution_count": 69,
          "data": {
            "text/plain": "        b    c\n0   apple  bat\n1  orange  cow",
            "text/html": "<div>\n<table border=\"1\" class=\"dataframe\">\n  <thead>\n    <tr style=\"text-align: right;\">\n      <th></th>\n      <th>b</th>\n      <th>c</th>\n    </tr>\n  </thead>\n  <tbody>\n    <tr>\n      <th>0</th>\n      <td>apple</td>\n      <td>bat</td>\n    </tr>\n    <tr>\n      <th>1</th>\n      <td>orange</td>\n      <td>cow</td>\n    </tr>\n  </tbody>\n</table>\n</div>"
          },
          "metadata": {}
        }
      ]
    },
    {
      "metadata": {
        "trusted": true
      },
      "cell_type": "code",
      "source": "## Quoting and Escape Characters¶. Very useful in NLP\n\ndata = 'a,b\\n\"hello, \\\\\"Bob\\\\\", nice to see you\",5'",
      "execution_count": 70,
      "outputs": []
    },
    {
      "metadata": {
        "trusted": true
      },
      "cell_type": "code",
      "source": "pd.read_csv(StringIO(data),escapechar='\\\\')",
      "execution_count": 71,
      "outputs": [
        {
          "output_type": "execute_result",
          "execution_count": 71,
          "data": {
            "text/plain": "                               a  b\n0  hello, \"Bob\", nice to see you  5",
            "text/html": "<div>\n<table border=\"1\" class=\"dataframe\">\n  <thead>\n    <tr style=\"text-align: right;\">\n      <th></th>\n      <th>a</th>\n      <th>b</th>\n    </tr>\n  </thead>\n  <tbody>\n    <tr>\n      <th>0</th>\n      <td>hello, \"Bob\", nice to see you</td>\n      <td>5</td>\n    </tr>\n  </tbody>\n</table>\n</div>"
          },
          "metadata": {}
        }
      ]
    },
    {
      "metadata": {
        "trusted": true
      },
      "cell_type": "code",
      "source": "## URL to CSV\n\ndf=pd.read_csv('https://download.bls.gov/pub/time.series/cu/cu.item',\n                 sep='\\t')",
      "execution_count": 72,
      "outputs": []
    },
    {
      "metadata": {
        "trusted": true
      },
      "cell_type": "code",
      "source": "df.head()",
      "execution_count": 73,
      "outputs": [
        {
          "output_type": "execute_result",
          "execution_count": 73,
          "data": {
            "text/plain": "  item_code                                          item_name  display_level  \\\n0       AA0                               All items - old base              0   \n1      AA0R  Purchasing power of the consumer dollar - old ...              0   \n2       SA0                                          All items              0   \n3      SA0E                                             Energy              1   \n4     SA0L1                                All items less food              1   \n\n  selectable  sort_sequence  \n0          T              2  \n1          T            399  \n2          T              1  \n3          T            374  \n4          T            358  ",
            "text/html": "<div>\n<table border=\"1\" class=\"dataframe\">\n  <thead>\n    <tr style=\"text-align: right;\">\n      <th></th>\n      <th>item_code</th>\n      <th>item_name</th>\n      <th>display_level</th>\n      <th>selectable</th>\n      <th>sort_sequence</th>\n    </tr>\n  </thead>\n  <tbody>\n    <tr>\n      <th>0</th>\n      <td>AA0</td>\n      <td>All items - old base</td>\n      <td>0</td>\n      <td>T</td>\n      <td>2</td>\n    </tr>\n    <tr>\n      <th>1</th>\n      <td>AA0R</td>\n      <td>Purchasing power of the consumer dollar - old ...</td>\n      <td>0</td>\n      <td>T</td>\n      <td>399</td>\n    </tr>\n    <tr>\n      <th>2</th>\n      <td>SA0</td>\n      <td>All items</td>\n      <td>0</td>\n      <td>T</td>\n      <td>1</td>\n    </tr>\n    <tr>\n      <th>3</th>\n      <td>SA0E</td>\n      <td>Energy</td>\n      <td>1</td>\n      <td>T</td>\n      <td>374</td>\n    </tr>\n    <tr>\n      <th>4</th>\n      <td>SA0L1</td>\n      <td>All items less food</td>\n      <td>1</td>\n      <td>T</td>\n      <td>358</td>\n    </tr>\n  </tbody>\n</table>\n</div>"
          },
          "metadata": {}
        }
      ]
    },
    {
      "metadata": {},
      "cell_type": "markdown",
      "source": "## Read Json to CSV"
    },
    {
      "metadata": {
        "trusted": true
      },
      "cell_type": "code",
      "source": "Data = '{\"employee_name\": \"James\", \"email\": \"james@gmail.com\", \"job_profile\": [{\"title1\":\"Team Lead\", \"title2\":\"Sr. Developer\"}]}'\npd.read_json(Data)",
      "execution_count": 74,
      "outputs": [
        {
          "output_type": "execute_result",
          "execution_count": 74,
          "data": {
            "text/plain": "             email employee_name  \\\n0  james@gmail.com         James   \n\n                                         job_profile  \n0  {'title1': 'Team Lead', 'title2': 'Sr. Develop...  ",
            "text/html": "<div>\n<table border=\"1\" class=\"dataframe\">\n  <thead>\n    <tr style=\"text-align: right;\">\n      <th></th>\n      <th>email</th>\n      <th>employee_name</th>\n      <th>job_profile</th>\n    </tr>\n  </thead>\n  <tbody>\n    <tr>\n      <th>0</th>\n      <td>james@gmail.com</td>\n      <td>James</td>\n      <td>{'title1': 'Team Lead', 'title2': 'Sr. Develop...</td>\n    </tr>\n  </tbody>\n</table>\n</div>"
          },
          "metadata": {}
        }
      ]
    },
    {
      "metadata": {
        "trusted": true
      },
      "cell_type": "code",
      "source": "df = pd.read_csv('https://archive.ics.uci.edu/ml/machine-learning-databases/wine/wine.data', header=None)",
      "execution_count": 75,
      "outputs": [
        {
          "output_type": "error",
          "ename": "URLError",
          "evalue": "<urlopen error [SSL: CERTIFICATE_VERIFY_FAILED] certificate verify failed (_ssl.c:719)>",
          "traceback": [
            "\u001b[0;31m---------------------------------------------------------------------------\u001b[0m",
            "\u001b[0;31mSSLError\u001b[0m                                  Traceback (most recent call last)",
            "\u001b[0;32m~/anaconda3_420/lib/python3.5/urllib/request.py\u001b[0m in \u001b[0;36mdo_open\u001b[0;34m(self, http_class, req, **http_conn_args)\u001b[0m\n\u001b[1;32m   1253\u001b[0m             \u001b[0;32mtry\u001b[0m\u001b[0;34m:\u001b[0m\u001b[0;34m\u001b[0m\u001b[0m\n\u001b[0;32m-> 1254\u001b[0;31m                 \u001b[0mh\u001b[0m\u001b[0;34m.\u001b[0m\u001b[0mrequest\u001b[0m\u001b[0;34m(\u001b[0m\u001b[0mreq\u001b[0m\u001b[0;34m.\u001b[0m\u001b[0mget_method\u001b[0m\u001b[0;34m(\u001b[0m\u001b[0;34m)\u001b[0m\u001b[0;34m,\u001b[0m \u001b[0mreq\u001b[0m\u001b[0;34m.\u001b[0m\u001b[0mselector\u001b[0m\u001b[0;34m,\u001b[0m \u001b[0mreq\u001b[0m\u001b[0;34m.\u001b[0m\u001b[0mdata\u001b[0m\u001b[0;34m,\u001b[0m \u001b[0mheaders\u001b[0m\u001b[0;34m)\u001b[0m\u001b[0;34m\u001b[0m\u001b[0m\n\u001b[0m\u001b[1;32m   1255\u001b[0m             \u001b[0;32mexcept\u001b[0m \u001b[0mOSError\u001b[0m \u001b[0;32mas\u001b[0m \u001b[0merr\u001b[0m\u001b[0;34m:\u001b[0m \u001b[0;31m# timeout error\u001b[0m\u001b[0;34m\u001b[0m\u001b[0m\n",
            "\u001b[0;32m~/anaconda3_420/lib/python3.5/http/client.py\u001b[0m in \u001b[0;36mrequest\u001b[0;34m(self, method, url, body, headers)\u001b[0m\n\u001b[1;32m   1106\u001b[0m         \u001b[0;34m\"\"\"Send a complete request to the server.\"\"\"\u001b[0m\u001b[0;34m\u001b[0m\u001b[0m\n\u001b[0;32m-> 1107\u001b[0;31m         \u001b[0mself\u001b[0m\u001b[0;34m.\u001b[0m\u001b[0m_send_request\u001b[0m\u001b[0;34m(\u001b[0m\u001b[0mmethod\u001b[0m\u001b[0;34m,\u001b[0m \u001b[0murl\u001b[0m\u001b[0;34m,\u001b[0m \u001b[0mbody\u001b[0m\u001b[0;34m,\u001b[0m \u001b[0mheaders\u001b[0m\u001b[0;34m)\u001b[0m\u001b[0;34m\u001b[0m\u001b[0m\n\u001b[0m\u001b[1;32m   1108\u001b[0m \u001b[0;34m\u001b[0m\u001b[0m\n",
            "\u001b[0;32m~/anaconda3_420/lib/python3.5/http/client.py\u001b[0m in \u001b[0;36m_send_request\u001b[0;34m(self, method, url, body, headers)\u001b[0m\n\u001b[1;32m   1151\u001b[0m             \u001b[0mbody\u001b[0m \u001b[0;34m=\u001b[0m \u001b[0m_encode\u001b[0m\u001b[0;34m(\u001b[0m\u001b[0mbody\u001b[0m\u001b[0;34m,\u001b[0m \u001b[0;34m'body'\u001b[0m\u001b[0;34m)\u001b[0m\u001b[0;34m\u001b[0m\u001b[0m\n\u001b[0;32m-> 1152\u001b[0;31m         \u001b[0mself\u001b[0m\u001b[0;34m.\u001b[0m\u001b[0mendheaders\u001b[0m\u001b[0;34m(\u001b[0m\u001b[0mbody\u001b[0m\u001b[0;34m)\u001b[0m\u001b[0;34m\u001b[0m\u001b[0m\n\u001b[0m\u001b[1;32m   1153\u001b[0m \u001b[0;34m\u001b[0m\u001b[0m\n",
            "\u001b[0;32m~/anaconda3_420/lib/python3.5/http/client.py\u001b[0m in \u001b[0;36mendheaders\u001b[0;34m(self, message_body)\u001b[0m\n\u001b[1;32m   1102\u001b[0m             \u001b[0;32mraise\u001b[0m \u001b[0mCannotSendHeader\u001b[0m\u001b[0;34m(\u001b[0m\u001b[0;34m)\u001b[0m\u001b[0;34m\u001b[0m\u001b[0m\n\u001b[0;32m-> 1103\u001b[0;31m         \u001b[0mself\u001b[0m\u001b[0;34m.\u001b[0m\u001b[0m_send_output\u001b[0m\u001b[0;34m(\u001b[0m\u001b[0mmessage_body\u001b[0m\u001b[0;34m)\u001b[0m\u001b[0;34m\u001b[0m\u001b[0m\n\u001b[0m\u001b[1;32m   1104\u001b[0m \u001b[0;34m\u001b[0m\u001b[0m\n",
            "\u001b[0;32m~/anaconda3_420/lib/python3.5/http/client.py\u001b[0m in \u001b[0;36m_send_output\u001b[0;34m(self, message_body)\u001b[0m\n\u001b[1;32m    933\u001b[0m \u001b[0;34m\u001b[0m\u001b[0m\n\u001b[0;32m--> 934\u001b[0;31m         \u001b[0mself\u001b[0m\u001b[0;34m.\u001b[0m\u001b[0msend\u001b[0m\u001b[0;34m(\u001b[0m\u001b[0mmsg\u001b[0m\u001b[0;34m)\u001b[0m\u001b[0;34m\u001b[0m\u001b[0m\n\u001b[0m\u001b[1;32m    935\u001b[0m         \u001b[0;32mif\u001b[0m \u001b[0mmessage_body\u001b[0m \u001b[0;32mis\u001b[0m \u001b[0;32mnot\u001b[0m \u001b[0;32mNone\u001b[0m\u001b[0;34m:\u001b[0m\u001b[0;34m\u001b[0m\u001b[0m\n",
            "\u001b[0;32m~/anaconda3_420/lib/python3.5/http/client.py\u001b[0m in \u001b[0;36msend\u001b[0;34m(self, data)\u001b[0m\n\u001b[1;32m    876\u001b[0m             \u001b[0;32mif\u001b[0m \u001b[0mself\u001b[0m\u001b[0;34m.\u001b[0m\u001b[0mauto_open\u001b[0m\u001b[0;34m:\u001b[0m\u001b[0;34m\u001b[0m\u001b[0m\n\u001b[0;32m--> 877\u001b[0;31m                 \u001b[0mself\u001b[0m\u001b[0;34m.\u001b[0m\u001b[0mconnect\u001b[0m\u001b[0;34m(\u001b[0m\u001b[0;34m)\u001b[0m\u001b[0;34m\u001b[0m\u001b[0m\n\u001b[0m\u001b[1;32m    878\u001b[0m             \u001b[0;32melse\u001b[0m\u001b[0;34m:\u001b[0m\u001b[0;34m\u001b[0m\u001b[0m\n",
            "\u001b[0;32m~/anaconda3_420/lib/python3.5/http/client.py\u001b[0m in \u001b[0;36mconnect\u001b[0;34m(self)\u001b[0m\n\u001b[1;32m   1260\u001b[0m             self.sock = self._context.wrap_socket(self.sock,\n\u001b[0;32m-> 1261\u001b[0;31m                                                   server_hostname=server_hostname)\n\u001b[0m\u001b[1;32m   1262\u001b[0m             \u001b[0;32mif\u001b[0m \u001b[0;32mnot\u001b[0m \u001b[0mself\u001b[0m\u001b[0;34m.\u001b[0m\u001b[0m_context\u001b[0m\u001b[0;34m.\u001b[0m\u001b[0mcheck_hostname\u001b[0m \u001b[0;32mand\u001b[0m \u001b[0mself\u001b[0m\u001b[0;34m.\u001b[0m\u001b[0m_check_hostname\u001b[0m\u001b[0;34m:\u001b[0m\u001b[0;34m\u001b[0m\u001b[0m\n",
            "\u001b[0;32m~/anaconda3_420/lib/python3.5/ssl.py\u001b[0m in \u001b[0;36mwrap_socket\u001b[0;34m(self, sock, server_side, do_handshake_on_connect, suppress_ragged_eofs, server_hostname)\u001b[0m\n\u001b[1;32m    384\u001b[0m                          \u001b[0mserver_hostname\u001b[0m\u001b[0;34m=\u001b[0m\u001b[0mserver_hostname\u001b[0m\u001b[0;34m,\u001b[0m\u001b[0;34m\u001b[0m\u001b[0m\n\u001b[0;32m--> 385\u001b[0;31m                          _context=self)\n\u001b[0m\u001b[1;32m    386\u001b[0m \u001b[0;34m\u001b[0m\u001b[0m\n",
            "\u001b[0;32m~/anaconda3_420/lib/python3.5/ssl.py\u001b[0m in \u001b[0;36m__init__\u001b[0;34m(self, sock, keyfile, certfile, server_side, cert_reqs, ssl_version, ca_certs, do_handshake_on_connect, family, type, proto, fileno, suppress_ragged_eofs, npn_protocols, ciphers, server_hostname, _context)\u001b[0m\n\u001b[1;32m    759\u001b[0m                         \u001b[0;32mraise\u001b[0m \u001b[0mValueError\u001b[0m\u001b[0;34m(\u001b[0m\u001b[0;34m\"do_handshake_on_connect should not be specified for non-blocking sockets\"\u001b[0m\u001b[0;34m)\u001b[0m\u001b[0;34m\u001b[0m\u001b[0m\n\u001b[0;32m--> 760\u001b[0;31m                     \u001b[0mself\u001b[0m\u001b[0;34m.\u001b[0m\u001b[0mdo_handshake\u001b[0m\u001b[0;34m(\u001b[0m\u001b[0;34m)\u001b[0m\u001b[0;34m\u001b[0m\u001b[0m\n\u001b[0m\u001b[1;32m    761\u001b[0m \u001b[0;34m\u001b[0m\u001b[0m\n",
            "\u001b[0;32m~/anaconda3_420/lib/python3.5/ssl.py\u001b[0m in \u001b[0;36mdo_handshake\u001b[0;34m(self, block)\u001b[0m\n\u001b[1;32m    995\u001b[0m                 \u001b[0mself\u001b[0m\u001b[0;34m.\u001b[0m\u001b[0msettimeout\u001b[0m\u001b[0;34m(\u001b[0m\u001b[0;32mNone\u001b[0m\u001b[0;34m)\u001b[0m\u001b[0;34m\u001b[0m\u001b[0m\n\u001b[0;32m--> 996\u001b[0;31m             \u001b[0mself\u001b[0m\u001b[0;34m.\u001b[0m\u001b[0m_sslobj\u001b[0m\u001b[0;34m.\u001b[0m\u001b[0mdo_handshake\u001b[0m\u001b[0;34m(\u001b[0m\u001b[0;34m)\u001b[0m\u001b[0;34m\u001b[0m\u001b[0m\n\u001b[0m\u001b[1;32m    997\u001b[0m         \u001b[0;32mfinally\u001b[0m\u001b[0;34m:\u001b[0m\u001b[0;34m\u001b[0m\u001b[0m\n",
            "\u001b[0;32m~/anaconda3_420/lib/python3.5/ssl.py\u001b[0m in \u001b[0;36mdo_handshake\u001b[0;34m(self)\u001b[0m\n\u001b[1;32m    640\u001b[0m         \u001b[0;34m\"\"\"Start the SSL/TLS handshake.\"\"\"\u001b[0m\u001b[0;34m\u001b[0m\u001b[0m\n\u001b[0;32m--> 641\u001b[0;31m         \u001b[0mself\u001b[0m\u001b[0;34m.\u001b[0m\u001b[0m_sslobj\u001b[0m\u001b[0;34m.\u001b[0m\u001b[0mdo_handshake\u001b[0m\u001b[0;34m(\u001b[0m\u001b[0;34m)\u001b[0m\u001b[0;34m\u001b[0m\u001b[0m\n\u001b[0m\u001b[1;32m    642\u001b[0m         \u001b[0;32mif\u001b[0m \u001b[0mself\u001b[0m\u001b[0;34m.\u001b[0m\u001b[0mcontext\u001b[0m\u001b[0;34m.\u001b[0m\u001b[0mcheck_hostname\u001b[0m\u001b[0;34m:\u001b[0m\u001b[0;34m\u001b[0m\u001b[0m\n",
            "\u001b[0;31mSSLError\u001b[0m: [SSL: CERTIFICATE_VERIFY_FAILED] certificate verify failed (_ssl.c:719)",
            "\nDuring handling of the above exception, another exception occurred:\n",
            "\u001b[0;31mURLError\u001b[0m                                  Traceback (most recent call last)",
            "\u001b[0;32m<ipython-input-75-ea643dbb5e3e>\u001b[0m in \u001b[0;36m<module>\u001b[0;34m()\u001b[0m\n\u001b[0;32m----> 1\u001b[0;31m \u001b[0mdf\u001b[0m \u001b[0;34m=\u001b[0m \u001b[0mpd\u001b[0m\u001b[0;34m.\u001b[0m\u001b[0mread_csv\u001b[0m\u001b[0;34m(\u001b[0m\u001b[0;34m'https://archive.ics.uci.edu/ml/machine-learning-databases/wine/wine.data'\u001b[0m\u001b[0;34m,\u001b[0m \u001b[0mheader\u001b[0m\u001b[0;34m=\u001b[0m\u001b[0;32mNone\u001b[0m\u001b[0;34m)\u001b[0m\u001b[0;34m\u001b[0m\u001b[0m\n\u001b[0m",
            "\u001b[0;32m~/anaconda3_420/lib/python3.5/site-packages/pandas/io/parsers.py\u001b[0m in \u001b[0;36mparser_f\u001b[0;34m(filepath_or_buffer, sep, delimiter, header, names, index_col, usecols, squeeze, prefix, mangle_dupe_cols, dtype, engine, converters, true_values, false_values, skipinitialspace, skiprows, nrows, na_values, keep_default_na, na_filter, verbose, skip_blank_lines, parse_dates, infer_datetime_format, keep_date_col, date_parser, dayfirst, iterator, chunksize, compression, thousands, decimal, lineterminator, quotechar, quoting, escapechar, comment, encoding, dialect, tupleize_cols, error_bad_lines, warn_bad_lines, skipfooter, skip_footer, doublequote, delim_whitespace, as_recarray, compact_ints, use_unsigned, low_memory, buffer_lines, memory_map, float_precision)\u001b[0m\n\u001b[1;32m    644\u001b[0m                     skip_blank_lines=skip_blank_lines)\n\u001b[1;32m    645\u001b[0m \u001b[0;34m\u001b[0m\u001b[0m\n\u001b[0;32m--> 646\u001b[0;31m         \u001b[0;32mreturn\u001b[0m \u001b[0m_read\u001b[0m\u001b[0;34m(\u001b[0m\u001b[0mfilepath_or_buffer\u001b[0m\u001b[0;34m,\u001b[0m \u001b[0mkwds\u001b[0m\u001b[0;34m)\u001b[0m\u001b[0;34m\u001b[0m\u001b[0m\n\u001b[0m\u001b[1;32m    647\u001b[0m \u001b[0;34m\u001b[0m\u001b[0m\n\u001b[1;32m    648\u001b[0m     \u001b[0mparser_f\u001b[0m\u001b[0;34m.\u001b[0m\u001b[0m__name__\u001b[0m \u001b[0;34m=\u001b[0m \u001b[0mname\u001b[0m\u001b[0;34m\u001b[0m\u001b[0m\n",
            "\u001b[0;32m~/anaconda3_420/lib/python3.5/site-packages/pandas/io/parsers.py\u001b[0m in \u001b[0;36m_read\u001b[0;34m(filepath_or_buffer, kwds)\u001b[0m\n\u001b[1;32m    373\u001b[0m     filepath_or_buffer, _, compression = get_filepath_or_buffer(\n\u001b[1;32m    374\u001b[0m         \u001b[0mfilepath_or_buffer\u001b[0m\u001b[0;34m,\u001b[0m \u001b[0mencoding\u001b[0m\u001b[0;34m,\u001b[0m\u001b[0;34m\u001b[0m\u001b[0m\n\u001b[0;32m--> 375\u001b[0;31m         compression=kwds.get('compression', None))\n\u001b[0m\u001b[1;32m    376\u001b[0m     kwds['compression'] = (inferred_compression if compression == 'infer'\n\u001b[1;32m    377\u001b[0m                            else compression)\n",
            "\u001b[0;32m~/anaconda3_420/lib/python3.5/site-packages/pandas/io/common.py\u001b[0m in \u001b[0;36mget_filepath_or_buffer\u001b[0;34m(filepath_or_buffer, encoding, compression)\u001b[0m\n\u001b[1;32m    236\u001b[0m \u001b[0;34m\u001b[0m\u001b[0m\n\u001b[1;32m    237\u001b[0m     \u001b[0;32mif\u001b[0m \u001b[0m_is_url\u001b[0m\u001b[0;34m(\u001b[0m\u001b[0mfilepath_or_buffer\u001b[0m\u001b[0;34m)\u001b[0m\u001b[0;34m:\u001b[0m\u001b[0;34m\u001b[0m\u001b[0m\n\u001b[0;32m--> 238\u001b[0;31m         \u001b[0mreq\u001b[0m \u001b[0;34m=\u001b[0m \u001b[0m_urlopen\u001b[0m\u001b[0;34m(\u001b[0m\u001b[0mstr\u001b[0m\u001b[0;34m(\u001b[0m\u001b[0mfilepath_or_buffer\u001b[0m\u001b[0;34m)\u001b[0m\u001b[0;34m)\u001b[0m\u001b[0;34m\u001b[0m\u001b[0m\n\u001b[0m\u001b[1;32m    239\u001b[0m         \u001b[0;32mif\u001b[0m \u001b[0mcompression\u001b[0m \u001b[0;34m==\u001b[0m \u001b[0;34m'infer'\u001b[0m\u001b[0;34m:\u001b[0m\u001b[0;34m\u001b[0m\u001b[0m\n\u001b[1;32m    240\u001b[0m             \u001b[0mcontent_encoding\u001b[0m \u001b[0;34m=\u001b[0m \u001b[0mreq\u001b[0m\u001b[0;34m.\u001b[0m\u001b[0mheaders\u001b[0m\u001b[0;34m.\u001b[0m\u001b[0mget\u001b[0m\u001b[0;34m(\u001b[0m\u001b[0;34m'Content-Encoding'\u001b[0m\u001b[0;34m,\u001b[0m \u001b[0;32mNone\u001b[0m\u001b[0;34m)\u001b[0m\u001b[0;34m\u001b[0m\u001b[0m\n",
            "\u001b[0;32m~/anaconda3_420/lib/python3.5/urllib/request.py\u001b[0m in \u001b[0;36murlopen\u001b[0;34m(url, data, timeout, cafile, capath, cadefault, context)\u001b[0m\n\u001b[1;32m    161\u001b[0m     \u001b[0;32melse\u001b[0m\u001b[0;34m:\u001b[0m\u001b[0;34m\u001b[0m\u001b[0m\n\u001b[1;32m    162\u001b[0m         \u001b[0mopener\u001b[0m \u001b[0;34m=\u001b[0m \u001b[0m_opener\u001b[0m\u001b[0;34m\u001b[0m\u001b[0m\n\u001b[0;32m--> 163\u001b[0;31m     \u001b[0;32mreturn\u001b[0m \u001b[0mopener\u001b[0m\u001b[0;34m.\u001b[0m\u001b[0mopen\u001b[0m\u001b[0;34m(\u001b[0m\u001b[0murl\u001b[0m\u001b[0;34m,\u001b[0m \u001b[0mdata\u001b[0m\u001b[0;34m,\u001b[0m \u001b[0mtimeout\u001b[0m\u001b[0;34m)\u001b[0m\u001b[0;34m\u001b[0m\u001b[0m\n\u001b[0m\u001b[1;32m    164\u001b[0m \u001b[0;34m\u001b[0m\u001b[0m\n\u001b[1;32m    165\u001b[0m \u001b[0;32mdef\u001b[0m \u001b[0minstall_opener\u001b[0m\u001b[0;34m(\u001b[0m\u001b[0mopener\u001b[0m\u001b[0;34m)\u001b[0m\u001b[0;34m:\u001b[0m\u001b[0;34m\u001b[0m\u001b[0m\n",
            "\u001b[0;32m~/anaconda3_420/lib/python3.5/urllib/request.py\u001b[0m in \u001b[0;36mopen\u001b[0;34m(self, fullurl, data, timeout)\u001b[0m\n\u001b[1;32m    464\u001b[0m             \u001b[0mreq\u001b[0m \u001b[0;34m=\u001b[0m \u001b[0mmeth\u001b[0m\u001b[0;34m(\u001b[0m\u001b[0mreq\u001b[0m\u001b[0;34m)\u001b[0m\u001b[0;34m\u001b[0m\u001b[0m\n\u001b[1;32m    465\u001b[0m \u001b[0;34m\u001b[0m\u001b[0m\n\u001b[0;32m--> 466\u001b[0;31m         \u001b[0mresponse\u001b[0m \u001b[0;34m=\u001b[0m \u001b[0mself\u001b[0m\u001b[0;34m.\u001b[0m\u001b[0m_open\u001b[0m\u001b[0;34m(\u001b[0m\u001b[0mreq\u001b[0m\u001b[0;34m,\u001b[0m \u001b[0mdata\u001b[0m\u001b[0;34m)\u001b[0m\u001b[0;34m\u001b[0m\u001b[0m\n\u001b[0m\u001b[1;32m    467\u001b[0m \u001b[0;34m\u001b[0m\u001b[0m\n\u001b[1;32m    468\u001b[0m         \u001b[0;31m# post-process response\u001b[0m\u001b[0;34m\u001b[0m\u001b[0;34m\u001b[0m\u001b[0m\n",
            "\u001b[0;32m~/anaconda3_420/lib/python3.5/urllib/request.py\u001b[0m in \u001b[0;36m_open\u001b[0;34m(self, req, data)\u001b[0m\n\u001b[1;32m    482\u001b[0m         \u001b[0mprotocol\u001b[0m \u001b[0;34m=\u001b[0m \u001b[0mreq\u001b[0m\u001b[0;34m.\u001b[0m\u001b[0mtype\u001b[0m\u001b[0;34m\u001b[0m\u001b[0m\n\u001b[1;32m    483\u001b[0m         result = self._call_chain(self.handle_open, protocol, protocol +\n\u001b[0;32m--> 484\u001b[0;31m                                   '_open', req)\n\u001b[0m\u001b[1;32m    485\u001b[0m         \u001b[0;32mif\u001b[0m \u001b[0mresult\u001b[0m\u001b[0;34m:\u001b[0m\u001b[0;34m\u001b[0m\u001b[0m\n\u001b[1;32m    486\u001b[0m             \u001b[0;32mreturn\u001b[0m \u001b[0mresult\u001b[0m\u001b[0;34m\u001b[0m\u001b[0m\n",
            "\u001b[0;32m~/anaconda3_420/lib/python3.5/urllib/request.py\u001b[0m in \u001b[0;36m_call_chain\u001b[0;34m(self, chain, kind, meth_name, *args)\u001b[0m\n\u001b[1;32m    442\u001b[0m         \u001b[0;32mfor\u001b[0m \u001b[0mhandler\u001b[0m \u001b[0;32min\u001b[0m \u001b[0mhandlers\u001b[0m\u001b[0;34m:\u001b[0m\u001b[0;34m\u001b[0m\u001b[0m\n\u001b[1;32m    443\u001b[0m             \u001b[0mfunc\u001b[0m \u001b[0;34m=\u001b[0m \u001b[0mgetattr\u001b[0m\u001b[0;34m(\u001b[0m\u001b[0mhandler\u001b[0m\u001b[0;34m,\u001b[0m \u001b[0mmeth_name\u001b[0m\u001b[0;34m)\u001b[0m\u001b[0;34m\u001b[0m\u001b[0m\n\u001b[0;32m--> 444\u001b[0;31m             \u001b[0mresult\u001b[0m \u001b[0;34m=\u001b[0m \u001b[0mfunc\u001b[0m\u001b[0;34m(\u001b[0m\u001b[0;34m*\u001b[0m\u001b[0margs\u001b[0m\u001b[0;34m)\u001b[0m\u001b[0;34m\u001b[0m\u001b[0m\n\u001b[0m\u001b[1;32m    445\u001b[0m             \u001b[0;32mif\u001b[0m \u001b[0mresult\u001b[0m \u001b[0;32mis\u001b[0m \u001b[0;32mnot\u001b[0m \u001b[0;32mNone\u001b[0m\u001b[0;34m:\u001b[0m\u001b[0;34m\u001b[0m\u001b[0m\n\u001b[1;32m    446\u001b[0m                 \u001b[0;32mreturn\u001b[0m \u001b[0mresult\u001b[0m\u001b[0;34m\u001b[0m\u001b[0m\n",
            "\u001b[0;32m~/anaconda3_420/lib/python3.5/urllib/request.py\u001b[0m in \u001b[0;36mhttps_open\u001b[0;34m(self, req)\u001b[0m\n\u001b[1;32m   1295\u001b[0m         \u001b[0;32mdef\u001b[0m \u001b[0mhttps_open\u001b[0m\u001b[0;34m(\u001b[0m\u001b[0mself\u001b[0m\u001b[0;34m,\u001b[0m \u001b[0mreq\u001b[0m\u001b[0;34m)\u001b[0m\u001b[0;34m:\u001b[0m\u001b[0;34m\u001b[0m\u001b[0m\n\u001b[1;32m   1296\u001b[0m             return self.do_open(http.client.HTTPSConnection, req,\n\u001b[0;32m-> 1297\u001b[0;31m                 context=self._context, check_hostname=self._check_hostname)\n\u001b[0m\u001b[1;32m   1298\u001b[0m \u001b[0;34m\u001b[0m\u001b[0m\n\u001b[1;32m   1299\u001b[0m         \u001b[0mhttps_request\u001b[0m \u001b[0;34m=\u001b[0m \u001b[0mAbstractHTTPHandler\u001b[0m\u001b[0;34m.\u001b[0m\u001b[0mdo_request_\u001b[0m\u001b[0;34m\u001b[0m\u001b[0m\n",
            "\u001b[0;32m~/anaconda3_420/lib/python3.5/urllib/request.py\u001b[0m in \u001b[0;36mdo_open\u001b[0;34m(self, http_class, req, **http_conn_args)\u001b[0m\n\u001b[1;32m   1254\u001b[0m                 \u001b[0mh\u001b[0m\u001b[0;34m.\u001b[0m\u001b[0mrequest\u001b[0m\u001b[0;34m(\u001b[0m\u001b[0mreq\u001b[0m\u001b[0;34m.\u001b[0m\u001b[0mget_method\u001b[0m\u001b[0;34m(\u001b[0m\u001b[0;34m)\u001b[0m\u001b[0;34m,\u001b[0m \u001b[0mreq\u001b[0m\u001b[0;34m.\u001b[0m\u001b[0mselector\u001b[0m\u001b[0;34m,\u001b[0m \u001b[0mreq\u001b[0m\u001b[0;34m.\u001b[0m\u001b[0mdata\u001b[0m\u001b[0;34m,\u001b[0m \u001b[0mheaders\u001b[0m\u001b[0;34m)\u001b[0m\u001b[0;34m\u001b[0m\u001b[0m\n\u001b[1;32m   1255\u001b[0m             \u001b[0;32mexcept\u001b[0m \u001b[0mOSError\u001b[0m \u001b[0;32mas\u001b[0m \u001b[0merr\u001b[0m\u001b[0;34m:\u001b[0m \u001b[0;31m# timeout error\u001b[0m\u001b[0;34m\u001b[0m\u001b[0m\n\u001b[0;32m-> 1256\u001b[0;31m                 \u001b[0;32mraise\u001b[0m \u001b[0mURLError\u001b[0m\u001b[0;34m(\u001b[0m\u001b[0merr\u001b[0m\u001b[0;34m)\u001b[0m\u001b[0;34m\u001b[0m\u001b[0m\n\u001b[0m\u001b[1;32m   1257\u001b[0m             \u001b[0mr\u001b[0m \u001b[0;34m=\u001b[0m \u001b[0mh\u001b[0m\u001b[0;34m.\u001b[0m\u001b[0mgetresponse\u001b[0m\u001b[0;34m(\u001b[0m\u001b[0;34m)\u001b[0m\u001b[0;34m\u001b[0m\u001b[0m\n\u001b[1;32m   1258\u001b[0m         \u001b[0;32mexcept\u001b[0m\u001b[0;34m:\u001b[0m\u001b[0;34m\u001b[0m\u001b[0m\n",
            "\u001b[0;31mURLError\u001b[0m: <urlopen error [SSL: CERTIFICATE_VERIFY_FAILED] certificate verify failed (_ssl.c:719)>"
          ]
        }
      ]
    },
    {
      "metadata": {
        "trusted": false
      },
      "cell_type": "code",
      "source": "df.head()",
      "execution_count": 144,
      "outputs": [
        {
          "data": {
            "text/html": "<div>\n<style scoped>\n    .dataframe tbody tr th:only-of-type {\n        vertical-align: middle;\n    }\n\n    .dataframe tbody tr th {\n        vertical-align: top;\n    }\n\n    .dataframe thead th {\n        text-align: right;\n    }\n</style>\n<table border=\"1\" class=\"dataframe\">\n  <thead>\n    <tr style=\"text-align: right;\">\n      <th></th>\n      <th>0</th>\n      <th>1</th>\n      <th>2</th>\n      <th>3</th>\n      <th>4</th>\n      <th>5</th>\n      <th>6</th>\n      <th>7</th>\n      <th>8</th>\n      <th>9</th>\n      <th>10</th>\n      <th>11</th>\n      <th>12</th>\n      <th>13</th>\n    </tr>\n  </thead>\n  <tbody>\n    <tr>\n      <th>0</th>\n      <td>1</td>\n      <td>14.23</td>\n      <td>1.71</td>\n      <td>2.43</td>\n      <td>15.6</td>\n      <td>127</td>\n      <td>2.80</td>\n      <td>3.06</td>\n      <td>0.28</td>\n      <td>2.29</td>\n      <td>5.64</td>\n      <td>1.04</td>\n      <td>3.92</td>\n      <td>1065</td>\n    </tr>\n    <tr>\n      <th>1</th>\n      <td>1</td>\n      <td>13.20</td>\n      <td>1.78</td>\n      <td>2.14</td>\n      <td>11.2</td>\n      <td>100</td>\n      <td>2.65</td>\n      <td>2.76</td>\n      <td>0.26</td>\n      <td>1.28</td>\n      <td>4.38</td>\n      <td>1.05</td>\n      <td>3.40</td>\n      <td>1050</td>\n    </tr>\n    <tr>\n      <th>2</th>\n      <td>1</td>\n      <td>13.16</td>\n      <td>2.36</td>\n      <td>2.67</td>\n      <td>18.6</td>\n      <td>101</td>\n      <td>2.80</td>\n      <td>3.24</td>\n      <td>0.30</td>\n      <td>2.81</td>\n      <td>5.68</td>\n      <td>1.03</td>\n      <td>3.17</td>\n      <td>1185</td>\n    </tr>\n    <tr>\n      <th>3</th>\n      <td>1</td>\n      <td>14.37</td>\n      <td>1.95</td>\n      <td>2.50</td>\n      <td>16.8</td>\n      <td>113</td>\n      <td>3.85</td>\n      <td>3.49</td>\n      <td>0.24</td>\n      <td>2.18</td>\n      <td>7.80</td>\n      <td>0.86</td>\n      <td>3.45</td>\n      <td>1480</td>\n    </tr>\n    <tr>\n      <th>4</th>\n      <td>1</td>\n      <td>13.24</td>\n      <td>2.59</td>\n      <td>2.87</td>\n      <td>21.0</td>\n      <td>118</td>\n      <td>2.80</td>\n      <td>2.69</td>\n      <td>0.39</td>\n      <td>1.82</td>\n      <td>4.32</td>\n      <td>1.04</td>\n      <td>2.93</td>\n      <td>735</td>\n    </tr>\n  </tbody>\n</table>\n</div>",
            "text/plain": "   0      1     2     3     4    5     6     7     8     9     10    11    12  \\\n0   1  14.23  1.71  2.43  15.6  127  2.80  3.06  0.28  2.29  5.64  1.04  3.92   \n1   1  13.20  1.78  2.14  11.2  100  2.65  2.76  0.26  1.28  4.38  1.05  3.40   \n2   1  13.16  2.36  2.67  18.6  101  2.80  3.24  0.30  2.81  5.68  1.03  3.17   \n3   1  14.37  1.95  2.50  16.8  113  3.85  3.49  0.24  2.18  7.80  0.86  3.45   \n4   1  13.24  2.59  2.87  21.0  118  2.80  2.69  0.39  1.82  4.32  1.04  2.93   \n\n     13  \n0  1065  \n1  1050  \n2  1185  \n3  1480  \n4   735  "
          },
          "execution_count": 144,
          "metadata": {},
          "output_type": "execute_result"
        }
      ]
    },
    {
      "metadata": {
        "trusted": false
      },
      "cell_type": "code",
      "source": "# convert Json to csv",
      "execution_count": 145,
      "outputs": []
    },
    {
      "metadata": {
        "trusted": false
      },
      "cell_type": "code",
      "source": "df.to_csv('wine.csv')",
      "execution_count": 146,
      "outputs": []
    },
    {
      "metadata": {
        "trusted": false
      },
      "cell_type": "code",
      "source": "# convert Json to different json formats\n\ndf.to_json(orient=\"index\")",
      "execution_count": 150,
      "outputs": [
        {
          "data": {
            "text/plain": "'{\"0\":{\"0\":1,\"1\":14.23,\"2\":1.71,\"3\":2.43,\"4\":15.6,\"5\":127,\"6\":2.8,\"7\":3.06,\"8\":0.28,\"9\":2.29,\"10\":5.64,\"11\":1.04,\"12\":3.92,\"13\":1065},\"1\":{\"0\":1,\"1\":13.2,\"2\":1.78,\"3\":2.14,\"4\":11.2,\"5\":100,\"6\":2.65,\"7\":2.76,\"8\":0.26,\"9\":1.28,\"10\":4.38,\"11\":1.05,\"12\":3.4,\"13\":1050},\"2\":{\"0\":1,\"1\":13.16,\"2\":2.36,\"3\":2.67,\"4\":18.6,\"5\":101,\"6\":2.8,\"7\":3.24,\"8\":0.3,\"9\":2.81,\"10\":5.68,\"11\":1.03,\"12\":3.17,\"13\":1185},\"3\":{\"0\":1,\"1\":14.37,\"2\":1.95,\"3\":2.5,\"4\":16.8,\"5\":113,\"6\":3.85,\"7\":3.49,\"8\":0.24,\"9\":2.18,\"10\":7.8,\"11\":0.86,\"12\":3.45,\"13\":1480},\"4\":{\"0\":1,\"1\":13.24,\"2\":2.59,\"3\":2.87,\"4\":21.0,\"5\":118,\"6\":2.8,\"7\":2.69,\"8\":0.39,\"9\":1.82,\"10\":4.32,\"11\":1.04,\"12\":2.93,\"13\":735},\"5\":{\"0\":1,\"1\":14.2,\"2\":1.76,\"3\":2.45,\"4\":15.2,\"5\":112,\"6\":3.27,\"7\":3.39,\"8\":0.34,\"9\":1.97,\"10\":6.75,\"11\":1.05,\"12\":2.85,\"13\":1450},\"6\":{\"0\":1,\"1\":14.39,\"2\":1.87,\"3\":2.45,\"4\":14.6,\"5\":96,\"6\":2.5,\"7\":2.52,\"8\":0.3,\"9\":1.98,\"10\":5.25,\"11\":1.02,\"12\":3.58,\"13\":1290},\"7\":{\"0\":1,\"1\":14.06,\"2\":2.15,\"3\":2.61,\"4\":17.6,\"5\":121,\"6\":2.6,\"7\":2.51,\"8\":0.31,\"9\":1.25,\"10\":5.05,\"11\":1.06,\"12\":3.58,\"13\":1295},\"8\":{\"0\":1,\"1\":14.83,\"2\":1.64,\"3\":2.17,\"4\":14.0,\"5\":97,\"6\":2.8,\"7\":2.98,\"8\":0.29,\"9\":1.98,\"10\":5.2,\"11\":1.08,\"12\":2.85,\"13\":1045},\"9\":{\"0\":1,\"1\":13.86,\"2\":1.35,\"3\":2.27,\"4\":16.0,\"5\":98,\"6\":2.98,\"7\":3.15,\"8\":0.22,\"9\":1.85,\"10\":7.22,\"11\":1.01,\"12\":3.55,\"13\":1045},\"10\":{\"0\":1,\"1\":14.1,\"2\":2.16,\"3\":2.3,\"4\":18.0,\"5\":105,\"6\":2.95,\"7\":3.32,\"8\":0.22,\"9\":2.38,\"10\":5.75,\"11\":1.25,\"12\":3.17,\"13\":1510},\"11\":{\"0\":1,\"1\":14.12,\"2\":1.48,\"3\":2.32,\"4\":16.8,\"5\":95,\"6\":2.2,\"7\":2.43,\"8\":0.26,\"9\":1.57,\"10\":5.0,\"11\":1.17,\"12\":2.82,\"13\":1280},\"12\":{\"0\":1,\"1\":13.75,\"2\":1.73,\"3\":2.41,\"4\":16.0,\"5\":89,\"6\":2.6,\"7\":2.76,\"8\":0.29,\"9\":1.81,\"10\":5.6,\"11\":1.15,\"12\":2.9,\"13\":1320},\"13\":{\"0\":1,\"1\":14.75,\"2\":1.73,\"3\":2.39,\"4\":11.4,\"5\":91,\"6\":3.1,\"7\":3.69,\"8\":0.43,\"9\":2.81,\"10\":5.4,\"11\":1.25,\"12\":2.73,\"13\":1150},\"14\":{\"0\":1,\"1\":14.38,\"2\":1.87,\"3\":2.38,\"4\":12.0,\"5\":102,\"6\":3.3,\"7\":3.64,\"8\":0.29,\"9\":2.96,\"10\":7.5,\"11\":1.2,\"12\":3.0,\"13\":1547},\"15\":{\"0\":1,\"1\":13.63,\"2\":1.81,\"3\":2.7,\"4\":17.2,\"5\":112,\"6\":2.85,\"7\":2.91,\"8\":0.3,\"9\":1.46,\"10\":7.3,\"11\":1.28,\"12\":2.88,\"13\":1310},\"16\":{\"0\":1,\"1\":14.3,\"2\":1.92,\"3\":2.72,\"4\":20.0,\"5\":120,\"6\":2.8,\"7\":3.14,\"8\":0.33,\"9\":1.97,\"10\":6.2,\"11\":1.07,\"12\":2.65,\"13\":1280},\"17\":{\"0\":1,\"1\":13.83,\"2\":1.57,\"3\":2.62,\"4\":20.0,\"5\":115,\"6\":2.95,\"7\":3.4,\"8\":0.4,\"9\":1.72,\"10\":6.6,\"11\":1.13,\"12\":2.57,\"13\":1130},\"18\":{\"0\":1,\"1\":14.19,\"2\":1.59,\"3\":2.48,\"4\":16.5,\"5\":108,\"6\":3.3,\"7\":3.93,\"8\":0.32,\"9\":1.86,\"10\":8.7,\"11\":1.23,\"12\":2.82,\"13\":1680},\"19\":{\"0\":1,\"1\":13.64,\"2\":3.1,\"3\":2.56,\"4\":15.2,\"5\":116,\"6\":2.7,\"7\":3.03,\"8\":0.17,\"9\":1.66,\"10\":5.1,\"11\":0.96,\"12\":3.36,\"13\":845},\"20\":{\"0\":1,\"1\":14.06,\"2\":1.63,\"3\":2.28,\"4\":16.0,\"5\":126,\"6\":3.0,\"7\":3.17,\"8\":0.24,\"9\":2.1,\"10\":5.65,\"11\":1.09,\"12\":3.71,\"13\":780},\"21\":{\"0\":1,\"1\":12.93,\"2\":3.8,\"3\":2.65,\"4\":18.6,\"5\":102,\"6\":2.41,\"7\":2.41,\"8\":0.25,\"9\":1.98,\"10\":4.5,\"11\":1.03,\"12\":3.52,\"13\":770},\"22\":{\"0\":1,\"1\":13.71,\"2\":1.86,\"3\":2.36,\"4\":16.6,\"5\":101,\"6\":2.61,\"7\":2.88,\"8\":0.27,\"9\":1.69,\"10\":3.8,\"11\":1.11,\"12\":4.0,\"13\":1035},\"23\":{\"0\":1,\"1\":12.85,\"2\":1.6,\"3\":2.52,\"4\":17.8,\"5\":95,\"6\":2.48,\"7\":2.37,\"8\":0.26,\"9\":1.46,\"10\":3.93,\"11\":1.09,\"12\":3.63,\"13\":1015},\"24\":{\"0\":1,\"1\":13.5,\"2\":1.81,\"3\":2.61,\"4\":20.0,\"5\":96,\"6\":2.53,\"7\":2.61,\"8\":0.28,\"9\":1.66,\"10\":3.52,\"11\":1.12,\"12\":3.82,\"13\":845},\"25\":{\"0\":1,\"1\":13.05,\"2\":2.05,\"3\":3.22,\"4\":25.0,\"5\":124,\"6\":2.63,\"7\":2.68,\"8\":0.47,\"9\":1.92,\"10\":3.58,\"11\":1.13,\"12\":3.2,\"13\":830},\"26\":{\"0\":1,\"1\":13.39,\"2\":1.77,\"3\":2.62,\"4\":16.1,\"5\":93,\"6\":2.85,\"7\":2.94,\"8\":0.34,\"9\":1.45,\"10\":4.8,\"11\":0.92,\"12\":3.22,\"13\":1195},\"27\":{\"0\":1,\"1\":13.3,\"2\":1.72,\"3\":2.14,\"4\":17.0,\"5\":94,\"6\":2.4,\"7\":2.19,\"8\":0.27,\"9\":1.35,\"10\":3.95,\"11\":1.02,\"12\":2.77,\"13\":1285},\"28\":{\"0\":1,\"1\":13.87,\"2\":1.9,\"3\":2.8,\"4\":19.4,\"5\":107,\"6\":2.95,\"7\":2.97,\"8\":0.37,\"9\":1.76,\"10\":4.5,\"11\":1.25,\"12\":3.4,\"13\":915},\"29\":{\"0\":1,\"1\":14.02,\"2\":1.68,\"3\":2.21,\"4\":16.0,\"5\":96,\"6\":2.65,\"7\":2.33,\"8\":0.26,\"9\":1.98,\"10\":4.7,\"11\":1.04,\"12\":3.59,\"13\":1035},\"30\":{\"0\":1,\"1\":13.73,\"2\":1.5,\"3\":2.7,\"4\":22.5,\"5\":101,\"6\":3.0,\"7\":3.25,\"8\":0.29,\"9\":2.38,\"10\":5.7,\"11\":1.19,\"12\":2.71,\"13\":1285},\"31\":{\"0\":1,\"1\":13.58,\"2\":1.66,\"3\":2.36,\"4\":19.1,\"5\":106,\"6\":2.86,\"7\":3.19,\"8\":0.22,\"9\":1.95,\"10\":6.9,\"11\":1.09,\"12\":2.88,\"13\":1515},\"32\":{\"0\":1,\"1\":13.68,\"2\":1.83,\"3\":2.36,\"4\":17.2,\"5\":104,\"6\":2.42,\"7\":2.69,\"8\":0.42,\"9\":1.97,\"10\":3.84,\"11\":1.23,\"12\":2.87,\"13\":990},\"33\":{\"0\":1,\"1\":13.76,\"2\":1.53,\"3\":2.7,\"4\":19.5,\"5\":132,\"6\":2.95,\"7\":2.74,\"8\":0.5,\"9\":1.35,\"10\":5.4,\"11\":1.25,\"12\":3.0,\"13\":1235},\"34\":{\"0\":1,\"1\":13.51,\"2\":1.8,\"3\":2.65,\"4\":19.0,\"5\":110,\"6\":2.35,\"7\":2.53,\"8\":0.29,\"9\":1.54,\"10\":4.2,\"11\":1.1,\"12\":2.87,\"13\":1095},\"35\":{\"0\":1,\"1\":13.48,\"2\":1.81,\"3\":2.41,\"4\":20.5,\"5\":100,\"6\":2.7,\"7\":2.98,\"8\":0.26,\"9\":1.86,\"10\":5.1,\"11\":1.04,\"12\":3.47,\"13\":920},\"36\":{\"0\":1,\"1\":13.28,\"2\":1.64,\"3\":2.84,\"4\":15.5,\"5\":110,\"6\":2.6,\"7\":2.68,\"8\":0.34,\"9\":1.36,\"10\":4.6,\"11\":1.09,\"12\":2.78,\"13\":880},\"37\":{\"0\":1,\"1\":13.05,\"2\":1.65,\"3\":2.55,\"4\":18.0,\"5\":98,\"6\":2.45,\"7\":2.43,\"8\":0.29,\"9\":1.44,\"10\":4.25,\"11\":1.12,\"12\":2.51,\"13\":1105},\"38\":{\"0\":1,\"1\":13.07,\"2\":1.5,\"3\":2.1,\"4\":15.5,\"5\":98,\"6\":2.4,\"7\":2.64,\"8\":0.28,\"9\":1.37,\"10\":3.7,\"11\":1.18,\"12\":2.69,\"13\":1020},\"39\":{\"0\":1,\"1\":14.22,\"2\":3.99,\"3\":2.51,\"4\":13.2,\"5\":128,\"6\":3.0,\"7\":3.04,\"8\":0.2,\"9\":2.08,\"10\":5.1,\"11\":0.89,\"12\":3.53,\"13\":760},\"40\":{\"0\":1,\"1\":13.56,\"2\":1.71,\"3\":2.31,\"4\":16.2,\"5\":117,\"6\":3.15,\"7\":3.29,\"8\":0.34,\"9\":2.34,\"10\":6.13,\"11\":0.95,\"12\":3.38,\"13\":795},\"41\":{\"0\":1,\"1\":13.41,\"2\":3.84,\"3\":2.12,\"4\":18.8,\"5\":90,\"6\":2.45,\"7\":2.68,\"8\":0.27,\"9\":1.48,\"10\":4.28,\"11\":0.91,\"12\":3.0,\"13\":1035},\"42\":{\"0\":1,\"1\":13.88,\"2\":1.89,\"3\":2.59,\"4\":15.0,\"5\":101,\"6\":3.25,\"7\":3.56,\"8\":0.17,\"9\":1.7,\"10\":5.43,\"11\":0.88,\"12\":3.56,\"13\":1095},\"43\":{\"0\":1,\"1\":13.24,\"2\":3.98,\"3\":2.29,\"4\":17.5,\"5\":103,\"6\":2.64,\"7\":2.63,\"8\":0.32,\"9\":1.66,\"10\":4.36,\"11\":0.82,\"12\":3.0,\"13\":680},\"44\":{\"0\":1,\"1\":13.05,\"2\":1.77,\"3\":2.1,\"4\":17.0,\"5\":107,\"6\":3.0,\"7\":3.0,\"8\":0.28,\"9\":2.03,\"10\":5.04,\"11\":0.88,\"12\":3.35,\"13\":885},\"45\":{\"0\":1,\"1\":14.21,\"2\":4.04,\"3\":2.44,\"4\":18.9,\"5\":111,\"6\":2.85,\"7\":2.65,\"8\":0.3,\"9\":1.25,\"10\":5.24,\"11\":0.87,\"12\":3.33,\"13\":1080},\"46\":{\"0\":1,\"1\":14.38,\"2\":3.59,\"3\":2.28,\"4\":16.0,\"5\":102,\"6\":3.25,\"7\":3.17,\"8\":0.27,\"9\":2.19,\"10\":4.9,\"11\":1.04,\"12\":3.44,\"13\":1065},\"47\":{\"0\":1,\"1\":13.9,\"2\":1.68,\"3\":2.12,\"4\":16.0,\"5\":101,\"6\":3.1,\"7\":3.39,\"8\":0.21,\"9\":2.14,\"10\":6.1,\"11\":0.91,\"12\":3.33,\"13\":985},\"48\":{\"0\":1,\"1\":14.1,\"2\":2.02,\"3\":2.4,\"4\":18.8,\"5\":103,\"6\":2.75,\"7\":2.92,\"8\":0.32,\"9\":2.38,\"10\":6.2,\"11\":1.07,\"12\":2.75,\"13\":1060},\"49\":{\"0\":1,\"1\":13.94,\"2\":1.73,\"3\":2.27,\"4\":17.4,\"5\":108,\"6\":2.88,\"7\":3.54,\"8\":0.32,\"9\":2.08,\"10\":8.9,\"11\":1.12,\"12\":3.1,\"13\":1260},\"50\":{\"0\":1,\"1\":13.05,\"2\":1.73,\"3\":2.04,\"4\":12.4,\"5\":92,\"6\":2.72,\"7\":3.27,\"8\":0.17,\"9\":2.91,\"10\":7.2,\"11\":1.12,\"12\":2.91,\"13\":1150},\"51\":{\"0\":1,\"1\":13.83,\"2\":1.65,\"3\":2.6,\"4\":17.2,\"5\":94,\"6\":2.45,\"7\":2.99,\"8\":0.22,\"9\":2.29,\"10\":5.6,\"11\":1.24,\"12\":3.37,\"13\":1265},\"52\":{\"0\":1,\"1\":13.82,\"2\":1.75,\"3\":2.42,\"4\":14.0,\"5\":111,\"6\":3.88,\"7\":3.74,\"8\":0.32,\"9\":1.87,\"10\":7.05,\"11\":1.01,\"12\":3.26,\"13\":1190},\"53\":{\"0\":1,\"1\":13.77,\"2\":1.9,\"3\":2.68,\"4\":17.1,\"5\":115,\"6\":3.0,\"7\":2.79,\"8\":0.39,\"9\":1.68,\"10\":6.3,\"11\":1.13,\"12\":2.93,\"13\":1375},\"54\":{\"0\":1,\"1\":13.74,\"2\":1.67,\"3\":2.25,\"4\":16.4,\"5\":118,\"6\":2.6,\"7\":2.9,\"8\":0.21,\"9\":1.62,\"10\":5.85,\"11\":0.92,\"12\":3.2,\"13\":1060},\"55\":{\"0\":1,\"1\":13.56,\"2\":1.73,\"3\":2.46,\"4\":20.5,\"5\":116,\"6\":2.96,\"7\":2.78,\"8\":0.2,\"9\":2.45,\"10\":6.25,\"11\":0.98,\"12\":3.03,\"13\":1120},\"56\":{\"0\":1,\"1\":14.22,\"2\":1.7,\"3\":2.3,\"4\":16.3,\"5\":118,\"6\":3.2,\"7\":3.0,\"8\":0.26,\"9\":2.03,\"10\":6.38,\"11\":0.94,\"12\":3.31,\"13\":970},\"57\":{\"0\":1,\"1\":13.29,\"2\":1.97,\"3\":2.68,\"4\":16.8,\"5\":102,\"6\":3.0,\"7\":3.23,\"8\":0.31,\"9\":1.66,\"10\":6.0,\"11\":1.07,\"12\":2.84,\"13\":1270},\"58\":{\"0\":1,\"1\":13.72,\"2\":1.43,\"3\":2.5,\"4\":16.7,\"5\":108,\"6\":3.4,\"7\":3.67,\"8\":0.19,\"9\":2.04,\"10\":6.8,\"11\":0.89,\"12\":2.87,\"13\":1285},\"59\":{\"0\":2,\"1\":12.37,\"2\":0.94,\"3\":1.36,\"4\":10.6,\"5\":88,\"6\":1.98,\"7\":0.57,\"8\":0.28,\"9\":0.42,\"10\":1.95,\"11\":1.05,\"12\":1.82,\"13\":520},\"60\":{\"0\":2,\"1\":12.33,\"2\":1.1,\"3\":2.28,\"4\":16.0,\"5\":101,\"6\":2.05,\"7\":1.09,\"8\":0.63,\"9\":0.41,\"10\":3.27,\"11\":1.25,\"12\":1.67,\"13\":680},\"61\":{\"0\":2,\"1\":12.64,\"2\":1.36,\"3\":2.02,\"4\":16.8,\"5\":100,\"6\":2.02,\"7\":1.41,\"8\":0.53,\"9\":0.62,\"10\":5.75,\"11\":0.98,\"12\":1.59,\"13\":450},\"62\":{\"0\":2,\"1\":13.67,\"2\":1.25,\"3\":1.92,\"4\":18.0,\"5\":94,\"6\":2.1,\"7\":1.79,\"8\":0.32,\"9\":0.73,\"10\":3.8,\"11\":1.23,\"12\":2.46,\"13\":630},\"63\":{\"0\":2,\"1\":12.37,\"2\":1.13,\"3\":2.16,\"4\":19.0,\"5\":87,\"6\":3.5,\"7\":3.1,\"8\":0.19,\"9\":1.87,\"10\":4.45,\"11\":1.22,\"12\":2.87,\"13\":420},\"64\":{\"0\":2,\"1\":12.17,\"2\":1.45,\"3\":2.53,\"4\":19.0,\"5\":104,\"6\":1.89,\"7\":1.75,\"8\":0.45,\"9\":1.03,\"10\":2.95,\"11\":1.45,\"12\":2.23,\"13\":355},\"65\":{\"0\":2,\"1\":12.37,\"2\":1.21,\"3\":2.56,\"4\":18.1,\"5\":98,\"6\":2.42,\"7\":2.65,\"8\":0.37,\"9\":2.08,\"10\":4.6,\"11\":1.19,\"12\":2.3,\"13\":678},\"66\":{\"0\":2,\"1\":13.11,\"2\":1.01,\"3\":1.7,\"4\":15.0,\"5\":78,\"6\":2.98,\"7\":3.18,\"8\":0.26,\"9\":2.28,\"10\":5.3,\"11\":1.12,\"12\":3.18,\"13\":502},\"67\":{\"0\":2,\"1\":12.37,\"2\":1.17,\"3\":1.92,\"4\":19.6,\"5\":78,\"6\":2.11,\"7\":2.0,\"8\":0.27,\"9\":1.04,\"10\":4.68,\"11\":1.12,\"12\":3.48,\"13\":510},\"68\":{\"0\":2,\"1\":13.34,\"2\":0.94,\"3\":2.36,\"4\":17.0,\"5\":110,\"6\":2.53,\"7\":1.3,\"8\":0.55,\"9\":0.42,\"10\":3.17,\"11\":1.02,\"12\":1.93,\"13\":750},\"69\":{\"0\":2,\"1\":12.21,\"2\":1.19,\"3\":1.75,\"4\":16.8,\"5\":151,\"6\":1.85,\"7\":1.28,\"8\":0.14,\"9\":2.5,\"10\":2.85,\"11\":1.28,\"12\":3.07,\"13\":718},\"70\":{\"0\":2,\"1\":12.29,\"2\":1.61,\"3\":2.21,\"4\":20.4,\"5\":103,\"6\":1.1,\"7\":1.02,\"8\":0.37,\"9\":1.46,\"10\":3.05,\"11\":0.906,\"12\":1.82,\"13\":870},\"71\":{\"0\":2,\"1\":13.86,\"2\":1.51,\"3\":2.67,\"4\":25.0,\"5\":86,\"6\":2.95,\"7\":2.86,\"8\":0.21,\"9\":1.87,\"10\":3.38,\"11\":1.36,\"12\":3.16,\"13\":410},\"72\":{\"0\":2,\"1\":13.49,\"2\":1.66,\"3\":2.24,\"4\":24.0,\"5\":87,\"6\":1.88,\"7\":1.84,\"8\":0.27,\"9\":1.03,\"10\":3.74,\"11\":0.98,\"12\":2.78,\"13\":472},\"73\":{\"0\":2,\"1\":12.99,\"2\":1.67,\"3\":2.6,\"4\":30.0,\"5\":139,\"6\":3.3,\"7\":2.89,\"8\":0.21,\"9\":1.96,\"10\":3.35,\"11\":1.31,\"12\":3.5,\"13\":985},\"74\":{\"0\":2,\"1\":11.96,\"2\":1.09,\"3\":2.3,\"4\":21.0,\"5\":101,\"6\":3.38,\"7\":2.14,\"8\":0.13,\"9\":1.65,\"10\":3.21,\"11\":0.99,\"12\":3.13,\"13\":886},\"75\":{\"0\":2,\"1\":11.66,\"2\":1.88,\"3\":1.92,\"4\":16.0,\"5\":97,\"6\":1.61,\"7\":1.57,\"8\":0.34,\"9\":1.15,\"10\":3.8,\"11\":1.23,\"12\":2.14,\"13\":428},\"76\":{\"0\":2,\"1\":13.03,\"2\":0.9,\"3\":1.71,\"4\":16.0,\"5\":86,\"6\":1.95,\"7\":2.03,\"8\":0.24,\"9\":1.46,\"10\":4.6,\"11\":1.19,\"12\":2.48,\"13\":392},\"77\":{\"0\":2,\"1\":11.84,\"2\":2.89,\"3\":2.23,\"4\":18.0,\"5\":112,\"6\":1.72,\"7\":1.32,\"8\":0.43,\"9\":0.95,\"10\":2.65,\"11\":0.96,\"12\":2.52,\"13\":500},\"78\":{\"0\":2,\"1\":12.33,\"2\":0.99,\"3\":1.95,\"4\":14.8,\"5\":136,\"6\":1.9,\"7\":1.85,\"8\":0.35,\"9\":2.76,\"10\":3.4,\"11\":1.06,\"12\":2.31,\"13\":750},\"79\":{\"0\":2,\"1\":12.7,\"2\":3.87,\"3\":2.4,\"4\":23.0,\"5\":101,\"6\":2.83,\"7\":2.55,\"8\":0.43,\"9\":1.95,\"10\":2.57,\"11\":1.19,\"12\":3.13,\"13\":463},\"80\":{\"0\":2,\"1\":12.0,\"2\":0.92,\"3\":2.0,\"4\":19.0,\"5\":86,\"6\":2.42,\"7\":2.26,\"8\":0.3,\"9\":1.43,\"10\":2.5,\"11\":1.38,\"12\":3.12,\"13\":278},\"81\":{\"0\":2,\"1\":12.72,\"2\":1.81,\"3\":2.2,\"4\":18.8,\"5\":86,\"6\":2.2,\"7\":2.53,\"8\":0.26,\"9\":1.77,\"10\":3.9,\"11\":1.16,\"12\":3.14,\"13\":714},\"82\":{\"0\":2,\"1\":12.08,\"2\":1.13,\"3\":2.51,\"4\":24.0,\"5\":78,\"6\":2.0,\"7\":1.58,\"8\":0.4,\"9\":1.4,\"10\":2.2,\"11\":1.31,\"12\":2.72,\"13\":630},\"83\":{\"0\":2,\"1\":13.05,\"2\":3.86,\"3\":2.32,\"4\":22.5,\"5\":85,\"6\":1.65,\"7\":1.59,\"8\":0.61,\"9\":1.62,\"10\":4.8,\"11\":0.84,\"12\":2.01,\"13\":515},\"84\":{\"0\":2,\"1\":11.84,\"2\":0.89,\"3\":2.58,\"4\":18.0,\"5\":94,\"6\":2.2,\"7\":2.21,\"8\":0.22,\"9\":2.35,\"10\":3.05,\"11\":0.79,\"12\":3.08,\"13\":520},\"85\":{\"0\":2,\"1\":12.67,\"2\":0.98,\"3\":2.24,\"4\":18.0,\"5\":99,\"6\":2.2,\"7\":1.94,\"8\":0.3,\"9\":1.46,\"10\":2.62,\"11\":1.23,\"12\":3.16,\"13\":450},\"86\":{\"0\":2,\"1\":12.16,\"2\":1.61,\"3\":2.31,\"4\":22.8,\"5\":90,\"6\":1.78,\"7\":1.69,\"8\":0.43,\"9\":1.56,\"10\":2.45,\"11\":1.33,\"12\":2.26,\"13\":495},\"87\":{\"0\":2,\"1\":11.65,\"2\":1.67,\"3\":2.62,\"4\":26.0,\"5\":88,\"6\":1.92,\"7\":1.61,\"8\":0.4,\"9\":1.34,\"10\":2.6,\"11\":1.36,\"12\":3.21,\"13\":562},\"88\":{\"0\":2,\"1\":11.64,\"2\":2.06,\"3\":2.46,\"4\":21.6,\"5\":84,\"6\":1.95,\"7\":1.69,\"8\":0.48,\"9\":1.35,\"10\":2.8,\"11\":1.0,\"12\":2.75,\"13\":680},\"89\":{\"0\":2,\"1\":12.08,\"2\":1.33,\"3\":2.3,\"4\":23.6,\"5\":70,\"6\":2.2,\"7\":1.59,\"8\":0.42,\"9\":1.38,\"10\":1.74,\"11\":1.07,\"12\":3.21,\"13\":625},\"90\":{\"0\":2,\"1\":12.08,\"2\":1.83,\"3\":2.32,\"4\":18.5,\"5\":81,\"6\":1.6,\"7\":1.5,\"8\":0.52,\"9\":1.64,\"10\":2.4,\"11\":1.08,\"12\":2.27,\"13\":480},\"91\":{\"0\":2,\"1\":12.0,\"2\":1.51,\"3\":2.42,\"4\":22.0,\"5\":86,\"6\":1.45,\"7\":1.25,\"8\":0.5,\"9\":1.63,\"10\":3.6,\"11\":1.05,\"12\":2.65,\"13\":450},\"92\":{\"0\":2,\"1\":12.69,\"2\":1.53,\"3\":2.26,\"4\":20.7,\"5\":80,\"6\":1.38,\"7\":1.46,\"8\":0.58,\"9\":1.62,\"10\":3.05,\"11\":0.96,\"12\":2.06,\"13\":495},\"93\":{\"0\":2,\"1\":12.29,\"2\":2.83,\"3\":2.22,\"4\":18.0,\"5\":88,\"6\":2.45,\"7\":2.25,\"8\":0.25,\"9\":1.99,\"10\":2.15,\"11\":1.15,\"12\":3.3,\"13\":290},\"94\":{\"0\":2,\"1\":11.62,\"2\":1.99,\"3\":2.28,\"4\":18.0,\"5\":98,\"6\":3.02,\"7\":2.26,\"8\":0.17,\"9\":1.35,\"10\":3.25,\"11\":1.16,\"12\":2.96,\"13\":345},\"95\":{\"0\":2,\"1\":12.47,\"2\":1.52,\"3\":2.2,\"4\":19.0,\"5\":162,\"6\":2.5,\"7\":2.27,\"8\":0.32,\"9\":3.28,\"10\":2.6,\"11\":1.16,\"12\":2.63,\"13\":937},\"96\":{\"0\":2,\"1\":11.81,\"2\":2.12,\"3\":2.74,\"4\":21.5,\"5\":134,\"6\":1.6,\"7\":0.99,\"8\":0.14,\"9\":1.56,\"10\":2.5,\"11\":0.95,\"12\":2.26,\"13\":625},\"97\":{\"0\":2,\"1\":12.29,\"2\":1.41,\"3\":1.98,\"4\":16.0,\"5\":85,\"6\":2.55,\"7\":2.5,\"8\":0.29,\"9\":1.77,\"10\":2.9,\"11\":1.23,\"12\":2.74,\"13\":428},\"98\":{\"0\":2,\"1\":12.37,\"2\":1.07,\"3\":2.1,\"4\":18.5,\"5\":88,\"6\":3.52,\"7\":3.75,\"8\":0.24,\"9\":1.95,\"10\":4.5,\"11\":1.04,\"12\":2.77,\"13\":660},\"99\":{\"0\":2,\"1\":12.29,\"2\":3.17,\"3\":2.21,\"4\":18.0,\"5\":88,\"6\":2.85,\"7\":2.99,\"8\":0.45,\"9\":2.81,\"10\":2.3,\"11\":1.42,\"12\":2.83,\"13\":406},\"100\":{\"0\":2,\"1\":12.08,\"2\":2.08,\"3\":1.7,\"4\":17.5,\"5\":97,\"6\":2.23,\"7\":2.17,\"8\":0.26,\"9\":1.4,\"10\":3.3,\"11\":1.27,\"12\":2.96,\"13\":710},\"101\":{\"0\":2,\"1\":12.6,\"2\":1.34,\"3\":1.9,\"4\":18.5,\"5\":88,\"6\":1.45,\"7\":1.36,\"8\":0.29,\"9\":1.35,\"10\":2.45,\"11\":1.04,\"12\":2.77,\"13\":562},\"102\":{\"0\":2,\"1\":12.34,\"2\":2.45,\"3\":2.46,\"4\":21.0,\"5\":98,\"6\":2.56,\"7\":2.11,\"8\":0.34,\"9\":1.31,\"10\":2.8,\"11\":0.8,\"12\":3.38,\"13\":438},\"103\":{\"0\":2,\"1\":11.82,\"2\":1.72,\"3\":1.88,\"4\":19.5,\"5\":86,\"6\":2.5,\"7\":1.64,\"8\":0.37,\"9\":1.42,\"10\":2.06,\"11\":0.94,\"12\":2.44,\"13\":415},\"104\":{\"0\":2,\"1\":12.51,\"2\":1.73,\"3\":1.98,\"4\":20.5,\"5\":85,\"6\":2.2,\"7\":1.92,\"8\":0.32,\"9\":1.48,\"10\":2.94,\"11\":1.04,\"12\":3.57,\"13\":672},\"105\":{\"0\":2,\"1\":12.42,\"2\":2.55,\"3\":2.27,\"4\":22.0,\"5\":90,\"6\":1.68,\"7\":1.84,\"8\":0.66,\"9\":1.42,\"10\":2.7,\"11\":0.86,\"12\":3.3,\"13\":315},\"106\":{\"0\":2,\"1\":12.25,\"2\":1.73,\"3\":2.12,\"4\":19.0,\"5\":80,\"6\":1.65,\"7\":2.03,\"8\":0.37,\"9\":1.63,\"10\":3.4,\"11\":1.0,\"12\":3.17,\"13\":510},\"107\":{\"0\":2,\"1\":12.72,\"2\":1.75,\"3\":2.28,\"4\":22.5,\"5\":84,\"6\":1.38,\"7\":1.76,\"8\":0.48,\"9\":1.63,\"10\":3.3,\"11\":0.88,\"12\":2.42,\"13\":488},\"108\":{\"0\":2,\"1\":12.22,\"2\":1.29,\"3\":1.94,\"4\":19.0,\"5\":92,\"6\":2.36,\"7\":2.04,\"8\":0.39,\"9\":2.08,\"10\":2.7,\"11\":0.86,\"12\":3.02,\"13\":312},\"109\":{\"0\":2,\"1\":11.61,\"2\":1.35,\"3\":2.7,\"4\":20.0,\"5\":94,\"6\":2.74,\"7\":2.92,\"8\":0.29,\"9\":2.49,\"10\":2.65,\"11\":0.96,\"12\":3.26,\"13\":680},\"110\":{\"0\":2,\"1\":11.46,\"2\":3.74,\"3\":1.82,\"4\":19.5,\"5\":107,\"6\":3.18,\"7\":2.58,\"8\":0.24,\"9\":3.58,\"10\":2.9,\"11\":0.75,\"12\":2.81,\"13\":562},\"111\":{\"0\":2,\"1\":12.52,\"2\":2.43,\"3\":2.17,\"4\":21.0,\"5\":88,\"6\":2.55,\"7\":2.27,\"8\":0.26,\"9\":1.22,\"10\":2.0,\"11\":0.9,\"12\":2.78,\"13\":325},\"112\":{\"0\":2,\"1\":11.76,\"2\":2.68,\"3\":2.92,\"4\":20.0,\"5\":103,\"6\":1.75,\"7\":2.03,\"8\":0.6,\"9\":1.05,\"10\":3.8,\"11\":1.23,\"12\":2.5,\"13\":607},\"113\":{\"0\":2,\"1\":11.41,\"2\":0.74,\"3\":2.5,\"4\":21.0,\"5\":88,\"6\":2.48,\"7\":2.01,\"8\":0.42,\"9\":1.44,\"10\":3.08,\"11\":1.1,\"12\":2.31,\"13\":434},\"114\":{\"0\":2,\"1\":12.08,\"2\":1.39,\"3\":2.5,\"4\":22.5,\"5\":84,\"6\":2.56,\"7\":2.29,\"8\":0.43,\"9\":1.04,\"10\":2.9,\"11\":0.93,\"12\":3.19,\"13\":385},\"115\":{\"0\":2,\"1\":11.03,\"2\":1.51,\"3\":2.2,\"4\":21.5,\"5\":85,\"6\":2.46,\"7\":2.17,\"8\":0.52,\"9\":2.01,\"10\":1.9,\"11\":1.71,\"12\":2.87,\"13\":407},\"116\":{\"0\":2,\"1\":11.82,\"2\":1.47,\"3\":1.99,\"4\":20.8,\"5\":86,\"6\":1.98,\"7\":1.6,\"8\":0.3,\"9\":1.53,\"10\":1.95,\"11\":0.95,\"12\":3.33,\"13\":495},\"117\":{\"0\":2,\"1\":12.42,\"2\":1.61,\"3\":2.19,\"4\":22.5,\"5\":108,\"6\":2.0,\"7\":2.09,\"8\":0.34,\"9\":1.61,\"10\":2.06,\"11\":1.06,\"12\":2.96,\"13\":345},\"118\":{\"0\":2,\"1\":12.77,\"2\":3.43,\"3\":1.98,\"4\":16.0,\"5\":80,\"6\":1.63,\"7\":1.25,\"8\":0.43,\"9\":0.83,\"10\":3.4,\"11\":0.7,\"12\":2.12,\"13\":372},\"119\":{\"0\":2,\"1\":12.0,\"2\":3.43,\"3\":2.0,\"4\":19.0,\"5\":87,\"6\":2.0,\"7\":1.64,\"8\":0.37,\"9\":1.87,\"10\":1.28,\"11\":0.93,\"12\":3.05,\"13\":564},\"120\":{\"0\":2,\"1\":11.45,\"2\":2.4,\"3\":2.42,\"4\":20.0,\"5\":96,\"6\":2.9,\"7\":2.79,\"8\":0.32,\"9\":1.83,\"10\":3.25,\"11\":0.8,\"12\":3.39,\"13\":625},\"121\":{\"0\":2,\"1\":11.56,\"2\":2.05,\"3\":3.23,\"4\":28.5,\"5\":119,\"6\":3.18,\"7\":5.08,\"8\":0.47,\"9\":1.87,\"10\":6.0,\"11\":0.93,\"12\":3.69,\"13\":465},\"122\":{\"0\":2,\"1\":12.42,\"2\":4.43,\"3\":2.73,\"4\":26.5,\"5\":102,\"6\":2.2,\"7\":2.13,\"8\":0.43,\"9\":1.71,\"10\":2.08,\"11\":0.92,\"12\":3.12,\"13\":365},\"123\":{\"0\":2,\"1\":13.05,\"2\":5.8,\"3\":2.13,\"4\":21.5,\"5\":86,\"6\":2.62,\"7\":2.65,\"8\":0.3,\"9\":2.01,\"10\":2.6,\"11\":0.73,\"12\":3.1,\"13\":380},\"124\":{\"0\":2,\"1\":11.87,\"2\":4.31,\"3\":2.39,\"4\":21.0,\"5\":82,\"6\":2.86,\"7\":3.03,\"8\":0.21,\"9\":2.91,\"10\":2.8,\"11\":0.75,\"12\":3.64,\"13\":380},\"125\":{\"0\":2,\"1\":12.07,\"2\":2.16,\"3\":2.17,\"4\":21.0,\"5\":85,\"6\":2.6,\"7\":2.65,\"8\":0.37,\"9\":1.35,\"10\":2.76,\"11\":0.86,\"12\":3.28,\"13\":378},\"126\":{\"0\":2,\"1\":12.43,\"2\":1.53,\"3\":2.29,\"4\":21.5,\"5\":86,\"6\":2.74,\"7\":3.15,\"8\":0.39,\"9\":1.77,\"10\":3.94,\"11\":0.69,\"12\":2.84,\"13\":352},\"127\":{\"0\":2,\"1\":11.79,\"2\":2.13,\"3\":2.78,\"4\":28.5,\"5\":92,\"6\":2.13,\"7\":2.24,\"8\":0.58,\"9\":1.76,\"10\":3.0,\"11\":0.97,\"12\":2.44,\"13\":466},\"128\":{\"0\":2,\"1\":12.37,\"2\":1.63,\"3\":2.3,\"4\":24.5,\"5\":88,\"6\":2.22,\"7\":2.45,\"8\":0.4,\"9\":1.9,\"10\":2.12,\"11\":0.89,\"12\":2.78,\"13\":342},\"129\":{\"0\":2,\"1\":12.04,\"2\":4.3,\"3\":2.38,\"4\":22.0,\"5\":80,\"6\":2.1,\"7\":1.75,\"8\":0.42,\"9\":1.35,\"10\":2.6,\"11\":0.79,\"12\":2.57,\"13\":580},\"130\":{\"0\":3,\"1\":12.86,\"2\":1.35,\"3\":2.32,\"4\":18.0,\"5\":122,\"6\":1.51,\"7\":1.25,\"8\":0.21,\"9\":0.94,\"10\":4.1,\"11\":0.76,\"12\":1.29,\"13\":630},\"131\":{\"0\":3,\"1\":12.88,\"2\":2.99,\"3\":2.4,\"4\":20.0,\"5\":104,\"6\":1.3,\"7\":1.22,\"8\":0.24,\"9\":0.83,\"10\":5.4,\"11\":0.74,\"12\":1.42,\"13\":530},\"132\":{\"0\":3,\"1\":12.81,\"2\":2.31,\"3\":2.4,\"4\":24.0,\"5\":98,\"6\":1.15,\"7\":1.09,\"8\":0.27,\"9\":0.83,\"10\":5.7,\"11\":0.66,\"12\":1.36,\"13\":560},\"133\":{\"0\":3,\"1\":12.7,\"2\":3.55,\"3\":2.36,\"4\":21.5,\"5\":106,\"6\":1.7,\"7\":1.2,\"8\":0.17,\"9\":0.84,\"10\":5.0,\"11\":0.78,\"12\":1.29,\"13\":600},\"134\":{\"0\":3,\"1\":12.51,\"2\":1.24,\"3\":2.25,\"4\":17.5,\"5\":85,\"6\":2.0,\"7\":0.58,\"8\":0.6,\"9\":1.25,\"10\":5.45,\"11\":0.75,\"12\":1.51,\"13\":650},\"135\":{\"0\":3,\"1\":12.6,\"2\":2.46,\"3\":2.2,\"4\":18.5,\"5\":94,\"6\":1.62,\"7\":0.66,\"8\":0.63,\"9\":0.94,\"10\":7.1,\"11\":0.73,\"12\":1.58,\"13\":695},\"136\":{\"0\":3,\"1\":12.25,\"2\":4.72,\"3\":2.54,\"4\":21.0,\"5\":89,\"6\":1.38,\"7\":0.47,\"8\":0.53,\"9\":0.8,\"10\":3.85,\"11\":0.75,\"12\":1.27,\"13\":720},\"137\":{\"0\":3,\"1\":12.53,\"2\":5.51,\"3\":2.64,\"4\":25.0,\"5\":96,\"6\":1.79,\"7\":0.6,\"8\":0.63,\"9\":1.1,\"10\":5.0,\"11\":0.82,\"12\":1.69,\"13\":515},\"138\":{\"0\":3,\"1\":13.49,\"2\":3.59,\"3\":2.19,\"4\":19.5,\"5\":88,\"6\":1.62,\"7\":0.48,\"8\":0.58,\"9\":0.88,\"10\":5.7,\"11\":0.81,\"12\":1.82,\"13\":580},\"139\":{\"0\":3,\"1\":12.84,\"2\":2.96,\"3\":2.61,\"4\":24.0,\"5\":101,\"6\":2.32,\"7\":0.6,\"8\":0.53,\"9\":0.81,\"10\":4.92,\"11\":0.89,\"12\":2.15,\"13\":590},\"140\":{\"0\":3,\"1\":12.93,\"2\":2.81,\"3\":2.7,\"4\":21.0,\"5\":96,\"6\":1.54,\"7\":0.5,\"8\":0.53,\"9\":0.75,\"10\":4.6,\"11\":0.77,\"12\":2.31,\"13\":600},\"141\":{\"0\":3,\"1\":13.36,\"2\":2.56,\"3\":2.35,\"4\":20.0,\"5\":89,\"6\":1.4,\"7\":0.5,\"8\":0.37,\"9\":0.64,\"10\":5.6,\"11\":0.7,\"12\":2.47,\"13\":780},\"142\":{\"0\":3,\"1\":13.52,\"2\":3.17,\"3\":2.72,\"4\":23.5,\"5\":97,\"6\":1.55,\"7\":0.52,\"8\":0.5,\"9\":0.55,\"10\":4.35,\"11\":0.89,\"12\":2.06,\"13\":520},\"143\":{\"0\":3,\"1\":13.62,\"2\":4.95,\"3\":2.35,\"4\":20.0,\"5\":92,\"6\":2.0,\"7\":0.8,\"8\":0.47,\"9\":1.02,\"10\":4.4,\"11\":0.91,\"12\":2.05,\"13\":550},\"144\":{\"0\":3,\"1\":12.25,\"2\":3.88,\"3\":2.2,\"4\":18.5,\"5\":112,\"6\":1.38,\"7\":0.78,\"8\":0.29,\"9\":1.14,\"10\":8.21,\"11\":0.65,\"12\":2.0,\"13\":855},\"145\":{\"0\":3,\"1\":13.16,\"2\":3.57,\"3\":2.15,\"4\":21.0,\"5\":102,\"6\":1.5,\"7\":0.55,\"8\":0.43,\"9\":1.3,\"10\":4.0,\"11\":0.6,\"12\":1.68,\"13\":830},\"146\":{\"0\":3,\"1\":13.88,\"2\":5.04,\"3\":2.23,\"4\":20.0,\"5\":80,\"6\":0.98,\"7\":0.34,\"8\":0.4,\"9\":0.68,\"10\":4.9,\"11\":0.58,\"12\":1.33,\"13\":415},\"147\":{\"0\":3,\"1\":12.87,\"2\":4.61,\"3\":2.48,\"4\":21.5,\"5\":86,\"6\":1.7,\"7\":0.65,\"8\":0.47,\"9\":0.86,\"10\":7.65,\"11\":0.54,\"12\":1.86,\"13\":625},\"148\":{\"0\":3,\"1\":13.32,\"2\":3.24,\"3\":2.38,\"4\":21.5,\"5\":92,\"6\":1.93,\"7\":0.76,\"8\":0.45,\"9\":1.25,\"10\":8.42,\"11\":0.55,\"12\":1.62,\"13\":650},\"149\":{\"0\":3,\"1\":13.08,\"2\":3.9,\"3\":2.36,\"4\":21.5,\"5\":113,\"6\":1.41,\"7\":1.39,\"8\":0.34,\"9\":1.14,\"10\":9.4,\"11\":0.57,\"12\":1.33,\"13\":550},\"150\":{\"0\":3,\"1\":13.5,\"2\":3.12,\"3\":2.62,\"4\":24.0,\"5\":123,\"6\":1.4,\"7\":1.57,\"8\":0.22,\"9\":1.25,\"10\":8.6,\"11\":0.59,\"12\":1.3,\"13\":500},\"151\":{\"0\":3,\"1\":12.79,\"2\":2.67,\"3\":2.48,\"4\":22.0,\"5\":112,\"6\":1.48,\"7\":1.36,\"8\":0.24,\"9\":1.26,\"10\":10.8,\"11\":0.48,\"12\":1.47,\"13\":480},\"152\":{\"0\":3,\"1\":13.11,\"2\":1.9,\"3\":2.75,\"4\":25.5,\"5\":116,\"6\":2.2,\"7\":1.28,\"8\":0.26,\"9\":1.56,\"10\":7.1,\"11\":0.61,\"12\":1.33,\"13\":425},\"153\":{\"0\":3,\"1\":13.23,\"2\":3.3,\"3\":2.28,\"4\":18.5,\"5\":98,\"6\":1.8,\"7\":0.83,\"8\":0.61,\"9\":1.87,\"10\":10.52,\"11\":0.56,\"12\":1.51,\"13\":675},\"154\":{\"0\":3,\"1\":12.58,\"2\":1.29,\"3\":2.1,\"4\":20.0,\"5\":103,\"6\":1.48,\"7\":0.58,\"8\":0.53,\"9\":1.4,\"10\":7.6,\"11\":0.58,\"12\":1.55,\"13\":640},\"155\":{\"0\":3,\"1\":13.17,\"2\":5.19,\"3\":2.32,\"4\":22.0,\"5\":93,\"6\":1.74,\"7\":0.63,\"8\":0.61,\"9\":1.55,\"10\":7.9,\"11\":0.6,\"12\":1.48,\"13\":725},\"156\":{\"0\":3,\"1\":13.84,\"2\":4.12,\"3\":2.38,\"4\":19.5,\"5\":89,\"6\":1.8,\"7\":0.83,\"8\":0.48,\"9\":1.56,\"10\":9.01,\"11\":0.57,\"12\":1.64,\"13\":480},\"157\":{\"0\":3,\"1\":12.45,\"2\":3.03,\"3\":2.64,\"4\":27.0,\"5\":97,\"6\":1.9,\"7\":0.58,\"8\":0.63,\"9\":1.14,\"10\":7.5,\"11\":0.67,\"12\":1.73,\"13\":880},\"158\":{\"0\":3,\"1\":14.34,\"2\":1.68,\"3\":2.7,\"4\":25.0,\"5\":98,\"6\":2.8,\"7\":1.31,\"8\":0.53,\"9\":2.7,\"10\":13.0,\"11\":0.57,\"12\":1.96,\"13\":660},\"159\":{\"0\":3,\"1\":13.48,\"2\":1.67,\"3\":2.64,\"4\":22.5,\"5\":89,\"6\":2.6,\"7\":1.1,\"8\":0.52,\"9\":2.29,\"10\":11.75,\"11\":0.57,\"12\":1.78,\"13\":620},\"160\":{\"0\":3,\"1\":12.36,\"2\":3.83,\"3\":2.38,\"4\":21.0,\"5\":88,\"6\":2.3,\"7\":0.92,\"8\":0.5,\"9\":1.04,\"10\":7.65,\"11\":0.56,\"12\":1.58,\"13\":520},\"161\":{\"0\":3,\"1\":13.69,\"2\":3.26,\"3\":2.54,\"4\":20.0,\"5\":107,\"6\":1.83,\"7\":0.56,\"8\":0.5,\"9\":0.8,\"10\":5.88,\"11\":0.96,\"12\":1.82,\"13\":680},\"162\":{\"0\":3,\"1\":12.85,\"2\":3.27,\"3\":2.58,\"4\":22.0,\"5\":106,\"6\":1.65,\"7\":0.6,\"8\":0.6,\"9\":0.96,\"10\":5.58,\"11\":0.87,\"12\":2.11,\"13\":570},\"163\":{\"0\":3,\"1\":12.96,\"2\":3.45,\"3\":2.35,\"4\":18.5,\"5\":106,\"6\":1.39,\"7\":0.7,\"8\":0.4,\"9\":0.94,\"10\":5.28,\"11\":0.68,\"12\":1.75,\"13\":675},\"164\":{\"0\":3,\"1\":13.78,\"2\":2.76,\"3\":2.3,\"4\":22.0,\"5\":90,\"6\":1.35,\"7\":0.68,\"8\":0.41,\"9\":1.03,\"10\":9.58,\"11\":0.7,\"12\":1.68,\"13\":615},\"165\":{\"0\":3,\"1\":13.73,\"2\":4.36,\"3\":2.26,\"4\":22.5,\"5\":88,\"6\":1.28,\"7\":0.47,\"8\":0.52,\"9\":1.15,\"10\":6.62,\"11\":0.78,\"12\":1.75,\"13\":520},\"166\":{\"0\":3,\"1\":13.45,\"2\":3.7,\"3\":2.6,\"4\":23.0,\"5\":111,\"6\":1.7,\"7\":0.92,\"8\":0.43,\"9\":1.46,\"10\":10.68,\"11\":0.85,\"12\":1.56,\"13\":695},\"167\":{\"0\":3,\"1\":12.82,\"2\":3.37,\"3\":2.3,\"4\":19.5,\"5\":88,\"6\":1.48,\"7\":0.66,\"8\":0.4,\"9\":0.97,\"10\":10.26,\"11\":0.72,\"12\":1.75,\"13\":685},\"168\":{\"0\":3,\"1\":13.58,\"2\":2.58,\"3\":2.69,\"4\":24.5,\"5\":105,\"6\":1.55,\"7\":0.84,\"8\":0.39,\"9\":1.54,\"10\":8.66,\"11\":0.74,\"12\":1.8,\"13\":750},\"169\":{\"0\":3,\"1\":13.4,\"2\":4.6,\"3\":2.86,\"4\":25.0,\"5\":112,\"6\":1.98,\"7\":0.96,\"8\":0.27,\"9\":1.11,\"10\":8.5,\"11\":0.67,\"12\":1.92,\"13\":630},\"170\":{\"0\":3,\"1\":12.2,\"2\":3.03,\"3\":2.32,\"4\":19.0,\"5\":96,\"6\":1.25,\"7\":0.49,\"8\":0.4,\"9\":0.73,\"10\":5.5,\"11\":0.66,\"12\":1.83,\"13\":510},\"171\":{\"0\":3,\"1\":12.77,\"2\":2.39,\"3\":2.28,\"4\":19.5,\"5\":86,\"6\":1.39,\"7\":0.51,\"8\":0.48,\"9\":0.64,\"10\":9.899999,\"11\":0.57,\"12\":1.63,\"13\":470},\"172\":{\"0\":3,\"1\":14.16,\"2\":2.51,\"3\":2.48,\"4\":20.0,\"5\":91,\"6\":1.68,\"7\":0.7,\"8\":0.44,\"9\":1.24,\"10\":9.7,\"11\":0.62,\"12\":1.71,\"13\":660},\"173\":{\"0\":3,\"1\":13.71,\"2\":5.65,\"3\":2.45,\"4\":20.5,\"5\":95,\"6\":1.68,\"7\":0.61,\"8\":0.52,\"9\":1.06,\"10\":7.7,\"11\":0.64,\"12\":1.74,\"13\":740},\"174\":{\"0\":3,\"1\":13.4,\"2\":3.91,\"3\":2.48,\"4\":23.0,\"5\":102,\"6\":1.8,\"7\":0.75,\"8\":0.43,\"9\":1.41,\"10\":7.3,\"11\":0.7,\"12\":1.56,\"13\":750},\"175\":{\"0\":3,\"1\":13.27,\"2\":4.28,\"3\":2.26,\"4\":20.0,\"5\":120,\"6\":1.59,\"7\":0.69,\"8\":0.43,\"9\":1.35,\"10\":10.2,\"11\":0.59,\"12\":1.56,\"13\":835},\"176\":{\"0\":3,\"1\":13.17,\"2\":2.59,\"3\":2.37,\"4\":20.0,\"5\":120,\"6\":1.65,\"7\":0.68,\"8\":0.53,\"9\":1.46,\"10\":9.3,\"11\":0.6,\"12\":1.62,\"13\":840},\"177\":{\"0\":3,\"1\":14.13,\"2\":4.1,\"3\":2.74,\"4\":24.5,\"5\":96,\"6\":2.05,\"7\":0.76,\"8\":0.56,\"9\":1.35,\"10\":9.2,\"11\":0.61,\"12\":1.6,\"13\":560}}'"
          },
          "execution_count": 150,
          "metadata": {},
          "output_type": "execute_result"
        }
      ]
    },
    {
      "metadata": {
        "trusted": false
      },
      "cell_type": "code",
      "source": "\ndf.to_json(orient=\"records\")",
      "execution_count": 151,
      "outputs": [
        {
          "data": {
            "text/plain": "'[{\"0\":1,\"1\":14.23,\"2\":1.71,\"3\":2.43,\"4\":15.6,\"5\":127,\"6\":2.8,\"7\":3.06,\"8\":0.28,\"9\":2.29,\"10\":5.64,\"11\":1.04,\"12\":3.92,\"13\":1065},{\"0\":1,\"1\":13.2,\"2\":1.78,\"3\":2.14,\"4\":11.2,\"5\":100,\"6\":2.65,\"7\":2.76,\"8\":0.26,\"9\":1.28,\"10\":4.38,\"11\":1.05,\"12\":3.4,\"13\":1050},{\"0\":1,\"1\":13.16,\"2\":2.36,\"3\":2.67,\"4\":18.6,\"5\":101,\"6\":2.8,\"7\":3.24,\"8\":0.3,\"9\":2.81,\"10\":5.68,\"11\":1.03,\"12\":3.17,\"13\":1185},{\"0\":1,\"1\":14.37,\"2\":1.95,\"3\":2.5,\"4\":16.8,\"5\":113,\"6\":3.85,\"7\":3.49,\"8\":0.24,\"9\":2.18,\"10\":7.8,\"11\":0.86,\"12\":3.45,\"13\":1480},{\"0\":1,\"1\":13.24,\"2\":2.59,\"3\":2.87,\"4\":21.0,\"5\":118,\"6\":2.8,\"7\":2.69,\"8\":0.39,\"9\":1.82,\"10\":4.32,\"11\":1.04,\"12\":2.93,\"13\":735},{\"0\":1,\"1\":14.2,\"2\":1.76,\"3\":2.45,\"4\":15.2,\"5\":112,\"6\":3.27,\"7\":3.39,\"8\":0.34,\"9\":1.97,\"10\":6.75,\"11\":1.05,\"12\":2.85,\"13\":1450},{\"0\":1,\"1\":14.39,\"2\":1.87,\"3\":2.45,\"4\":14.6,\"5\":96,\"6\":2.5,\"7\":2.52,\"8\":0.3,\"9\":1.98,\"10\":5.25,\"11\":1.02,\"12\":3.58,\"13\":1290},{\"0\":1,\"1\":14.06,\"2\":2.15,\"3\":2.61,\"4\":17.6,\"5\":121,\"6\":2.6,\"7\":2.51,\"8\":0.31,\"9\":1.25,\"10\":5.05,\"11\":1.06,\"12\":3.58,\"13\":1295},{\"0\":1,\"1\":14.83,\"2\":1.64,\"3\":2.17,\"4\":14.0,\"5\":97,\"6\":2.8,\"7\":2.98,\"8\":0.29,\"9\":1.98,\"10\":5.2,\"11\":1.08,\"12\":2.85,\"13\":1045},{\"0\":1,\"1\":13.86,\"2\":1.35,\"3\":2.27,\"4\":16.0,\"5\":98,\"6\":2.98,\"7\":3.15,\"8\":0.22,\"9\":1.85,\"10\":7.22,\"11\":1.01,\"12\":3.55,\"13\":1045},{\"0\":1,\"1\":14.1,\"2\":2.16,\"3\":2.3,\"4\":18.0,\"5\":105,\"6\":2.95,\"7\":3.32,\"8\":0.22,\"9\":2.38,\"10\":5.75,\"11\":1.25,\"12\":3.17,\"13\":1510},{\"0\":1,\"1\":14.12,\"2\":1.48,\"3\":2.32,\"4\":16.8,\"5\":95,\"6\":2.2,\"7\":2.43,\"8\":0.26,\"9\":1.57,\"10\":5.0,\"11\":1.17,\"12\":2.82,\"13\":1280},{\"0\":1,\"1\":13.75,\"2\":1.73,\"3\":2.41,\"4\":16.0,\"5\":89,\"6\":2.6,\"7\":2.76,\"8\":0.29,\"9\":1.81,\"10\":5.6,\"11\":1.15,\"12\":2.9,\"13\":1320},{\"0\":1,\"1\":14.75,\"2\":1.73,\"3\":2.39,\"4\":11.4,\"5\":91,\"6\":3.1,\"7\":3.69,\"8\":0.43,\"9\":2.81,\"10\":5.4,\"11\":1.25,\"12\":2.73,\"13\":1150},{\"0\":1,\"1\":14.38,\"2\":1.87,\"3\":2.38,\"4\":12.0,\"5\":102,\"6\":3.3,\"7\":3.64,\"8\":0.29,\"9\":2.96,\"10\":7.5,\"11\":1.2,\"12\":3.0,\"13\":1547},{\"0\":1,\"1\":13.63,\"2\":1.81,\"3\":2.7,\"4\":17.2,\"5\":112,\"6\":2.85,\"7\":2.91,\"8\":0.3,\"9\":1.46,\"10\":7.3,\"11\":1.28,\"12\":2.88,\"13\":1310},{\"0\":1,\"1\":14.3,\"2\":1.92,\"3\":2.72,\"4\":20.0,\"5\":120,\"6\":2.8,\"7\":3.14,\"8\":0.33,\"9\":1.97,\"10\":6.2,\"11\":1.07,\"12\":2.65,\"13\":1280},{\"0\":1,\"1\":13.83,\"2\":1.57,\"3\":2.62,\"4\":20.0,\"5\":115,\"6\":2.95,\"7\":3.4,\"8\":0.4,\"9\":1.72,\"10\":6.6,\"11\":1.13,\"12\":2.57,\"13\":1130},{\"0\":1,\"1\":14.19,\"2\":1.59,\"3\":2.48,\"4\":16.5,\"5\":108,\"6\":3.3,\"7\":3.93,\"8\":0.32,\"9\":1.86,\"10\":8.7,\"11\":1.23,\"12\":2.82,\"13\":1680},{\"0\":1,\"1\":13.64,\"2\":3.1,\"3\":2.56,\"4\":15.2,\"5\":116,\"6\":2.7,\"7\":3.03,\"8\":0.17,\"9\":1.66,\"10\":5.1,\"11\":0.96,\"12\":3.36,\"13\":845},{\"0\":1,\"1\":14.06,\"2\":1.63,\"3\":2.28,\"4\":16.0,\"5\":126,\"6\":3.0,\"7\":3.17,\"8\":0.24,\"9\":2.1,\"10\":5.65,\"11\":1.09,\"12\":3.71,\"13\":780},{\"0\":1,\"1\":12.93,\"2\":3.8,\"3\":2.65,\"4\":18.6,\"5\":102,\"6\":2.41,\"7\":2.41,\"8\":0.25,\"9\":1.98,\"10\":4.5,\"11\":1.03,\"12\":3.52,\"13\":770},{\"0\":1,\"1\":13.71,\"2\":1.86,\"3\":2.36,\"4\":16.6,\"5\":101,\"6\":2.61,\"7\":2.88,\"8\":0.27,\"9\":1.69,\"10\":3.8,\"11\":1.11,\"12\":4.0,\"13\":1035},{\"0\":1,\"1\":12.85,\"2\":1.6,\"3\":2.52,\"4\":17.8,\"5\":95,\"6\":2.48,\"7\":2.37,\"8\":0.26,\"9\":1.46,\"10\":3.93,\"11\":1.09,\"12\":3.63,\"13\":1015},{\"0\":1,\"1\":13.5,\"2\":1.81,\"3\":2.61,\"4\":20.0,\"5\":96,\"6\":2.53,\"7\":2.61,\"8\":0.28,\"9\":1.66,\"10\":3.52,\"11\":1.12,\"12\":3.82,\"13\":845},{\"0\":1,\"1\":13.05,\"2\":2.05,\"3\":3.22,\"4\":25.0,\"5\":124,\"6\":2.63,\"7\":2.68,\"8\":0.47,\"9\":1.92,\"10\":3.58,\"11\":1.13,\"12\":3.2,\"13\":830},{\"0\":1,\"1\":13.39,\"2\":1.77,\"3\":2.62,\"4\":16.1,\"5\":93,\"6\":2.85,\"7\":2.94,\"8\":0.34,\"9\":1.45,\"10\":4.8,\"11\":0.92,\"12\":3.22,\"13\":1195},{\"0\":1,\"1\":13.3,\"2\":1.72,\"3\":2.14,\"4\":17.0,\"5\":94,\"6\":2.4,\"7\":2.19,\"8\":0.27,\"9\":1.35,\"10\":3.95,\"11\":1.02,\"12\":2.77,\"13\":1285},{\"0\":1,\"1\":13.87,\"2\":1.9,\"3\":2.8,\"4\":19.4,\"5\":107,\"6\":2.95,\"7\":2.97,\"8\":0.37,\"9\":1.76,\"10\":4.5,\"11\":1.25,\"12\":3.4,\"13\":915},{\"0\":1,\"1\":14.02,\"2\":1.68,\"3\":2.21,\"4\":16.0,\"5\":96,\"6\":2.65,\"7\":2.33,\"8\":0.26,\"9\":1.98,\"10\":4.7,\"11\":1.04,\"12\":3.59,\"13\":1035},{\"0\":1,\"1\":13.73,\"2\":1.5,\"3\":2.7,\"4\":22.5,\"5\":101,\"6\":3.0,\"7\":3.25,\"8\":0.29,\"9\":2.38,\"10\":5.7,\"11\":1.19,\"12\":2.71,\"13\":1285},{\"0\":1,\"1\":13.58,\"2\":1.66,\"3\":2.36,\"4\":19.1,\"5\":106,\"6\":2.86,\"7\":3.19,\"8\":0.22,\"9\":1.95,\"10\":6.9,\"11\":1.09,\"12\":2.88,\"13\":1515},{\"0\":1,\"1\":13.68,\"2\":1.83,\"3\":2.36,\"4\":17.2,\"5\":104,\"6\":2.42,\"7\":2.69,\"8\":0.42,\"9\":1.97,\"10\":3.84,\"11\":1.23,\"12\":2.87,\"13\":990},{\"0\":1,\"1\":13.76,\"2\":1.53,\"3\":2.7,\"4\":19.5,\"5\":132,\"6\":2.95,\"7\":2.74,\"8\":0.5,\"9\":1.35,\"10\":5.4,\"11\":1.25,\"12\":3.0,\"13\":1235},{\"0\":1,\"1\":13.51,\"2\":1.8,\"3\":2.65,\"4\":19.0,\"5\":110,\"6\":2.35,\"7\":2.53,\"8\":0.29,\"9\":1.54,\"10\":4.2,\"11\":1.1,\"12\":2.87,\"13\":1095},{\"0\":1,\"1\":13.48,\"2\":1.81,\"3\":2.41,\"4\":20.5,\"5\":100,\"6\":2.7,\"7\":2.98,\"8\":0.26,\"9\":1.86,\"10\":5.1,\"11\":1.04,\"12\":3.47,\"13\":920},{\"0\":1,\"1\":13.28,\"2\":1.64,\"3\":2.84,\"4\":15.5,\"5\":110,\"6\":2.6,\"7\":2.68,\"8\":0.34,\"9\":1.36,\"10\":4.6,\"11\":1.09,\"12\":2.78,\"13\":880},{\"0\":1,\"1\":13.05,\"2\":1.65,\"3\":2.55,\"4\":18.0,\"5\":98,\"6\":2.45,\"7\":2.43,\"8\":0.29,\"9\":1.44,\"10\":4.25,\"11\":1.12,\"12\":2.51,\"13\":1105},{\"0\":1,\"1\":13.07,\"2\":1.5,\"3\":2.1,\"4\":15.5,\"5\":98,\"6\":2.4,\"7\":2.64,\"8\":0.28,\"9\":1.37,\"10\":3.7,\"11\":1.18,\"12\":2.69,\"13\":1020},{\"0\":1,\"1\":14.22,\"2\":3.99,\"3\":2.51,\"4\":13.2,\"5\":128,\"6\":3.0,\"7\":3.04,\"8\":0.2,\"9\":2.08,\"10\":5.1,\"11\":0.89,\"12\":3.53,\"13\":760},{\"0\":1,\"1\":13.56,\"2\":1.71,\"3\":2.31,\"4\":16.2,\"5\":117,\"6\":3.15,\"7\":3.29,\"8\":0.34,\"9\":2.34,\"10\":6.13,\"11\":0.95,\"12\":3.38,\"13\":795},{\"0\":1,\"1\":13.41,\"2\":3.84,\"3\":2.12,\"4\":18.8,\"5\":90,\"6\":2.45,\"7\":2.68,\"8\":0.27,\"9\":1.48,\"10\":4.28,\"11\":0.91,\"12\":3.0,\"13\":1035},{\"0\":1,\"1\":13.88,\"2\":1.89,\"3\":2.59,\"4\":15.0,\"5\":101,\"6\":3.25,\"7\":3.56,\"8\":0.17,\"9\":1.7,\"10\":5.43,\"11\":0.88,\"12\":3.56,\"13\":1095},{\"0\":1,\"1\":13.24,\"2\":3.98,\"3\":2.29,\"4\":17.5,\"5\":103,\"6\":2.64,\"7\":2.63,\"8\":0.32,\"9\":1.66,\"10\":4.36,\"11\":0.82,\"12\":3.0,\"13\":680},{\"0\":1,\"1\":13.05,\"2\":1.77,\"3\":2.1,\"4\":17.0,\"5\":107,\"6\":3.0,\"7\":3.0,\"8\":0.28,\"9\":2.03,\"10\":5.04,\"11\":0.88,\"12\":3.35,\"13\":885},{\"0\":1,\"1\":14.21,\"2\":4.04,\"3\":2.44,\"4\":18.9,\"5\":111,\"6\":2.85,\"7\":2.65,\"8\":0.3,\"9\":1.25,\"10\":5.24,\"11\":0.87,\"12\":3.33,\"13\":1080},{\"0\":1,\"1\":14.38,\"2\":3.59,\"3\":2.28,\"4\":16.0,\"5\":102,\"6\":3.25,\"7\":3.17,\"8\":0.27,\"9\":2.19,\"10\":4.9,\"11\":1.04,\"12\":3.44,\"13\":1065},{\"0\":1,\"1\":13.9,\"2\":1.68,\"3\":2.12,\"4\":16.0,\"5\":101,\"6\":3.1,\"7\":3.39,\"8\":0.21,\"9\":2.14,\"10\":6.1,\"11\":0.91,\"12\":3.33,\"13\":985},{\"0\":1,\"1\":14.1,\"2\":2.02,\"3\":2.4,\"4\":18.8,\"5\":103,\"6\":2.75,\"7\":2.92,\"8\":0.32,\"9\":2.38,\"10\":6.2,\"11\":1.07,\"12\":2.75,\"13\":1060},{\"0\":1,\"1\":13.94,\"2\":1.73,\"3\":2.27,\"4\":17.4,\"5\":108,\"6\":2.88,\"7\":3.54,\"8\":0.32,\"9\":2.08,\"10\":8.9,\"11\":1.12,\"12\":3.1,\"13\":1260},{\"0\":1,\"1\":13.05,\"2\":1.73,\"3\":2.04,\"4\":12.4,\"5\":92,\"6\":2.72,\"7\":3.27,\"8\":0.17,\"9\":2.91,\"10\":7.2,\"11\":1.12,\"12\":2.91,\"13\":1150},{\"0\":1,\"1\":13.83,\"2\":1.65,\"3\":2.6,\"4\":17.2,\"5\":94,\"6\":2.45,\"7\":2.99,\"8\":0.22,\"9\":2.29,\"10\":5.6,\"11\":1.24,\"12\":3.37,\"13\":1265},{\"0\":1,\"1\":13.82,\"2\":1.75,\"3\":2.42,\"4\":14.0,\"5\":111,\"6\":3.88,\"7\":3.74,\"8\":0.32,\"9\":1.87,\"10\":7.05,\"11\":1.01,\"12\":3.26,\"13\":1190},{\"0\":1,\"1\":13.77,\"2\":1.9,\"3\":2.68,\"4\":17.1,\"5\":115,\"6\":3.0,\"7\":2.79,\"8\":0.39,\"9\":1.68,\"10\":6.3,\"11\":1.13,\"12\":2.93,\"13\":1375},{\"0\":1,\"1\":13.74,\"2\":1.67,\"3\":2.25,\"4\":16.4,\"5\":118,\"6\":2.6,\"7\":2.9,\"8\":0.21,\"9\":1.62,\"10\":5.85,\"11\":0.92,\"12\":3.2,\"13\":1060},{\"0\":1,\"1\":13.56,\"2\":1.73,\"3\":2.46,\"4\":20.5,\"5\":116,\"6\":2.96,\"7\":2.78,\"8\":0.2,\"9\":2.45,\"10\":6.25,\"11\":0.98,\"12\":3.03,\"13\":1120},{\"0\":1,\"1\":14.22,\"2\":1.7,\"3\":2.3,\"4\":16.3,\"5\":118,\"6\":3.2,\"7\":3.0,\"8\":0.26,\"9\":2.03,\"10\":6.38,\"11\":0.94,\"12\":3.31,\"13\":970},{\"0\":1,\"1\":13.29,\"2\":1.97,\"3\":2.68,\"4\":16.8,\"5\":102,\"6\":3.0,\"7\":3.23,\"8\":0.31,\"9\":1.66,\"10\":6.0,\"11\":1.07,\"12\":2.84,\"13\":1270},{\"0\":1,\"1\":13.72,\"2\":1.43,\"3\":2.5,\"4\":16.7,\"5\":108,\"6\":3.4,\"7\":3.67,\"8\":0.19,\"9\":2.04,\"10\":6.8,\"11\":0.89,\"12\":2.87,\"13\":1285},{\"0\":2,\"1\":12.37,\"2\":0.94,\"3\":1.36,\"4\":10.6,\"5\":88,\"6\":1.98,\"7\":0.57,\"8\":0.28,\"9\":0.42,\"10\":1.95,\"11\":1.05,\"12\":1.82,\"13\":520},{\"0\":2,\"1\":12.33,\"2\":1.1,\"3\":2.28,\"4\":16.0,\"5\":101,\"6\":2.05,\"7\":1.09,\"8\":0.63,\"9\":0.41,\"10\":3.27,\"11\":1.25,\"12\":1.67,\"13\":680},{\"0\":2,\"1\":12.64,\"2\":1.36,\"3\":2.02,\"4\":16.8,\"5\":100,\"6\":2.02,\"7\":1.41,\"8\":0.53,\"9\":0.62,\"10\":5.75,\"11\":0.98,\"12\":1.59,\"13\":450},{\"0\":2,\"1\":13.67,\"2\":1.25,\"3\":1.92,\"4\":18.0,\"5\":94,\"6\":2.1,\"7\":1.79,\"8\":0.32,\"9\":0.73,\"10\":3.8,\"11\":1.23,\"12\":2.46,\"13\":630},{\"0\":2,\"1\":12.37,\"2\":1.13,\"3\":2.16,\"4\":19.0,\"5\":87,\"6\":3.5,\"7\":3.1,\"8\":0.19,\"9\":1.87,\"10\":4.45,\"11\":1.22,\"12\":2.87,\"13\":420},{\"0\":2,\"1\":12.17,\"2\":1.45,\"3\":2.53,\"4\":19.0,\"5\":104,\"6\":1.89,\"7\":1.75,\"8\":0.45,\"9\":1.03,\"10\":2.95,\"11\":1.45,\"12\":2.23,\"13\":355},{\"0\":2,\"1\":12.37,\"2\":1.21,\"3\":2.56,\"4\":18.1,\"5\":98,\"6\":2.42,\"7\":2.65,\"8\":0.37,\"9\":2.08,\"10\":4.6,\"11\":1.19,\"12\":2.3,\"13\":678},{\"0\":2,\"1\":13.11,\"2\":1.01,\"3\":1.7,\"4\":15.0,\"5\":78,\"6\":2.98,\"7\":3.18,\"8\":0.26,\"9\":2.28,\"10\":5.3,\"11\":1.12,\"12\":3.18,\"13\":502},{\"0\":2,\"1\":12.37,\"2\":1.17,\"3\":1.92,\"4\":19.6,\"5\":78,\"6\":2.11,\"7\":2.0,\"8\":0.27,\"9\":1.04,\"10\":4.68,\"11\":1.12,\"12\":3.48,\"13\":510},{\"0\":2,\"1\":13.34,\"2\":0.94,\"3\":2.36,\"4\":17.0,\"5\":110,\"6\":2.53,\"7\":1.3,\"8\":0.55,\"9\":0.42,\"10\":3.17,\"11\":1.02,\"12\":1.93,\"13\":750},{\"0\":2,\"1\":12.21,\"2\":1.19,\"3\":1.75,\"4\":16.8,\"5\":151,\"6\":1.85,\"7\":1.28,\"8\":0.14,\"9\":2.5,\"10\":2.85,\"11\":1.28,\"12\":3.07,\"13\":718},{\"0\":2,\"1\":12.29,\"2\":1.61,\"3\":2.21,\"4\":20.4,\"5\":103,\"6\":1.1,\"7\":1.02,\"8\":0.37,\"9\":1.46,\"10\":3.05,\"11\":0.906,\"12\":1.82,\"13\":870},{\"0\":2,\"1\":13.86,\"2\":1.51,\"3\":2.67,\"4\":25.0,\"5\":86,\"6\":2.95,\"7\":2.86,\"8\":0.21,\"9\":1.87,\"10\":3.38,\"11\":1.36,\"12\":3.16,\"13\":410},{\"0\":2,\"1\":13.49,\"2\":1.66,\"3\":2.24,\"4\":24.0,\"5\":87,\"6\":1.88,\"7\":1.84,\"8\":0.27,\"9\":1.03,\"10\":3.74,\"11\":0.98,\"12\":2.78,\"13\":472},{\"0\":2,\"1\":12.99,\"2\":1.67,\"3\":2.6,\"4\":30.0,\"5\":139,\"6\":3.3,\"7\":2.89,\"8\":0.21,\"9\":1.96,\"10\":3.35,\"11\":1.31,\"12\":3.5,\"13\":985},{\"0\":2,\"1\":11.96,\"2\":1.09,\"3\":2.3,\"4\":21.0,\"5\":101,\"6\":3.38,\"7\":2.14,\"8\":0.13,\"9\":1.65,\"10\":3.21,\"11\":0.99,\"12\":3.13,\"13\":886},{\"0\":2,\"1\":11.66,\"2\":1.88,\"3\":1.92,\"4\":16.0,\"5\":97,\"6\":1.61,\"7\":1.57,\"8\":0.34,\"9\":1.15,\"10\":3.8,\"11\":1.23,\"12\":2.14,\"13\":428},{\"0\":2,\"1\":13.03,\"2\":0.9,\"3\":1.71,\"4\":16.0,\"5\":86,\"6\":1.95,\"7\":2.03,\"8\":0.24,\"9\":1.46,\"10\":4.6,\"11\":1.19,\"12\":2.48,\"13\":392},{\"0\":2,\"1\":11.84,\"2\":2.89,\"3\":2.23,\"4\":18.0,\"5\":112,\"6\":1.72,\"7\":1.32,\"8\":0.43,\"9\":0.95,\"10\":2.65,\"11\":0.96,\"12\":2.52,\"13\":500},{\"0\":2,\"1\":12.33,\"2\":0.99,\"3\":1.95,\"4\":14.8,\"5\":136,\"6\":1.9,\"7\":1.85,\"8\":0.35,\"9\":2.76,\"10\":3.4,\"11\":1.06,\"12\":2.31,\"13\":750},{\"0\":2,\"1\":12.7,\"2\":3.87,\"3\":2.4,\"4\":23.0,\"5\":101,\"6\":2.83,\"7\":2.55,\"8\":0.43,\"9\":1.95,\"10\":2.57,\"11\":1.19,\"12\":3.13,\"13\":463},{\"0\":2,\"1\":12.0,\"2\":0.92,\"3\":2.0,\"4\":19.0,\"5\":86,\"6\":2.42,\"7\":2.26,\"8\":0.3,\"9\":1.43,\"10\":2.5,\"11\":1.38,\"12\":3.12,\"13\":278},{\"0\":2,\"1\":12.72,\"2\":1.81,\"3\":2.2,\"4\":18.8,\"5\":86,\"6\":2.2,\"7\":2.53,\"8\":0.26,\"9\":1.77,\"10\":3.9,\"11\":1.16,\"12\":3.14,\"13\":714},{\"0\":2,\"1\":12.08,\"2\":1.13,\"3\":2.51,\"4\":24.0,\"5\":78,\"6\":2.0,\"7\":1.58,\"8\":0.4,\"9\":1.4,\"10\":2.2,\"11\":1.31,\"12\":2.72,\"13\":630},{\"0\":2,\"1\":13.05,\"2\":3.86,\"3\":2.32,\"4\":22.5,\"5\":85,\"6\":1.65,\"7\":1.59,\"8\":0.61,\"9\":1.62,\"10\":4.8,\"11\":0.84,\"12\":2.01,\"13\":515},{\"0\":2,\"1\":11.84,\"2\":0.89,\"3\":2.58,\"4\":18.0,\"5\":94,\"6\":2.2,\"7\":2.21,\"8\":0.22,\"9\":2.35,\"10\":3.05,\"11\":0.79,\"12\":3.08,\"13\":520},{\"0\":2,\"1\":12.67,\"2\":0.98,\"3\":2.24,\"4\":18.0,\"5\":99,\"6\":2.2,\"7\":1.94,\"8\":0.3,\"9\":1.46,\"10\":2.62,\"11\":1.23,\"12\":3.16,\"13\":450},{\"0\":2,\"1\":12.16,\"2\":1.61,\"3\":2.31,\"4\":22.8,\"5\":90,\"6\":1.78,\"7\":1.69,\"8\":0.43,\"9\":1.56,\"10\":2.45,\"11\":1.33,\"12\":2.26,\"13\":495},{\"0\":2,\"1\":11.65,\"2\":1.67,\"3\":2.62,\"4\":26.0,\"5\":88,\"6\":1.92,\"7\":1.61,\"8\":0.4,\"9\":1.34,\"10\":2.6,\"11\":1.36,\"12\":3.21,\"13\":562},{\"0\":2,\"1\":11.64,\"2\":2.06,\"3\":2.46,\"4\":21.6,\"5\":84,\"6\":1.95,\"7\":1.69,\"8\":0.48,\"9\":1.35,\"10\":2.8,\"11\":1.0,\"12\":2.75,\"13\":680},{\"0\":2,\"1\":12.08,\"2\":1.33,\"3\":2.3,\"4\":23.6,\"5\":70,\"6\":2.2,\"7\":1.59,\"8\":0.42,\"9\":1.38,\"10\":1.74,\"11\":1.07,\"12\":3.21,\"13\":625},{\"0\":2,\"1\":12.08,\"2\":1.83,\"3\":2.32,\"4\":18.5,\"5\":81,\"6\":1.6,\"7\":1.5,\"8\":0.52,\"9\":1.64,\"10\":2.4,\"11\":1.08,\"12\":2.27,\"13\":480},{\"0\":2,\"1\":12.0,\"2\":1.51,\"3\":2.42,\"4\":22.0,\"5\":86,\"6\":1.45,\"7\":1.25,\"8\":0.5,\"9\":1.63,\"10\":3.6,\"11\":1.05,\"12\":2.65,\"13\":450},{\"0\":2,\"1\":12.69,\"2\":1.53,\"3\":2.26,\"4\":20.7,\"5\":80,\"6\":1.38,\"7\":1.46,\"8\":0.58,\"9\":1.62,\"10\":3.05,\"11\":0.96,\"12\":2.06,\"13\":495},{\"0\":2,\"1\":12.29,\"2\":2.83,\"3\":2.22,\"4\":18.0,\"5\":88,\"6\":2.45,\"7\":2.25,\"8\":0.25,\"9\":1.99,\"10\":2.15,\"11\":1.15,\"12\":3.3,\"13\":290},{\"0\":2,\"1\":11.62,\"2\":1.99,\"3\":2.28,\"4\":18.0,\"5\":98,\"6\":3.02,\"7\":2.26,\"8\":0.17,\"9\":1.35,\"10\":3.25,\"11\":1.16,\"12\":2.96,\"13\":345},{\"0\":2,\"1\":12.47,\"2\":1.52,\"3\":2.2,\"4\":19.0,\"5\":162,\"6\":2.5,\"7\":2.27,\"8\":0.32,\"9\":3.28,\"10\":2.6,\"11\":1.16,\"12\":2.63,\"13\":937},{\"0\":2,\"1\":11.81,\"2\":2.12,\"3\":2.74,\"4\":21.5,\"5\":134,\"6\":1.6,\"7\":0.99,\"8\":0.14,\"9\":1.56,\"10\":2.5,\"11\":0.95,\"12\":2.26,\"13\":625},{\"0\":2,\"1\":12.29,\"2\":1.41,\"3\":1.98,\"4\":16.0,\"5\":85,\"6\":2.55,\"7\":2.5,\"8\":0.29,\"9\":1.77,\"10\":2.9,\"11\":1.23,\"12\":2.74,\"13\":428},{\"0\":2,\"1\":12.37,\"2\":1.07,\"3\":2.1,\"4\":18.5,\"5\":88,\"6\":3.52,\"7\":3.75,\"8\":0.24,\"9\":1.95,\"10\":4.5,\"11\":1.04,\"12\":2.77,\"13\":660},{\"0\":2,\"1\":12.29,\"2\":3.17,\"3\":2.21,\"4\":18.0,\"5\":88,\"6\":2.85,\"7\":2.99,\"8\":0.45,\"9\":2.81,\"10\":2.3,\"11\":1.42,\"12\":2.83,\"13\":406},{\"0\":2,\"1\":12.08,\"2\":2.08,\"3\":1.7,\"4\":17.5,\"5\":97,\"6\":2.23,\"7\":2.17,\"8\":0.26,\"9\":1.4,\"10\":3.3,\"11\":1.27,\"12\":2.96,\"13\":710},{\"0\":2,\"1\":12.6,\"2\":1.34,\"3\":1.9,\"4\":18.5,\"5\":88,\"6\":1.45,\"7\":1.36,\"8\":0.29,\"9\":1.35,\"10\":2.45,\"11\":1.04,\"12\":2.77,\"13\":562},{\"0\":2,\"1\":12.34,\"2\":2.45,\"3\":2.46,\"4\":21.0,\"5\":98,\"6\":2.56,\"7\":2.11,\"8\":0.34,\"9\":1.31,\"10\":2.8,\"11\":0.8,\"12\":3.38,\"13\":438},{\"0\":2,\"1\":11.82,\"2\":1.72,\"3\":1.88,\"4\":19.5,\"5\":86,\"6\":2.5,\"7\":1.64,\"8\":0.37,\"9\":1.42,\"10\":2.06,\"11\":0.94,\"12\":2.44,\"13\":415},{\"0\":2,\"1\":12.51,\"2\":1.73,\"3\":1.98,\"4\":20.5,\"5\":85,\"6\":2.2,\"7\":1.92,\"8\":0.32,\"9\":1.48,\"10\":2.94,\"11\":1.04,\"12\":3.57,\"13\":672},{\"0\":2,\"1\":12.42,\"2\":2.55,\"3\":2.27,\"4\":22.0,\"5\":90,\"6\":1.68,\"7\":1.84,\"8\":0.66,\"9\":1.42,\"10\":2.7,\"11\":0.86,\"12\":3.3,\"13\":315},{\"0\":2,\"1\":12.25,\"2\":1.73,\"3\":2.12,\"4\":19.0,\"5\":80,\"6\":1.65,\"7\":2.03,\"8\":0.37,\"9\":1.63,\"10\":3.4,\"11\":1.0,\"12\":3.17,\"13\":510},{\"0\":2,\"1\":12.72,\"2\":1.75,\"3\":2.28,\"4\":22.5,\"5\":84,\"6\":1.38,\"7\":1.76,\"8\":0.48,\"9\":1.63,\"10\":3.3,\"11\":0.88,\"12\":2.42,\"13\":488},{\"0\":2,\"1\":12.22,\"2\":1.29,\"3\":1.94,\"4\":19.0,\"5\":92,\"6\":2.36,\"7\":2.04,\"8\":0.39,\"9\":2.08,\"10\":2.7,\"11\":0.86,\"12\":3.02,\"13\":312},{\"0\":2,\"1\":11.61,\"2\":1.35,\"3\":2.7,\"4\":20.0,\"5\":94,\"6\":2.74,\"7\":2.92,\"8\":0.29,\"9\":2.49,\"10\":2.65,\"11\":0.96,\"12\":3.26,\"13\":680},{\"0\":2,\"1\":11.46,\"2\":3.74,\"3\":1.82,\"4\":19.5,\"5\":107,\"6\":3.18,\"7\":2.58,\"8\":0.24,\"9\":3.58,\"10\":2.9,\"11\":0.75,\"12\":2.81,\"13\":562},{\"0\":2,\"1\":12.52,\"2\":2.43,\"3\":2.17,\"4\":21.0,\"5\":88,\"6\":2.55,\"7\":2.27,\"8\":0.26,\"9\":1.22,\"10\":2.0,\"11\":0.9,\"12\":2.78,\"13\":325},{\"0\":2,\"1\":11.76,\"2\":2.68,\"3\":2.92,\"4\":20.0,\"5\":103,\"6\":1.75,\"7\":2.03,\"8\":0.6,\"9\":1.05,\"10\":3.8,\"11\":1.23,\"12\":2.5,\"13\":607},{\"0\":2,\"1\":11.41,\"2\":0.74,\"3\":2.5,\"4\":21.0,\"5\":88,\"6\":2.48,\"7\":2.01,\"8\":0.42,\"9\":1.44,\"10\":3.08,\"11\":1.1,\"12\":2.31,\"13\":434},{\"0\":2,\"1\":12.08,\"2\":1.39,\"3\":2.5,\"4\":22.5,\"5\":84,\"6\":2.56,\"7\":2.29,\"8\":0.43,\"9\":1.04,\"10\":2.9,\"11\":0.93,\"12\":3.19,\"13\":385},{\"0\":2,\"1\":11.03,\"2\":1.51,\"3\":2.2,\"4\":21.5,\"5\":85,\"6\":2.46,\"7\":2.17,\"8\":0.52,\"9\":2.01,\"10\":1.9,\"11\":1.71,\"12\":2.87,\"13\":407},{\"0\":2,\"1\":11.82,\"2\":1.47,\"3\":1.99,\"4\":20.8,\"5\":86,\"6\":1.98,\"7\":1.6,\"8\":0.3,\"9\":1.53,\"10\":1.95,\"11\":0.95,\"12\":3.33,\"13\":495},{\"0\":2,\"1\":12.42,\"2\":1.61,\"3\":2.19,\"4\":22.5,\"5\":108,\"6\":2.0,\"7\":2.09,\"8\":0.34,\"9\":1.61,\"10\":2.06,\"11\":1.06,\"12\":2.96,\"13\":345},{\"0\":2,\"1\":12.77,\"2\":3.43,\"3\":1.98,\"4\":16.0,\"5\":80,\"6\":1.63,\"7\":1.25,\"8\":0.43,\"9\":0.83,\"10\":3.4,\"11\":0.7,\"12\":2.12,\"13\":372},{\"0\":2,\"1\":12.0,\"2\":3.43,\"3\":2.0,\"4\":19.0,\"5\":87,\"6\":2.0,\"7\":1.64,\"8\":0.37,\"9\":1.87,\"10\":1.28,\"11\":0.93,\"12\":3.05,\"13\":564},{\"0\":2,\"1\":11.45,\"2\":2.4,\"3\":2.42,\"4\":20.0,\"5\":96,\"6\":2.9,\"7\":2.79,\"8\":0.32,\"9\":1.83,\"10\":3.25,\"11\":0.8,\"12\":3.39,\"13\":625},{\"0\":2,\"1\":11.56,\"2\":2.05,\"3\":3.23,\"4\":28.5,\"5\":119,\"6\":3.18,\"7\":5.08,\"8\":0.47,\"9\":1.87,\"10\":6.0,\"11\":0.93,\"12\":3.69,\"13\":465},{\"0\":2,\"1\":12.42,\"2\":4.43,\"3\":2.73,\"4\":26.5,\"5\":102,\"6\":2.2,\"7\":2.13,\"8\":0.43,\"9\":1.71,\"10\":2.08,\"11\":0.92,\"12\":3.12,\"13\":365},{\"0\":2,\"1\":13.05,\"2\":5.8,\"3\":2.13,\"4\":21.5,\"5\":86,\"6\":2.62,\"7\":2.65,\"8\":0.3,\"9\":2.01,\"10\":2.6,\"11\":0.73,\"12\":3.1,\"13\":380},{\"0\":2,\"1\":11.87,\"2\":4.31,\"3\":2.39,\"4\":21.0,\"5\":82,\"6\":2.86,\"7\":3.03,\"8\":0.21,\"9\":2.91,\"10\":2.8,\"11\":0.75,\"12\":3.64,\"13\":380},{\"0\":2,\"1\":12.07,\"2\":2.16,\"3\":2.17,\"4\":21.0,\"5\":85,\"6\":2.6,\"7\":2.65,\"8\":0.37,\"9\":1.35,\"10\":2.76,\"11\":0.86,\"12\":3.28,\"13\":378},{\"0\":2,\"1\":12.43,\"2\":1.53,\"3\":2.29,\"4\":21.5,\"5\":86,\"6\":2.74,\"7\":3.15,\"8\":0.39,\"9\":1.77,\"10\":3.94,\"11\":0.69,\"12\":2.84,\"13\":352},{\"0\":2,\"1\":11.79,\"2\":2.13,\"3\":2.78,\"4\":28.5,\"5\":92,\"6\":2.13,\"7\":2.24,\"8\":0.58,\"9\":1.76,\"10\":3.0,\"11\":0.97,\"12\":2.44,\"13\":466},{\"0\":2,\"1\":12.37,\"2\":1.63,\"3\":2.3,\"4\":24.5,\"5\":88,\"6\":2.22,\"7\":2.45,\"8\":0.4,\"9\":1.9,\"10\":2.12,\"11\":0.89,\"12\":2.78,\"13\":342},{\"0\":2,\"1\":12.04,\"2\":4.3,\"3\":2.38,\"4\":22.0,\"5\":80,\"6\":2.1,\"7\":1.75,\"8\":0.42,\"9\":1.35,\"10\":2.6,\"11\":0.79,\"12\":2.57,\"13\":580},{\"0\":3,\"1\":12.86,\"2\":1.35,\"3\":2.32,\"4\":18.0,\"5\":122,\"6\":1.51,\"7\":1.25,\"8\":0.21,\"9\":0.94,\"10\":4.1,\"11\":0.76,\"12\":1.29,\"13\":630},{\"0\":3,\"1\":12.88,\"2\":2.99,\"3\":2.4,\"4\":20.0,\"5\":104,\"6\":1.3,\"7\":1.22,\"8\":0.24,\"9\":0.83,\"10\":5.4,\"11\":0.74,\"12\":1.42,\"13\":530},{\"0\":3,\"1\":12.81,\"2\":2.31,\"3\":2.4,\"4\":24.0,\"5\":98,\"6\":1.15,\"7\":1.09,\"8\":0.27,\"9\":0.83,\"10\":5.7,\"11\":0.66,\"12\":1.36,\"13\":560},{\"0\":3,\"1\":12.7,\"2\":3.55,\"3\":2.36,\"4\":21.5,\"5\":106,\"6\":1.7,\"7\":1.2,\"8\":0.17,\"9\":0.84,\"10\":5.0,\"11\":0.78,\"12\":1.29,\"13\":600},{\"0\":3,\"1\":12.51,\"2\":1.24,\"3\":2.25,\"4\":17.5,\"5\":85,\"6\":2.0,\"7\":0.58,\"8\":0.6,\"9\":1.25,\"10\":5.45,\"11\":0.75,\"12\":1.51,\"13\":650},{\"0\":3,\"1\":12.6,\"2\":2.46,\"3\":2.2,\"4\":18.5,\"5\":94,\"6\":1.62,\"7\":0.66,\"8\":0.63,\"9\":0.94,\"10\":7.1,\"11\":0.73,\"12\":1.58,\"13\":695},{\"0\":3,\"1\":12.25,\"2\":4.72,\"3\":2.54,\"4\":21.0,\"5\":89,\"6\":1.38,\"7\":0.47,\"8\":0.53,\"9\":0.8,\"10\":3.85,\"11\":0.75,\"12\":1.27,\"13\":720},{\"0\":3,\"1\":12.53,\"2\":5.51,\"3\":2.64,\"4\":25.0,\"5\":96,\"6\":1.79,\"7\":0.6,\"8\":0.63,\"9\":1.1,\"10\":5.0,\"11\":0.82,\"12\":1.69,\"13\":515},{\"0\":3,\"1\":13.49,\"2\":3.59,\"3\":2.19,\"4\":19.5,\"5\":88,\"6\":1.62,\"7\":0.48,\"8\":0.58,\"9\":0.88,\"10\":5.7,\"11\":0.81,\"12\":1.82,\"13\":580},{\"0\":3,\"1\":12.84,\"2\":2.96,\"3\":2.61,\"4\":24.0,\"5\":101,\"6\":2.32,\"7\":0.6,\"8\":0.53,\"9\":0.81,\"10\":4.92,\"11\":0.89,\"12\":2.15,\"13\":590},{\"0\":3,\"1\":12.93,\"2\":2.81,\"3\":2.7,\"4\":21.0,\"5\":96,\"6\":1.54,\"7\":0.5,\"8\":0.53,\"9\":0.75,\"10\":4.6,\"11\":0.77,\"12\":2.31,\"13\":600},{\"0\":3,\"1\":13.36,\"2\":2.56,\"3\":2.35,\"4\":20.0,\"5\":89,\"6\":1.4,\"7\":0.5,\"8\":0.37,\"9\":0.64,\"10\":5.6,\"11\":0.7,\"12\":2.47,\"13\":780},{\"0\":3,\"1\":13.52,\"2\":3.17,\"3\":2.72,\"4\":23.5,\"5\":97,\"6\":1.55,\"7\":0.52,\"8\":0.5,\"9\":0.55,\"10\":4.35,\"11\":0.89,\"12\":2.06,\"13\":520},{\"0\":3,\"1\":13.62,\"2\":4.95,\"3\":2.35,\"4\":20.0,\"5\":92,\"6\":2.0,\"7\":0.8,\"8\":0.47,\"9\":1.02,\"10\":4.4,\"11\":0.91,\"12\":2.05,\"13\":550},{\"0\":3,\"1\":12.25,\"2\":3.88,\"3\":2.2,\"4\":18.5,\"5\":112,\"6\":1.38,\"7\":0.78,\"8\":0.29,\"9\":1.14,\"10\":8.21,\"11\":0.65,\"12\":2.0,\"13\":855},{\"0\":3,\"1\":13.16,\"2\":3.57,\"3\":2.15,\"4\":21.0,\"5\":102,\"6\":1.5,\"7\":0.55,\"8\":0.43,\"9\":1.3,\"10\":4.0,\"11\":0.6,\"12\":1.68,\"13\":830},{\"0\":3,\"1\":13.88,\"2\":5.04,\"3\":2.23,\"4\":20.0,\"5\":80,\"6\":0.98,\"7\":0.34,\"8\":0.4,\"9\":0.68,\"10\":4.9,\"11\":0.58,\"12\":1.33,\"13\":415},{\"0\":3,\"1\":12.87,\"2\":4.61,\"3\":2.48,\"4\":21.5,\"5\":86,\"6\":1.7,\"7\":0.65,\"8\":0.47,\"9\":0.86,\"10\":7.65,\"11\":0.54,\"12\":1.86,\"13\":625},{\"0\":3,\"1\":13.32,\"2\":3.24,\"3\":2.38,\"4\":21.5,\"5\":92,\"6\":1.93,\"7\":0.76,\"8\":0.45,\"9\":1.25,\"10\":8.42,\"11\":0.55,\"12\":1.62,\"13\":650},{\"0\":3,\"1\":13.08,\"2\":3.9,\"3\":2.36,\"4\":21.5,\"5\":113,\"6\":1.41,\"7\":1.39,\"8\":0.34,\"9\":1.14,\"10\":9.4,\"11\":0.57,\"12\":1.33,\"13\":550},{\"0\":3,\"1\":13.5,\"2\":3.12,\"3\":2.62,\"4\":24.0,\"5\":123,\"6\":1.4,\"7\":1.57,\"8\":0.22,\"9\":1.25,\"10\":8.6,\"11\":0.59,\"12\":1.3,\"13\":500},{\"0\":3,\"1\":12.79,\"2\":2.67,\"3\":2.48,\"4\":22.0,\"5\":112,\"6\":1.48,\"7\":1.36,\"8\":0.24,\"9\":1.26,\"10\":10.8,\"11\":0.48,\"12\":1.47,\"13\":480},{\"0\":3,\"1\":13.11,\"2\":1.9,\"3\":2.75,\"4\":25.5,\"5\":116,\"6\":2.2,\"7\":1.28,\"8\":0.26,\"9\":1.56,\"10\":7.1,\"11\":0.61,\"12\":1.33,\"13\":425},{\"0\":3,\"1\":13.23,\"2\":3.3,\"3\":2.28,\"4\":18.5,\"5\":98,\"6\":1.8,\"7\":0.83,\"8\":0.61,\"9\":1.87,\"10\":10.52,\"11\":0.56,\"12\":1.51,\"13\":675},{\"0\":3,\"1\":12.58,\"2\":1.29,\"3\":2.1,\"4\":20.0,\"5\":103,\"6\":1.48,\"7\":0.58,\"8\":0.53,\"9\":1.4,\"10\":7.6,\"11\":0.58,\"12\":1.55,\"13\":640},{\"0\":3,\"1\":13.17,\"2\":5.19,\"3\":2.32,\"4\":22.0,\"5\":93,\"6\":1.74,\"7\":0.63,\"8\":0.61,\"9\":1.55,\"10\":7.9,\"11\":0.6,\"12\":1.48,\"13\":725},{\"0\":3,\"1\":13.84,\"2\":4.12,\"3\":2.38,\"4\":19.5,\"5\":89,\"6\":1.8,\"7\":0.83,\"8\":0.48,\"9\":1.56,\"10\":9.01,\"11\":0.57,\"12\":1.64,\"13\":480},{\"0\":3,\"1\":12.45,\"2\":3.03,\"3\":2.64,\"4\":27.0,\"5\":97,\"6\":1.9,\"7\":0.58,\"8\":0.63,\"9\":1.14,\"10\":7.5,\"11\":0.67,\"12\":1.73,\"13\":880},{\"0\":3,\"1\":14.34,\"2\":1.68,\"3\":2.7,\"4\":25.0,\"5\":98,\"6\":2.8,\"7\":1.31,\"8\":0.53,\"9\":2.7,\"10\":13.0,\"11\":0.57,\"12\":1.96,\"13\":660},{\"0\":3,\"1\":13.48,\"2\":1.67,\"3\":2.64,\"4\":22.5,\"5\":89,\"6\":2.6,\"7\":1.1,\"8\":0.52,\"9\":2.29,\"10\":11.75,\"11\":0.57,\"12\":1.78,\"13\":620},{\"0\":3,\"1\":12.36,\"2\":3.83,\"3\":2.38,\"4\":21.0,\"5\":88,\"6\":2.3,\"7\":0.92,\"8\":0.5,\"9\":1.04,\"10\":7.65,\"11\":0.56,\"12\":1.58,\"13\":520},{\"0\":3,\"1\":13.69,\"2\":3.26,\"3\":2.54,\"4\":20.0,\"5\":107,\"6\":1.83,\"7\":0.56,\"8\":0.5,\"9\":0.8,\"10\":5.88,\"11\":0.96,\"12\":1.82,\"13\":680},{\"0\":3,\"1\":12.85,\"2\":3.27,\"3\":2.58,\"4\":22.0,\"5\":106,\"6\":1.65,\"7\":0.6,\"8\":0.6,\"9\":0.96,\"10\":5.58,\"11\":0.87,\"12\":2.11,\"13\":570},{\"0\":3,\"1\":12.96,\"2\":3.45,\"3\":2.35,\"4\":18.5,\"5\":106,\"6\":1.39,\"7\":0.7,\"8\":0.4,\"9\":0.94,\"10\":5.28,\"11\":0.68,\"12\":1.75,\"13\":675},{\"0\":3,\"1\":13.78,\"2\":2.76,\"3\":2.3,\"4\":22.0,\"5\":90,\"6\":1.35,\"7\":0.68,\"8\":0.41,\"9\":1.03,\"10\":9.58,\"11\":0.7,\"12\":1.68,\"13\":615},{\"0\":3,\"1\":13.73,\"2\":4.36,\"3\":2.26,\"4\":22.5,\"5\":88,\"6\":1.28,\"7\":0.47,\"8\":0.52,\"9\":1.15,\"10\":6.62,\"11\":0.78,\"12\":1.75,\"13\":520},{\"0\":3,\"1\":13.45,\"2\":3.7,\"3\":2.6,\"4\":23.0,\"5\":111,\"6\":1.7,\"7\":0.92,\"8\":0.43,\"9\":1.46,\"10\":10.68,\"11\":0.85,\"12\":1.56,\"13\":695},{\"0\":3,\"1\":12.82,\"2\":3.37,\"3\":2.3,\"4\":19.5,\"5\":88,\"6\":1.48,\"7\":0.66,\"8\":0.4,\"9\":0.97,\"10\":10.26,\"11\":0.72,\"12\":1.75,\"13\":685},{\"0\":3,\"1\":13.58,\"2\":2.58,\"3\":2.69,\"4\":24.5,\"5\":105,\"6\":1.55,\"7\":0.84,\"8\":0.39,\"9\":1.54,\"10\":8.66,\"11\":0.74,\"12\":1.8,\"13\":750},{\"0\":3,\"1\":13.4,\"2\":4.6,\"3\":2.86,\"4\":25.0,\"5\":112,\"6\":1.98,\"7\":0.96,\"8\":0.27,\"9\":1.11,\"10\":8.5,\"11\":0.67,\"12\":1.92,\"13\":630},{\"0\":3,\"1\":12.2,\"2\":3.03,\"3\":2.32,\"4\":19.0,\"5\":96,\"6\":1.25,\"7\":0.49,\"8\":0.4,\"9\":0.73,\"10\":5.5,\"11\":0.66,\"12\":1.83,\"13\":510},{\"0\":3,\"1\":12.77,\"2\":2.39,\"3\":2.28,\"4\":19.5,\"5\":86,\"6\":1.39,\"7\":0.51,\"8\":0.48,\"9\":0.64,\"10\":9.899999,\"11\":0.57,\"12\":1.63,\"13\":470},{\"0\":3,\"1\":14.16,\"2\":2.51,\"3\":2.48,\"4\":20.0,\"5\":91,\"6\":1.68,\"7\":0.7,\"8\":0.44,\"9\":1.24,\"10\":9.7,\"11\":0.62,\"12\":1.71,\"13\":660},{\"0\":3,\"1\":13.71,\"2\":5.65,\"3\":2.45,\"4\":20.5,\"5\":95,\"6\":1.68,\"7\":0.61,\"8\":0.52,\"9\":1.06,\"10\":7.7,\"11\":0.64,\"12\":1.74,\"13\":740},{\"0\":3,\"1\":13.4,\"2\":3.91,\"3\":2.48,\"4\":23.0,\"5\":102,\"6\":1.8,\"7\":0.75,\"8\":0.43,\"9\":1.41,\"10\":7.3,\"11\":0.7,\"12\":1.56,\"13\":750},{\"0\":3,\"1\":13.27,\"2\":4.28,\"3\":2.26,\"4\":20.0,\"5\":120,\"6\":1.59,\"7\":0.69,\"8\":0.43,\"9\":1.35,\"10\":10.2,\"11\":0.59,\"12\":1.56,\"13\":835},{\"0\":3,\"1\":13.17,\"2\":2.59,\"3\":2.37,\"4\":20.0,\"5\":120,\"6\":1.65,\"7\":0.68,\"8\":0.53,\"9\":1.46,\"10\":9.3,\"11\":0.6,\"12\":1.62,\"13\":840},{\"0\":3,\"1\":14.13,\"2\":4.1,\"3\":2.74,\"4\":24.5,\"5\":96,\"6\":2.05,\"7\":0.76,\"8\":0.56,\"9\":1.35,\"10\":9.2,\"11\":0.61,\"12\":1.6,\"13\":560}]'"
          },
          "execution_count": 151,
          "metadata": {},
          "output_type": "execute_result"
        }
      ]
    },
    {
      "metadata": {},
      "cell_type": "markdown",
      "source": "## Reading HTML content "
    },
    {
      "metadata": {
        "trusted": true
      },
      "cell_type": "code",
      "source": "url = 'https://www.fdic.gov/bank/individual/failed/banklist.html'\n\ndfs = pd.read_html(url)",
      "execution_count": 76,
      "outputs": [
        {
          "output_type": "error",
          "ename": "ImportError",
          "evalue": "html5lib not found, please install it",
          "traceback": [
            "\u001b[0;31m---------------------------------------------------------------------------\u001b[0m",
            "\u001b[0;31mImportError\u001b[0m                               Traceback (most recent call last)",
            "\u001b[0;32m<ipython-input-76-a5fa4ac32976>\u001b[0m in \u001b[0;36m<module>\u001b[0;34m()\u001b[0m\n\u001b[1;32m      1\u001b[0m \u001b[0murl\u001b[0m \u001b[0;34m=\u001b[0m \u001b[0;34m'https://www.fdic.gov/bank/individual/failed/banklist.html'\u001b[0m\u001b[0;34m\u001b[0m\u001b[0m\n\u001b[1;32m      2\u001b[0m \u001b[0;34m\u001b[0m\u001b[0m\n\u001b[0;32m----> 3\u001b[0;31m \u001b[0mdfs\u001b[0m \u001b[0;34m=\u001b[0m \u001b[0mpd\u001b[0m\u001b[0;34m.\u001b[0m\u001b[0mread_html\u001b[0m\u001b[0;34m(\u001b[0m\u001b[0murl\u001b[0m\u001b[0;34m)\u001b[0m\u001b[0;34m\u001b[0m\u001b[0m\n\u001b[0m",
            "\u001b[0;32m~/anaconda3_420/lib/python3.5/site-packages/pandas/io/html.py\u001b[0m in \u001b[0;36mread_html\u001b[0;34m(io, match, flavor, header, index_col, skiprows, attrs, parse_dates, tupleize_cols, thousands, encoding, decimal, converters, na_values, keep_default_na)\u001b[0m\n\u001b[1;32m    894\u001b[0m                   \u001b[0mthousands\u001b[0m\u001b[0;34m=\u001b[0m\u001b[0mthousands\u001b[0m\u001b[0;34m,\u001b[0m \u001b[0mattrs\u001b[0m\u001b[0;34m=\u001b[0m\u001b[0mattrs\u001b[0m\u001b[0;34m,\u001b[0m \u001b[0mencoding\u001b[0m\u001b[0;34m=\u001b[0m\u001b[0mencoding\u001b[0m\u001b[0;34m,\u001b[0m\u001b[0;34m\u001b[0m\u001b[0m\n\u001b[1;32m    895\u001b[0m                   \u001b[0mdecimal\u001b[0m\u001b[0;34m=\u001b[0m\u001b[0mdecimal\u001b[0m\u001b[0;34m,\u001b[0m \u001b[0mconverters\u001b[0m\u001b[0;34m=\u001b[0m\u001b[0mconverters\u001b[0m\u001b[0;34m,\u001b[0m \u001b[0mna_values\u001b[0m\u001b[0;34m=\u001b[0m\u001b[0mna_values\u001b[0m\u001b[0;34m,\u001b[0m\u001b[0;34m\u001b[0m\u001b[0m\n\u001b[0;32m--> 896\u001b[0;31m                   keep_default_na=keep_default_na)\n\u001b[0m",
            "\u001b[0;32m~/anaconda3_420/lib/python3.5/site-packages/pandas/io/html.py\u001b[0m in \u001b[0;36m_parse\u001b[0;34m(flavor, io, match, attrs, encoding, **kwargs)\u001b[0m\n\u001b[1;32m    721\u001b[0m     \u001b[0mretained\u001b[0m \u001b[0;34m=\u001b[0m \u001b[0;32mNone\u001b[0m\u001b[0;34m\u001b[0m\u001b[0m\n\u001b[1;32m    722\u001b[0m     \u001b[0;32mfor\u001b[0m \u001b[0mflav\u001b[0m \u001b[0;32min\u001b[0m \u001b[0mflavor\u001b[0m\u001b[0;34m:\u001b[0m\u001b[0;34m\u001b[0m\u001b[0m\n\u001b[0;32m--> 723\u001b[0;31m         \u001b[0mparser\u001b[0m \u001b[0;34m=\u001b[0m \u001b[0m_parser_dispatch\u001b[0m\u001b[0;34m(\u001b[0m\u001b[0mflav\u001b[0m\u001b[0;34m)\u001b[0m\u001b[0;34m\u001b[0m\u001b[0m\n\u001b[0m\u001b[1;32m    724\u001b[0m         \u001b[0mp\u001b[0m \u001b[0;34m=\u001b[0m \u001b[0mparser\u001b[0m\u001b[0;34m(\u001b[0m\u001b[0mio\u001b[0m\u001b[0;34m,\u001b[0m \u001b[0mcompiled_match\u001b[0m\u001b[0;34m,\u001b[0m \u001b[0mattrs\u001b[0m\u001b[0;34m,\u001b[0m \u001b[0mencoding\u001b[0m\u001b[0;34m)\u001b[0m\u001b[0;34m\u001b[0m\u001b[0m\n\u001b[1;32m    725\u001b[0m \u001b[0;34m\u001b[0m\u001b[0m\n",
            "\u001b[0;32m~/anaconda3_420/lib/python3.5/site-packages/pandas/io/html.py\u001b[0m in \u001b[0;36m_parser_dispatch\u001b[0;34m(flavor)\u001b[0m\n\u001b[1;32m    666\u001b[0m     \u001b[0;32mif\u001b[0m \u001b[0mflavor\u001b[0m \u001b[0;32min\u001b[0m \u001b[0;34m(\u001b[0m\u001b[0;34m'bs4'\u001b[0m\u001b[0;34m,\u001b[0m \u001b[0;34m'html5lib'\u001b[0m\u001b[0;34m)\u001b[0m\u001b[0;34m:\u001b[0m\u001b[0;34m\u001b[0m\u001b[0m\n\u001b[1;32m    667\u001b[0m         \u001b[0;32mif\u001b[0m \u001b[0;32mnot\u001b[0m \u001b[0m_HAS_HTML5LIB\u001b[0m\u001b[0;34m:\u001b[0m\u001b[0;34m\u001b[0m\u001b[0m\n\u001b[0;32m--> 668\u001b[0;31m             \u001b[0;32mraise\u001b[0m \u001b[0mImportError\u001b[0m\u001b[0;34m(\u001b[0m\u001b[0;34m\"html5lib not found, please install it\"\u001b[0m\u001b[0;34m)\u001b[0m\u001b[0;34m\u001b[0m\u001b[0m\n\u001b[0m\u001b[1;32m    669\u001b[0m         \u001b[0;32mif\u001b[0m \u001b[0;32mnot\u001b[0m \u001b[0m_HAS_BS4\u001b[0m\u001b[0;34m:\u001b[0m\u001b[0;34m\u001b[0m\u001b[0m\n\u001b[1;32m    670\u001b[0m             raise ImportError(\n",
            "\u001b[0;31mImportError\u001b[0m: html5lib not found, please install it"
          ]
        }
      ]
    },
    {
      "metadata": {
        "trusted": true
      },
      "cell_type": "code",
      "source": "dfs[0]",
      "execution_count": 77,
      "outputs": [
        {
          "output_type": "error",
          "ename": "NameError",
          "evalue": "name 'dfs' is not defined",
          "traceback": [
            "\u001b[0;31m---------------------------------------------------------------------------\u001b[0m",
            "\u001b[0;31mNameError\u001b[0m                                 Traceback (most recent call last)",
            "\u001b[0;32m<ipython-input-77-45eca48fe58f>\u001b[0m in \u001b[0;36m<module>\u001b[0;34m()\u001b[0m\n\u001b[0;32m----> 1\u001b[0;31m \u001b[0mdfs\u001b[0m\u001b[0;34m[\u001b[0m\u001b[0;36m0\u001b[0m\u001b[0;34m]\u001b[0m\u001b[0;34m\u001b[0m\u001b[0m\n\u001b[0m",
            "\u001b[0;31mNameError\u001b[0m: name 'dfs' is not defined"
          ]
        }
      ]
    },
    {
      "metadata": {
        "trusted": false
      },
      "cell_type": "code",
      "source": "url_mcc = 'https://en.wikipedia.org/wiki/Mobile_country_code'\ndfs = pd.read_html(url_mcc, match='Country', header=0)",
      "execution_count": 165,
      "outputs": []
    },
    {
      "metadata": {
        "trusted": false
      },
      "cell_type": "code",
      "source": "dfs[0]",
      "execution_count": 166,
      "outputs": [
        {
          "data": {
            "text/html": "<div>\n<style scoped>\n    .dataframe tbody tr th:only-of-type {\n        vertical-align: middle;\n    }\n\n    .dataframe tbody tr th {\n        vertical-align: top;\n    }\n\n    .dataframe thead th {\n        text-align: right;\n    }\n</style>\n<table border=\"1\" class=\"dataframe\">\n  <thead>\n    <tr style=\"text-align: right;\">\n      <th></th>\n      <th>Mobile Country Code</th>\n      <th>Country</th>\n      <th>ISO 3166</th>\n      <th>Mobile Network Codes</th>\n      <th>Remarks</th>\n    </tr>\n  </thead>\n  <tbody>\n    <tr>\n      <th>0</th>\n      <td>289</td>\n      <td>A Abkhazia</td>\n      <td>GE-AB</td>\n      <td>List of Mobile Network Codes in Abkhasia</td>\n      <td>MCC is not listed by ITU</td>\n    </tr>\n    <tr>\n      <th>1</th>\n      <td>412</td>\n      <td>Afghanistan</td>\n      <td>AF</td>\n      <td>List of Mobile Network Codes in Afghanistan</td>\n      <td>NaN</td>\n    </tr>\n    <tr>\n      <th>2</th>\n      <td>276</td>\n      <td>Albania</td>\n      <td>AL</td>\n      <td>List of Mobile Network Codes in Albania</td>\n      <td>NaN</td>\n    </tr>\n    <tr>\n      <th>3</th>\n      <td>603</td>\n      <td>Algeria</td>\n      <td>DZ</td>\n      <td>List of Mobile Network Codes in Algeria</td>\n      <td>NaN</td>\n    </tr>\n    <tr>\n      <th>4</th>\n      <td>544</td>\n      <td>American Samoa (United States of America)</td>\n      <td>AS</td>\n      <td>List of Mobile Network Codes in American Samoa</td>\n      <td>NaN</td>\n    </tr>\n    <tr>\n      <th>5</th>\n      <td>213</td>\n      <td>Andorra</td>\n      <td>AD</td>\n      <td>List of Mobile Network Codes in Andorra</td>\n      <td>NaN</td>\n    </tr>\n    <tr>\n      <th>6</th>\n      <td>631</td>\n      <td>Angola</td>\n      <td>AO</td>\n      <td>List of Mobile Network Codes in Angola</td>\n      <td>NaN</td>\n    </tr>\n    <tr>\n      <th>7</th>\n      <td>365</td>\n      <td>Anguilla (United Kingdom)</td>\n      <td>AI</td>\n      <td>List of Mobile Network Codes in Anguilla</td>\n      <td>NaN</td>\n    </tr>\n    <tr>\n      <th>8</th>\n      <td>344</td>\n      <td>Antigua and Barbuda</td>\n      <td>AG</td>\n      <td>List of Mobile Network Codes in Antigua and Ba...</td>\n      <td>NaN</td>\n    </tr>\n    <tr>\n      <th>9</th>\n      <td>722</td>\n      <td>Argentina</td>\n      <td>AR</td>\n      <td>List of Mobile Network Codes in Argentina</td>\n      <td>NaN</td>\n    </tr>\n    <tr>\n      <th>10</th>\n      <td>283</td>\n      <td>Armenia</td>\n      <td>AM</td>\n      <td>List of Mobile Network Codes in Armenia</td>\n      <td>NaN</td>\n    </tr>\n    <tr>\n      <th>11</th>\n      <td>363</td>\n      <td>Aruba</td>\n      <td>AW</td>\n      <td>List of Mobile Network Codes in Aruba</td>\n      <td>NaN</td>\n    </tr>\n    <tr>\n      <th>12</th>\n      <td>505</td>\n      <td>Australia</td>\n      <td>AU</td>\n      <td>List of Mobile Network Codes in Australia</td>\n      <td>NaN</td>\n    </tr>\n    <tr>\n      <th>13</th>\n      <td>232</td>\n      <td>Austria</td>\n      <td>AT</td>\n      <td>List of Mobile Network Codes in Austria</td>\n      <td>NaN</td>\n    </tr>\n    <tr>\n      <th>14</th>\n      <td>400</td>\n      <td>Azerbaijan</td>\n      <td>AZ</td>\n      <td>List of Mobile Network Codes in Azerbaijan</td>\n      <td>NaN</td>\n    </tr>\n    <tr>\n      <th>15</th>\n      <td>364</td>\n      <td>B Bahamas</td>\n      <td>BS</td>\n      <td>List of Mobile Network Codes in Bahamas</td>\n      <td>NaN</td>\n    </tr>\n    <tr>\n      <th>16</th>\n      <td>426</td>\n      <td>Bahrain</td>\n      <td>BH</td>\n      <td>List of Mobile Network Codes in Bahrain</td>\n      <td>NaN</td>\n    </tr>\n    <tr>\n      <th>17</th>\n      <td>470</td>\n      <td>Bangladesh</td>\n      <td>BD</td>\n      <td>List of Mobile Network Codes in Bangladesh</td>\n      <td>NaN</td>\n    </tr>\n    <tr>\n      <th>18</th>\n      <td>342</td>\n      <td>Barbados</td>\n      <td>BB</td>\n      <td>List of Mobile Network Codes in Barbados</td>\n      <td>NaN</td>\n    </tr>\n    <tr>\n      <th>19</th>\n      <td>257</td>\n      <td>Belarus</td>\n      <td>BY</td>\n      <td>List of Mobile Network Codes in Belarus</td>\n      <td>NaN</td>\n    </tr>\n    <tr>\n      <th>20</th>\n      <td>206</td>\n      <td>Belgium</td>\n      <td>BE</td>\n      <td>List of Mobile Network Codes in Belgium</td>\n      <td>NaN</td>\n    </tr>\n    <tr>\n      <th>21</th>\n      <td>702</td>\n      <td>Belize</td>\n      <td>BZ</td>\n      <td>List of Mobile Network Codes in Belize</td>\n      <td>NaN</td>\n    </tr>\n    <tr>\n      <th>22</th>\n      <td>616</td>\n      <td>Benin</td>\n      <td>BJ</td>\n      <td>List of Mobile Network Codes in Benin</td>\n      <td>NaN</td>\n    </tr>\n    <tr>\n      <th>23</th>\n      <td>350</td>\n      <td>Bermuda</td>\n      <td>BM</td>\n      <td>List of Mobile Network Codes in Bermuda</td>\n      <td>NaN</td>\n    </tr>\n    <tr>\n      <th>24</th>\n      <td>402</td>\n      <td>Bhutan</td>\n      <td>BT</td>\n      <td>List of Mobile Network Codes in Bhutan</td>\n      <td>NaN</td>\n    </tr>\n    <tr>\n      <th>25</th>\n      <td>736</td>\n      <td>Bolivia</td>\n      <td>BO</td>\n      <td>List of Mobile Network Codes in Bolivia</td>\n      <td>NaN</td>\n    </tr>\n    <tr>\n      <th>26</th>\n      <td>362</td>\n      <td>Bonaire, Sint Eustatius and Saba</td>\n      <td>BQ</td>\n      <td>List of Mobile Network Codes in the former Net...</td>\n      <td>NaN</td>\n    </tr>\n    <tr>\n      <th>27</th>\n      <td>218</td>\n      <td>Bosnia and Herzegovina</td>\n      <td>BA</td>\n      <td>List of Mobile Network Codes in Bosnia and Her...</td>\n      <td>NaN</td>\n    </tr>\n    <tr>\n      <th>28</th>\n      <td>652</td>\n      <td>Botswana</td>\n      <td>BW</td>\n      <td>List of Mobile Network Codes in Botswana</td>\n      <td>NaN</td>\n    </tr>\n    <tr>\n      <th>29</th>\n      <td>724</td>\n      <td>Brazil</td>\n      <td>BR</td>\n      <td>List of Mobile Network Codes in Brazil</td>\n      <td>NaN</td>\n    </tr>\n    <tr>\n      <th>...</th>\n      <td>...</td>\n      <td>...</td>\n      <td>...</td>\n      <td>...</td>\n      <td>...</td>\n    </tr>\n    <tr>\n      <th>222</th>\n      <td>374</td>\n      <td>Trinidad and Tobago</td>\n      <td>TT</td>\n      <td>List of Mobile Network Codes in Trinidad and T...</td>\n      <td>NaN</td>\n    </tr>\n    <tr>\n      <th>223</th>\n      <td>605</td>\n      <td>Tunisia</td>\n      <td>TN</td>\n      <td>List of Mobile Network Codes in Tunisia</td>\n      <td>NaN</td>\n    </tr>\n    <tr>\n      <th>224</th>\n      <td>286</td>\n      <td>Turkey</td>\n      <td>TR</td>\n      <td>List of Mobile Network Codes in Turkey</td>\n      <td>NaN</td>\n    </tr>\n    <tr>\n      <th>225</th>\n      <td>438</td>\n      <td>Turkmenistan</td>\n      <td>TM</td>\n      <td>List of Mobile Network Codes in Turkmenistan</td>\n      <td>NaN</td>\n    </tr>\n    <tr>\n      <th>226</th>\n      <td>376</td>\n      <td>Turks and Caicos Islands</td>\n      <td>TC</td>\n      <td>List of Mobile Network Codes in the Turks and ...</td>\n      <td>NaN</td>\n    </tr>\n    <tr>\n      <th>227</th>\n      <td>553</td>\n      <td>Tuvalu</td>\n      <td>TV</td>\n      <td>List of Mobile Network Codes in Tuvalu</td>\n      <td>NaN</td>\n    </tr>\n    <tr>\n      <th>228</th>\n      <td>641</td>\n      <td>U Uganda</td>\n      <td>UG</td>\n      <td>List of Mobile Network Codes in Uganda</td>\n      <td>NaN</td>\n    </tr>\n    <tr>\n      <th>229</th>\n      <td>255</td>\n      <td>Ukraine</td>\n      <td>UA</td>\n      <td>List of Mobile Network Codes in Ukraine</td>\n      <td>NaN</td>\n    </tr>\n    <tr>\n      <th>230</th>\n      <td>424</td>\n      <td>United Arab Emirates</td>\n      <td>AE</td>\n      <td>List of Mobile Network Codes in the United Ara...</td>\n      <td>NaN</td>\n    </tr>\n    <tr>\n      <th>231</th>\n      <td>430</td>\n      <td>United Arab Emirates (Abu Dhabi)</td>\n      <td>AE</td>\n      <td>no networks yet</td>\n      <td>NaN</td>\n    </tr>\n    <tr>\n      <th>232</th>\n      <td>431</td>\n      <td>United Arab Emirates (Dubai)</td>\n      <td>AE</td>\n      <td>no networks yet</td>\n      <td>NaN</td>\n    </tr>\n    <tr>\n      <th>233</th>\n      <td>234</td>\n      <td>United Kingdom</td>\n      <td>GB</td>\n      <td>List of Mobile Network Codes in the United Kin...</td>\n      <td>NaN</td>\n    </tr>\n    <tr>\n      <th>234</th>\n      <td>235</td>\n      <td>List of Mobile Network Codes in the United Kin...</td>\n      <td>NaN</td>\n      <td>NaN</td>\n      <td>NaN</td>\n    </tr>\n    <tr>\n      <th>235</th>\n      <td>310</td>\n      <td>United States of America</td>\n      <td>US</td>\n      <td>List of Mobile Network Codes in the United Sta...</td>\n      <td>NaN</td>\n    </tr>\n    <tr>\n      <th>236</th>\n      <td>311</td>\n      <td>List of Mobile Network Codes in the United Sta...</td>\n      <td>NaN</td>\n      <td>NaN</td>\n      <td>NaN</td>\n    </tr>\n    <tr>\n      <th>237</th>\n      <td>312</td>\n      <td>List of Mobile Network Codes in the United Sta...</td>\n      <td>NaN</td>\n      <td>NaN</td>\n      <td>NaN</td>\n    </tr>\n    <tr>\n      <th>238</th>\n      <td>313</td>\n      <td>List of Mobile Network Codes in the United Sta...</td>\n      <td>NaN</td>\n      <td>NaN</td>\n      <td>NaN</td>\n    </tr>\n    <tr>\n      <th>239</th>\n      <td>314</td>\n      <td>List of Mobile Network Codes in the United Sta...</td>\n      <td>NaN</td>\n      <td>NaN</td>\n      <td>NaN</td>\n    </tr>\n    <tr>\n      <th>240</th>\n      <td>315</td>\n      <td>List of Mobile Network Codes in the United Sta...</td>\n      <td>NaN</td>\n      <td>NaN</td>\n      <td>NaN</td>\n    </tr>\n    <tr>\n      <th>241</th>\n      <td>316</td>\n      <td>List of Mobile Network Codes in the United Sta...</td>\n      <td>NaN</td>\n      <td>NaN</td>\n      <td>NaN</td>\n    </tr>\n    <tr>\n      <th>242</th>\n      <td>332</td>\n      <td>United States Virgin Islands</td>\n      <td>VI</td>\n      <td>List of Mobile Network Codes in the United Sta...</td>\n      <td>The US Virgin Islands share the US MCCs instea...</td>\n    </tr>\n    <tr>\n      <th>243</th>\n      <td>748</td>\n      <td>Uruguay</td>\n      <td>UY</td>\n      <td>List of Mobile Network Codes in Uruguay</td>\n      <td>NaN</td>\n    </tr>\n    <tr>\n      <th>244</th>\n      <td>434</td>\n      <td>Uzbekistan</td>\n      <td>UZ</td>\n      <td>List of Mobile Network Codes in the Uzbekistan</td>\n      <td>NaN</td>\n    </tr>\n    <tr>\n      <th>245</th>\n      <td>541</td>\n      <td>V Vanuatu</td>\n      <td>VU</td>\n      <td>List of Mobile Network Codes in Vanuatu</td>\n      <td>NaN</td>\n    </tr>\n    <tr>\n      <th>246</th>\n      <td>734</td>\n      <td>Venezuela</td>\n      <td>VE</td>\n      <td>List of Mobile Network Codes in Venezuela</td>\n      <td>NaN</td>\n    </tr>\n    <tr>\n      <th>247</th>\n      <td>452</td>\n      <td>Vietnam</td>\n      <td>VN</td>\n      <td>List of Mobile Network Codes in the Vietnam</td>\n      <td>NaN</td>\n    </tr>\n    <tr>\n      <th>248</th>\n      <td>543</td>\n      <td>W Wallis and Futuna</td>\n      <td>WF</td>\n      <td>List of Mobile Network Codes in Wallis and Futuna</td>\n      <td>NaN</td>\n    </tr>\n    <tr>\n      <th>249</th>\n      <td>421</td>\n      <td>Y Yemen</td>\n      <td>YE</td>\n      <td>List of Mobile Network Codes in the Yemen</td>\n      <td>NaN</td>\n    </tr>\n    <tr>\n      <th>250</th>\n      <td>645</td>\n      <td>Z Zambia</td>\n      <td>ZM</td>\n      <td>List of Mobile Network Codes in Zambia</td>\n      <td>NaN</td>\n    </tr>\n    <tr>\n      <th>251</th>\n      <td>648</td>\n      <td>Zimbabwe</td>\n      <td>ZW</td>\n      <td>List of Mobile Network Codes in Zimbabwe</td>\n      <td>NaN</td>\n    </tr>\n  </tbody>\n</table>\n<p>252 rows × 5 columns</p>\n</div>",
            "text/plain": "    Mobile Country Code                                            Country  \\\n0                   289                                         A Abkhazia   \n1                   412                                        Afghanistan   \n2                   276                                            Albania   \n3                   603                                            Algeria   \n4                   544          American Samoa (United States of America)   \n5                   213                                            Andorra   \n6                   631                                             Angola   \n7                   365                          Anguilla (United Kingdom)   \n8                   344                                Antigua and Barbuda   \n9                   722                                          Argentina   \n10                  283                                            Armenia   \n11                  363                                              Aruba   \n12                  505                                          Australia   \n13                  232                                            Austria   \n14                  400                                         Azerbaijan   \n15                  364                                          B Bahamas   \n16                  426                                            Bahrain   \n17                  470                                         Bangladesh   \n18                  342                                           Barbados   \n19                  257                                            Belarus   \n20                  206                                            Belgium   \n21                  702                                             Belize   \n22                  616                                              Benin   \n23                  350                                            Bermuda   \n24                  402                                             Bhutan   \n25                  736                                            Bolivia   \n26                  362                   Bonaire, Sint Eustatius and Saba   \n27                  218                             Bosnia and Herzegovina   \n28                  652                                           Botswana   \n29                  724                                             Brazil   \n..                  ...                                                ...   \n222                 374                                Trinidad and Tobago   \n223                 605                                            Tunisia   \n224                 286                                             Turkey   \n225                 438                                       Turkmenistan   \n226                 376                           Turks and Caicos Islands   \n227                 553                                             Tuvalu   \n228                 641                                           U Uganda   \n229                 255                                            Ukraine   \n230                 424                               United Arab Emirates   \n231                 430                   United Arab Emirates (Abu Dhabi)   \n232                 431                       United Arab Emirates (Dubai)   \n233                 234                                     United Kingdom   \n234                 235  List of Mobile Network Codes in the United Kin...   \n235                 310                           United States of America   \n236                 311  List of Mobile Network Codes in the United Sta...   \n237                 312  List of Mobile Network Codes in the United Sta...   \n238                 313  List of Mobile Network Codes in the United Sta...   \n239                 314  List of Mobile Network Codes in the United Sta...   \n240                 315  List of Mobile Network Codes in the United Sta...   \n241                 316  List of Mobile Network Codes in the United Sta...   \n242                 332                       United States Virgin Islands   \n243                 748                                            Uruguay   \n244                 434                                         Uzbekistan   \n245                 541                                          V Vanuatu   \n246                 734                                          Venezuela   \n247                 452                                            Vietnam   \n248                 543                                W Wallis and Futuna   \n249                 421                                            Y Yemen   \n250                 645                                           Z Zambia   \n251                 648                                           Zimbabwe   \n\n    ISO 3166                               Mobile Network Codes  \\\n0      GE-AB           List of Mobile Network Codes in Abkhasia   \n1         AF        List of Mobile Network Codes in Afghanistan   \n2         AL            List of Mobile Network Codes in Albania   \n3         DZ            List of Mobile Network Codes in Algeria   \n4         AS     List of Mobile Network Codes in American Samoa   \n5         AD            List of Mobile Network Codes in Andorra   \n6         AO             List of Mobile Network Codes in Angola   \n7         AI           List of Mobile Network Codes in Anguilla   \n8         AG  List of Mobile Network Codes in Antigua and Ba...   \n9         AR          List of Mobile Network Codes in Argentina   \n10        AM            List of Mobile Network Codes in Armenia   \n11        AW              List of Mobile Network Codes in Aruba   \n12        AU          List of Mobile Network Codes in Australia   \n13        AT            List of Mobile Network Codes in Austria   \n14        AZ         List of Mobile Network Codes in Azerbaijan   \n15        BS            List of Mobile Network Codes in Bahamas   \n16        BH            List of Mobile Network Codes in Bahrain   \n17        BD         List of Mobile Network Codes in Bangladesh   \n18        BB           List of Mobile Network Codes in Barbados   \n19        BY            List of Mobile Network Codes in Belarus   \n20        BE            List of Mobile Network Codes in Belgium   \n21        BZ             List of Mobile Network Codes in Belize   \n22        BJ              List of Mobile Network Codes in Benin   \n23        BM            List of Mobile Network Codes in Bermuda   \n24        BT             List of Mobile Network Codes in Bhutan   \n25        BO            List of Mobile Network Codes in Bolivia   \n26        BQ  List of Mobile Network Codes in the former Net...   \n27        BA  List of Mobile Network Codes in Bosnia and Her...   \n28        BW           List of Mobile Network Codes in Botswana   \n29        BR             List of Mobile Network Codes in Brazil   \n..       ...                                                ...   \n222       TT  List of Mobile Network Codes in Trinidad and T...   \n223       TN            List of Mobile Network Codes in Tunisia   \n224       TR             List of Mobile Network Codes in Turkey   \n225       TM       List of Mobile Network Codes in Turkmenistan   \n226       TC  List of Mobile Network Codes in the Turks and ...   \n227       TV             List of Mobile Network Codes in Tuvalu   \n228       UG             List of Mobile Network Codes in Uganda   \n229       UA            List of Mobile Network Codes in Ukraine   \n230       AE  List of Mobile Network Codes in the United Ara...   \n231       AE                                    no networks yet   \n232       AE                                    no networks yet   \n233       GB  List of Mobile Network Codes in the United Kin...   \n234      NaN                                                NaN   \n235       US  List of Mobile Network Codes in the United Sta...   \n236      NaN                                                NaN   \n237      NaN                                                NaN   \n238      NaN                                                NaN   \n239      NaN                                                NaN   \n240      NaN                                                NaN   \n241      NaN                                                NaN   \n242       VI  List of Mobile Network Codes in the United Sta...   \n243       UY            List of Mobile Network Codes in Uruguay   \n244       UZ     List of Mobile Network Codes in the Uzbekistan   \n245       VU            List of Mobile Network Codes in Vanuatu   \n246       VE          List of Mobile Network Codes in Venezuela   \n247       VN        List of Mobile Network Codes in the Vietnam   \n248       WF  List of Mobile Network Codes in Wallis and Futuna   \n249       YE          List of Mobile Network Codes in the Yemen   \n250       ZM             List of Mobile Network Codes in Zambia   \n251       ZW           List of Mobile Network Codes in Zimbabwe   \n\n                                               Remarks  \n0                             MCC is not listed by ITU  \n1                                                  NaN  \n2                                                  NaN  \n3                                                  NaN  \n4                                                  NaN  \n5                                                  NaN  \n6                                                  NaN  \n7                                                  NaN  \n8                                                  NaN  \n9                                                  NaN  \n10                                                 NaN  \n11                                                 NaN  \n12                                                 NaN  \n13                                                 NaN  \n14                                                 NaN  \n15                                                 NaN  \n16                                                 NaN  \n17                                                 NaN  \n18                                                 NaN  \n19                                                 NaN  \n20                                                 NaN  \n21                                                 NaN  \n22                                                 NaN  \n23                                                 NaN  \n24                                                 NaN  \n25                                                 NaN  \n26                                                 NaN  \n27                                                 NaN  \n28                                                 NaN  \n29                                                 NaN  \n..                                                 ...  \n222                                                NaN  \n223                                                NaN  \n224                                                NaN  \n225                                                NaN  \n226                                                NaN  \n227                                                NaN  \n228                                                NaN  \n229                                                NaN  \n230                                                NaN  \n231                                                NaN  \n232                                                NaN  \n233                                                NaN  \n234                                                NaN  \n235                                                NaN  \n236                                                NaN  \n237                                                NaN  \n238                                                NaN  \n239                                                NaN  \n240                                                NaN  \n241                                                NaN  \n242  The US Virgin Islands share the US MCCs instea...  \n243                                                NaN  \n244                                                NaN  \n245                                                NaN  \n246                                                NaN  \n247                                                NaN  \n248                                                NaN  \n249                                                NaN  \n250                                                NaN  \n251                                                NaN  \n\n[252 rows x 5 columns]"
          },
          "execution_count": 166,
          "metadata": {},
          "output_type": "execute_result"
        }
      ]
    },
    {
      "metadata": {},
      "cell_type": "markdown",
      "source": "## Reading EXcel Files"
    },
    {
      "metadata": {
        "trusted": false
      },
      "cell_type": "code",
      "source": "df_excel=pd.read_excel('Excel_Sample.xlsx')",
      "execution_count": 169,
      "outputs": []
    },
    {
      "metadata": {
        "trusted": false
      },
      "cell_type": "code",
      "source": "df_excel.head()",
      "execution_count": 170,
      "outputs": [
        {
          "data": {
            "text/html": "<div>\n<style scoped>\n    .dataframe tbody tr th:only-of-type {\n        vertical-align: middle;\n    }\n\n    .dataframe tbody tr th {\n        vertical-align: top;\n    }\n\n    .dataframe thead th {\n        text-align: right;\n    }\n</style>\n<table border=\"1\" class=\"dataframe\">\n  <thead>\n    <tr style=\"text-align: right;\">\n      <th></th>\n      <th>a</th>\n      <th>b</th>\n      <th>c</th>\n      <th>d</th>\n    </tr>\n  </thead>\n  <tbody>\n    <tr>\n      <th>0</th>\n      <td>0</td>\n      <td>1</td>\n      <td>2</td>\n      <td>3</td>\n    </tr>\n    <tr>\n      <th>1</th>\n      <td>4</td>\n      <td>5</td>\n      <td>6</td>\n      <td>7</td>\n    </tr>\n    <tr>\n      <th>2</th>\n      <td>8</td>\n      <td>9</td>\n      <td>10</td>\n      <td>11</td>\n    </tr>\n    <tr>\n      <th>3</th>\n      <td>12</td>\n      <td>13</td>\n      <td>14</td>\n      <td>15</td>\n    </tr>\n  </tbody>\n</table>\n</div>",
            "text/plain": "    a   b   c   d\n0   0   1   2   3\n1   4   5   6   7\n2   8   9  10  11\n3  12  13  14  15"
          },
          "execution_count": 170,
          "metadata": {},
          "output_type": "execute_result"
        }
      ]
    },
    {
      "metadata": {},
      "cell_type": "markdown",
      "source": "## Pickling\nAll pandas objects are equipped with to_pickle methods which use Python’s cPickle module to save data structures to disk using the pickle format."
    },
    {
      "metadata": {
        "trusted": false
      },
      "cell_type": "code",
      "source": "df_excel.to_pickle('df_excel')",
      "execution_count": 171,
      "outputs": []
    },
    {
      "metadata": {
        "trusted": false
      },
      "cell_type": "code",
      "source": "df=pd.read_pickle('df_excel')",
      "execution_count": 172,
      "outputs": []
    },
    {
      "metadata": {
        "trusted": false
      },
      "cell_type": "code",
      "source": "df.head()",
      "execution_count": 173,
      "outputs": [
        {
          "data": {
            "text/html": "<div>\n<style scoped>\n    .dataframe tbody tr th:only-of-type {\n        vertical-align: middle;\n    }\n\n    .dataframe tbody tr th {\n        vertical-align: top;\n    }\n\n    .dataframe thead th {\n        text-align: right;\n    }\n</style>\n<table border=\"1\" class=\"dataframe\">\n  <thead>\n    <tr style=\"text-align: right;\">\n      <th></th>\n      <th>a</th>\n      <th>b</th>\n      <th>c</th>\n      <th>d</th>\n    </tr>\n  </thead>\n  <tbody>\n    <tr>\n      <th>0</th>\n      <td>0</td>\n      <td>1</td>\n      <td>2</td>\n      <td>3</td>\n    </tr>\n    <tr>\n      <th>1</th>\n      <td>4</td>\n      <td>5</td>\n      <td>6</td>\n      <td>7</td>\n    </tr>\n    <tr>\n      <th>2</th>\n      <td>8</td>\n      <td>9</td>\n      <td>10</td>\n      <td>11</td>\n    </tr>\n    <tr>\n      <th>3</th>\n      <td>12</td>\n      <td>13</td>\n      <td>14</td>\n      <td>15</td>\n    </tr>\n  </tbody>\n</table>\n</div>",
            "text/plain": "    a   b   c   d\n0   0   1   2   3\n1   4   5   6   7\n2   8   9  10  11\n3  12  13  14  15"
          },
          "execution_count": 173,
          "metadata": {},
          "output_type": "execute_result"
        }
      ]
    },
    {
      "metadata": {
        "trusted": false
      },
      "cell_type": "code",
      "source": "",
      "execution_count": null,
      "outputs": []
    }
  ],
  "metadata": {
    "kernelspec": {
      "name": "python3",
      "display_name": "Python 3",
      "language": "python"
    },
    "language_info": {
      "mimetype": "text/x-python",
      "nbconvert_exporter": "python",
      "name": "python",
      "pygments_lexer": "ipython3",
      "version": "3.5.4",
      "file_extension": ".py",
      "codemirror_mode": {
        "version": 3,
        "name": "ipython"
      }
    }
  },
  "nbformat": 4,
  "nbformat_minor": 2
}